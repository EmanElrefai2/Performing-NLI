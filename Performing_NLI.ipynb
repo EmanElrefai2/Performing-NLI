{
  "cells": [
    {
      "cell_type": "markdown",
      "metadata": {
        "id": "b9xCHwipzDuM"
      },
      "source": [
        "#### Utiles and functions implementation"
      ]
    },
    {
      "cell_type": "code",
      "execution_count": null,
      "metadata": {
        "colab": {
          "base_uri": "https://localhost:8080/"
        },
        "id": "KlAKlY-WRq1x",
        "outputId": "371cb919-34c0-434d-bb94-361dbfe78c17"
      },
      "outputs": [
        {
          "output_type": "stream",
          "name": "stdout",
          "text": [
            "Requirement already satisfied: transformers in /usr/local/lib/python3.10/dist-packages (4.35.2)\n",
            "Requirement already satisfied: filelock in /usr/local/lib/python3.10/dist-packages (from transformers) (3.13.1)\n",
            "Requirement already satisfied: huggingface-hub<1.0,>=0.16.4 in /usr/local/lib/python3.10/dist-packages (from transformers) (0.19.4)\n",
            "Requirement already satisfied: numpy>=1.17 in /usr/local/lib/python3.10/dist-packages (from transformers) (1.23.5)\n",
            "Requirement already satisfied: packaging>=20.0 in /usr/local/lib/python3.10/dist-packages (from transformers) (23.2)\n",
            "Requirement already satisfied: pyyaml>=5.1 in /usr/local/lib/python3.10/dist-packages (from transformers) (6.0.1)\n",
            "Requirement already satisfied: regex!=2019.12.17 in /usr/local/lib/python3.10/dist-packages (from transformers) (2023.6.3)\n",
            "Requirement already satisfied: requests in /usr/local/lib/python3.10/dist-packages (from transformers) (2.31.0)\n",
            "Requirement already satisfied: tokenizers<0.19,>=0.14 in /usr/local/lib/python3.10/dist-packages (from transformers) (0.15.0)\n",
            "Requirement already satisfied: safetensors>=0.3.1 in /usr/local/lib/python3.10/dist-packages (from transformers) (0.4.1)\n",
            "Requirement already satisfied: tqdm>=4.27 in /usr/local/lib/python3.10/dist-packages (from transformers) (4.66.1)\n",
            "Requirement already satisfied: fsspec>=2023.5.0 in /usr/local/lib/python3.10/dist-packages (from huggingface-hub<1.0,>=0.16.4->transformers) (2023.6.0)\n",
            "Requirement already satisfied: typing-extensions>=3.7.4.3 in /usr/local/lib/python3.10/dist-packages (from huggingface-hub<1.0,>=0.16.4->transformers) (4.5.0)\n",
            "Requirement already satisfied: charset-normalizer<4,>=2 in /usr/local/lib/python3.10/dist-packages (from requests->transformers) (3.3.2)\n",
            "Requirement already satisfied: idna<4,>=2.5 in /usr/local/lib/python3.10/dist-packages (from requests->transformers) (3.6)\n",
            "Requirement already satisfied: urllib3<3,>=1.21.1 in /usr/local/lib/python3.10/dist-packages (from requests->transformers) (2.0.7)\n",
            "Requirement already satisfied: certifi>=2017.4.17 in /usr/local/lib/python3.10/dist-packages (from requests->transformers) (2023.11.17)\n",
            "Requirement already satisfied: transformers[torch] in /usr/local/lib/python3.10/dist-packages (4.35.2)\n",
            "Requirement already satisfied: filelock in /usr/local/lib/python3.10/dist-packages (from transformers[torch]) (3.13.1)\n",
            "Requirement already satisfied: huggingface-hub<1.0,>=0.16.4 in /usr/local/lib/python3.10/dist-packages (from transformers[torch]) (0.19.4)\n",
            "Requirement already satisfied: numpy>=1.17 in /usr/local/lib/python3.10/dist-packages (from transformers[torch]) (1.23.5)\n",
            "Requirement already satisfied: packaging>=20.0 in /usr/local/lib/python3.10/dist-packages (from transformers[torch]) (23.2)\n",
            "Requirement already satisfied: pyyaml>=5.1 in /usr/local/lib/python3.10/dist-packages (from transformers[torch]) (6.0.1)\n",
            "Requirement already satisfied: regex!=2019.12.17 in /usr/local/lib/python3.10/dist-packages (from transformers[torch]) (2023.6.3)\n",
            "Requirement already satisfied: requests in /usr/local/lib/python3.10/dist-packages (from transformers[torch]) (2.31.0)\n",
            "Requirement already satisfied: tokenizers<0.19,>=0.14 in /usr/local/lib/python3.10/dist-packages (from transformers[torch]) (0.15.0)\n",
            "Requirement already satisfied: safetensors>=0.3.1 in /usr/local/lib/python3.10/dist-packages (from transformers[torch]) (0.4.1)\n",
            "Requirement already satisfied: tqdm>=4.27 in /usr/local/lib/python3.10/dist-packages (from transformers[torch]) (4.66.1)\n",
            "Requirement already satisfied: torch!=1.12.0,>=1.10 in /usr/local/lib/python3.10/dist-packages (from transformers[torch]) (2.1.0+cu121)\n",
            "Collecting accelerate>=0.20.3 (from transformers[torch])\n",
            "  Downloading accelerate-0.25.0-py3-none-any.whl (265 kB)\n",
            "\u001b[2K     \u001b[90m━━━━━━━━━━━━━━━━━━━━━━━━━━━━━━━━━━━━━━━━\u001b[0m \u001b[32m265.7/265.7 kB\u001b[0m \u001b[31m1.6 MB/s\u001b[0m eta \u001b[36m0:00:00\u001b[0m\n",
            "\u001b[?25hRequirement already satisfied: psutil in /usr/local/lib/python3.10/dist-packages (from accelerate>=0.20.3->transformers[torch]) (5.9.5)\n",
            "Requirement already satisfied: fsspec>=2023.5.0 in /usr/local/lib/python3.10/dist-packages (from huggingface-hub<1.0,>=0.16.4->transformers[torch]) (2023.6.0)\n",
            "Requirement already satisfied: typing-extensions>=3.7.4.3 in /usr/local/lib/python3.10/dist-packages (from huggingface-hub<1.0,>=0.16.4->transformers[torch]) (4.5.0)\n",
            "Requirement already satisfied: sympy in /usr/local/lib/python3.10/dist-packages (from torch!=1.12.0,>=1.10->transformers[torch]) (1.12)\n",
            "Requirement already satisfied: networkx in /usr/local/lib/python3.10/dist-packages (from torch!=1.12.0,>=1.10->transformers[torch]) (3.2.1)\n",
            "Requirement already satisfied: jinja2 in /usr/local/lib/python3.10/dist-packages (from torch!=1.12.0,>=1.10->transformers[torch]) (3.1.2)\n",
            "Requirement already satisfied: triton==2.1.0 in /usr/local/lib/python3.10/dist-packages (from torch!=1.12.0,>=1.10->transformers[torch]) (2.1.0)\n",
            "Requirement already satisfied: charset-normalizer<4,>=2 in /usr/local/lib/python3.10/dist-packages (from requests->transformers[torch]) (3.3.2)\n",
            "Requirement already satisfied: idna<4,>=2.5 in /usr/local/lib/python3.10/dist-packages (from requests->transformers[torch]) (3.6)\n",
            "Requirement already satisfied: urllib3<3,>=1.21.1 in /usr/local/lib/python3.10/dist-packages (from requests->transformers[torch]) (2.0.7)\n",
            "Requirement already satisfied: certifi>=2017.4.17 in /usr/local/lib/python3.10/dist-packages (from requests->transformers[torch]) (2023.11.17)\n",
            "Requirement already satisfied: MarkupSafe>=2.0 in /usr/local/lib/python3.10/dist-packages (from jinja2->torch!=1.12.0,>=1.10->transformers[torch]) (2.1.3)\n",
            "Requirement already satisfied: mpmath>=0.19 in /usr/local/lib/python3.10/dist-packages (from sympy->torch!=1.12.0,>=1.10->transformers[torch]) (1.3.0)\n",
            "Installing collected packages: accelerate\n",
            "Successfully installed accelerate-0.25.0\n"
          ]
        }
      ],
      "source": [
        "!pip install transformers\n",
        "# !pip install accelerate -U\n",
        "!pip install transformers[torch]"
      ]
    },
    {
      "cell_type": "code",
      "execution_count": null,
      "metadata": {
        "id": "tIJX3ZHH2XB1"
      },
      "outputs": [],
      "source": [
        "import pandas as pd\n",
        "import numpy as np\n",
        "import json\n",
        "import os\n",
        "import matplotlib.pyplot as plt\n",
        "import torch\n",
        "from transformers import AutoTokenizer, AutoModelForSequenceClassification, Trainer, TrainingArguments\n",
        "from sklearn.metrics import precision_score, recall_score, f1_score"
      ]
    },
    {
      "cell_type": "code",
      "execution_count": null,
      "metadata": {
        "id": "1dsq3DfF2Zc_",
        "colab": {
          "base_uri": "https://localhost:8080/"
        },
        "outputId": "6e176500-2bc6-41ae-e46b-febb109fca89"
      },
      "outputs": [
        {
          "output_type": "stream",
          "name": "stdout",
          "text": [
            "Mounted at /content/drive\n"
          ]
        }
      ],
      "source": [
        "from google.colab import drive\n",
        "drive.mount('/content/drive')"
      ]
    },
    {
      "cell_type": "code",
      "execution_count": null,
      "metadata": {
        "id": "nVApnb7MQRN2"
      },
      "outputs": [],
      "source": [
        "# set the path to the directory containing the JSON files\n",
        "directory_path = '/content/drive/MyDrive/Dreams come true ^^/master/Data Analytics/assignment/assign3/dataset/'\n",
        "train_path = '/content/drive/MyDrive/Dreams come true ^^/master/Data Analytics/assignment/assign3/dataset/train.json'\n",
        "valid_path = '/content/drive/MyDrive/Dreams come true ^^/master/Data Analytics/assignment/assign3/dataset/dev.json'\n",
        "test_path = '/content/drive/MyDrive/Dreams come true ^^/master/Data Analytics/assignment/assign3/dataset/test.json'\n",
        "train_file_name = 'train.csv'\n",
        "valid_file_name = 'dev.csv'\n",
        "test_file_name = 'test.csv'"
      ]
    },
    {
      "cell_type": "markdown",
      "metadata": {
        "id": "caAMwhxXzQxr"
      },
      "source": [
        "##### Functions created during the project"
      ]
    },
    {
      "cell_type": "code",
      "execution_count": null,
      "metadata": {
        "id": "XpP1E-s3i8pj"
      },
      "outputs": [],
      "source": [
        "# get min, max, madian for each string colomn and plot histogram and boxplot\n",
        "\n",
        "def get_stats(dataset, datatype , col_name, target):\n",
        "  # Calculate the average length of each document\n",
        "  doc_lengths = dataset[col_name].apply(len)\n",
        "  avg_doc_length = doc_lengths.mean()\n",
        "\n",
        "  # Determine the minimum, maximum, and median lengths of the documents\n",
        "  min_doc_length = doc_lengths.min()\n",
        "  max_doc_length = doc_lengths.max()\n",
        "  median_doc_length = doc_lengths.median()\n",
        "\n",
        "  print(f\"Average document length for {datatype}: {avg_doc_length:.2f} characters\")\n",
        "\n",
        "  # Min, max, and median length of documents\n",
        "  print(f\"Min {target} length for {datatype}: {min_doc_length} characters\")\n",
        "  print(f\"Max {target} length for {datatype}: {max_doc_length} characters\")\n",
        "  print(f\"Median {target} length for {datatype}: {median_doc_length} characters\")\n",
        "  print(\"-------------------------------------------------------------------------\")\n",
        "\n",
        "  # Plot boxplots of document lengths and hypothesis lengths\n",
        "  plt.hist(doc_lengths, bins=50)\n",
        "  # Set labels and title\n",
        "  plt.title(f\"Distribution of {target} Lengths for {datatype}\")\n",
        "  plt.xlabel(f\"{target} Length (characters)\")\n",
        "  plt.ylabel(\"Count\")\n",
        "  # Display the plot\n",
        "  plt.show()\n",
        "\n",
        " # Create a figure and axis\n",
        "  fig, ax = plt.subplots()\n",
        "  # Plot boxplots of document and hypothesis lengths\n",
        "  ax.boxplot(doc_lengths)\n",
        "  # Set labels and title\n",
        "  ax.set_xlabel(f'{col_name} Type')\n",
        "  ax.set_ylabel('Length')\n",
        "  ax.set_title(f'Distribution of {target} Lengths for {datatype}')\n",
        "  # Display the plot\n",
        "  plt.show()"
      ]
    },
    {
      "cell_type": "code",
      "execution_count": null,
      "metadata": {
        "id": "_e_aGNoYixtc"
      },
      "outputs": [],
      "source": [
        "# visualize_label using bar chart and pie chart\n",
        "def visualize_label(dataset, datatype):\n",
        "  print(f\"Visualize labels for the {datatype}\")\n",
        "  label_counts = dataset['labels'].value_counts()\n",
        "  print(\"The labels and corresponding counts\\n\",label_counts)\n",
        "\n",
        "  # Create a bar chart to visualize the label distribution\n",
        "  plt.bar(label_counts.index, label_counts.values)\n",
        "  # Display the plot\n",
        "  plt.show()\n",
        "\n",
        "\n",
        "  # Count the occurrences of each label\n",
        "  label_counts = {}\n",
        "  for label in dataset['labels']:\n",
        "      if label in label_counts:\n",
        "        label_counts[label] += 1\n",
        "      else:\n",
        "        label_counts[label] = 1\n",
        "  # Get the labels and corresponding counts\n",
        "  labels = list(label_counts.keys())\n",
        "  counts = list(label_counts.values())\n",
        "  # Create a figure and axis\n",
        "  fig, ax = plt.subplots()\n",
        "  # Plot the pie chart\n",
        "  ax.pie(counts, labels=labels, autopct='%1.1f%%')\n",
        "  # Set title\n",
        "  ax.set_title('Label Distribution')\n",
        "  # Display the chart\n",
        "  plt.show()\n"
      ]
    },
    {
      "cell_type": "code",
      "execution_count": null,
      "metadata": {
        "id": "TwjG6xTDonYC"
      },
      "outputs": [],
      "source": [
        "# calculate false negative and false positive function\n",
        "def cal_fp_fn(predicted_labels, true_labels):\n",
        "  false_positives = []\n",
        "  false_negatives = []\n",
        "  misclassifications = []\n",
        "\n",
        "  for predicted, true in zip(predicted_labels, true_labels):\n",
        "\n",
        "    if predicted != true:\n",
        "         # Compare the prediction with the actual label\n",
        "        # False positive: predicted as positive but actual label is negative or neutral\n",
        "        if predicted == 1 and (true == 0 or true == 2):\n",
        "            false_positives.append(true)\n",
        "\n",
        "        # False negative: predicted as negative but actual label is positive or neutral\n",
        "        elif predicted == 0 and (true == 1 or true == 2):\n",
        "            false_negatives.append(true)\n",
        "\n",
        "        # Misclassification: predicted as neutral but actual label is positive or negative\n",
        "        elif predicted == 2 and (true == 0 or true == 1):\n",
        "            misclassifications.append(true)\n",
        "\n",
        "  num_false_positives = len(false_positives)\n",
        "  num_false_negatives = len(false_negatives)\n",
        "  num_misclassifications = len(misclassifications)\n",
        "\n",
        "  print(\"Number of False Positives:\", num_false_positives)\n",
        "  print(\"Number of False Negatives:\", num_false_negatives)\n",
        "  print(\"Number of misclassifications:\", num_misclassifications)"
      ]
    },
    {
      "cell_type": "markdown",
      "metadata": {
        "id": "9E8GZkzKCLd5"
      },
      "source": [
        "### Q1 (30 points) Our goal is to perform natural language inference on the given task. The first task is to check the statistics of the dataset and design how to generate new files from the raw dataset to support your NLI task training, validation and testing. You should have a textual cell in your notebook to summarize your approach (how you prepare the train/test/validation set)."
      ]
    },
    {
      "cell_type": "markdown",
      "metadata": {
        "id": "Q3y2boQfyVLT"
      },
      "source": [
        "#### **Q1 - 1**\n",
        "\n",
        " - Design a way to generate new files for your training, validation, and testing.\n",
        " - How I generated this data.\n",
        " - Exploring training dataset."
      ]
    },
    {
      "cell_type": "code",
      "execution_count": null,
      "metadata": {
        "id": "tW89c6mo5Bom"
      },
      "outputs": [],
      "source": [
        "def convert_json_to_csv(json_dir,filename):\n",
        "\n",
        "    with open(json_dir, 'r') as f:\n",
        "            data = json.load(f)\n",
        "\n",
        "    # extract the relevant data and create a DataFrame\n",
        "    text_list, hypothesis_list, labels_list = [], [], []\n",
        "\n",
        "    for doc in data['documents']:\n",
        "            annotation_sets = doc.get('annotation_sets', [])\n",
        "            for annotation_set in annotation_sets:\n",
        "                annotations = annotation_set.get('annotations', [])\n",
        "                for annotation in annotations:\n",
        "                    if isinstance(annotations[annotation], dict):\n",
        "                        if 'choice' in annotations[annotation]:\n",
        "                            labels_list.append(annotations[annotation]['choice'])\n",
        "                            text_list.append(doc['text'])\n",
        "                            hypothesis_list.append(data['labels'][annotation]['hypothesis'])\n",
        "                        else:\n",
        "                            labels_list.append('')\n",
        "                    else:\n",
        "                        try:\n",
        "                            label = json.loads(annotations[annotation])['choice']\n",
        "                            labels_list.append(label)\n",
        "                        except (json.JSONDecodeError, KeyError):\n",
        "                            labels_list.append('')\n",
        "\n",
        "    if len(text_list) == len(hypothesis_list) and len(hypothesis_list) == len(labels_list):\n",
        "            df = pd.DataFrame({'text': text_list, 'hypothesis': hypothesis_list, 'labels': labels_list})\n",
        "            # save the DataFrame to a CSV file\n",
        "            df.to_csv(directory_path+filename, index=False)\n",
        "    else:\n",
        "            print(f\"Error: arrays have different lengths for {filename}\")"
      ]
    },
    {
      "cell_type": "code",
      "execution_count": null,
      "metadata": {
        "id": "A383EiSb_ddZ"
      },
      "outputs": [],
      "source": [
        "def convert_json_to_csv(json_dir, filename):\n",
        "    with open(json_dir, 'r') as f:\n",
        "        data = json.load(f)\n",
        "\n",
        "    # extract the relevant data and create a DataFrame\n",
        "    text_list, hypothesis_list, labels_list = [], [], []\n",
        "\n",
        "    counter = 0  # Counter variable to track the number of appended elements\n",
        "\n",
        "    for doc in data['documents']:\n",
        "        annotation_sets = doc.get('annotation_sets', [])\n",
        "        for annotation_set in annotation_sets:\n",
        "            annotations = annotation_set.get('annotations', [])\n",
        "            for annotation in annotations:\n",
        "                if counter >= 50:\n",
        "                    break  # Break the loop after appending 50 elements\n",
        "\n",
        "                if isinstance(annotations[annotation], dict):\n",
        "                    if 'choice' in annotations[annotation]:\n",
        "                        labels_list.append(annotations[annotation]['choice'])\n",
        "                        text_list.append(doc['text'])\n",
        "                        hypothesis_list.append(data['labels'][annotation]['hypothesis'])\n",
        "                        counter += 1  # Increment the counter\n",
        "\n",
        "    if len(text_list) == len(hypothesis_list) and len(hypothesis_list) == len(labels_list):\n",
        "        df = pd.DataFrame({'text': text_list, 'hypothesis': hypothesis_list, 'labels': labels_list})\n",
        "        # save the DataFrame to a CSV file\n",
        "        df.to_csv(directory_path + filename, index=False)\n",
        "    else:\n",
        "        print(f\"Error: arrays have different lengths for {filename}\")"
      ]
    },
    {
      "cell_type": "markdown",
      "metadata": {
        "id": "-YcNRDPzjkO9"
      },
      "source": [
        "\n",
        "**How I generated this data.**\n",
        "\n",
        "\n",
        "The code provided is a function convert_json_to_csv that takes the path to a JSON file (json_dir) and a filename (filename) as input. It converts the JSON data into a CSV file format, extracting relevant information (text, hypothesis, and labels).\n",
        "\n",
        "Here are the steps I did:\n",
        "\n",
        "1. The function reads the JSON file and loads its contents into the data variable.\n",
        "\n",
        "2. It initializes three empty lists to store the extracted data: text_list, hypothesis_list, and labels_list.\n",
        "\n",
        "3. The function iterates over the documents in the JSON data and extracts the relevant information from the annotation sets. It appends the document's text, hypothesis, and label to the respective lists.\n",
        "\n",
        "4. After extracting the data, the function checks if all three lists (text_list, hypothesis_list, and labels_list) have the same length.\n",
        "\n",
        "5. If the lengths of the lists match, the function creates a Pandas DataFrame with the extracted data.\n",
        "\n",
        "6. Finally, the DataFrame is saved as a CSV file with the specified filename in the provided directory path."
      ]
    },
    {
      "cell_type": "code",
      "execution_count": null,
      "metadata": {
        "id": "dY1ZUj32Tc3W"
      },
      "outputs": [],
      "source": [
        "convert_json_to_csv(train_path,train_file_name)\n",
        "convert_json_to_csv(valid_path,valid_file_name)\n",
        "convert_json_to_csv(test_path,test_file_name)"
      ]
    },
    {
      "cell_type": "code",
      "execution_count": null,
      "metadata": {
        "id": "9zkuJXGLOKI3"
      },
      "outputs": [],
      "source": [
        "# Load the dataset\n",
        "train_df = pd.read_csv(directory_path+train_file_name)\n",
        "validation_df = pd.read_csv(directory_path+valid_file_name)\n",
        "testing_df = pd.read_csv(directory_path+test_file_name)"
      ]
    },
    {
      "cell_type": "markdown",
      "metadata": {
        "id": "UOwXEWQbxWNC"
      },
      "source": [
        "##### **Exploring training dataset**"
      ]
    },
    {
      "cell_type": "code",
      "execution_count": null,
      "metadata": {
        "id": "ndOYkS3ARWxt",
        "colab": {
          "base_uri": "https://localhost:8080/",
          "height": 1000
        },
        "outputId": "f36d300c-e8f7-4b2a-d12b-73577d87963d"
      },
      "outputs": [
        {
          "output_type": "execute_result",
          "data": {
            "text/plain": [
              "                                                 text  \\\n",
              "0   NON-DISCLOSURE AND CONFIDENTIALITY AGREEMENT\\n...   \n",
              "1   NON-DISCLOSURE AND CONFIDENTIALITY AGREEMENT\\n...   \n",
              "2   NON-DISCLOSURE AND CONFIDENTIALITY AGREEMENT\\n...   \n",
              "3   NON-DISCLOSURE AND CONFIDENTIALITY AGREEMENT\\n...   \n",
              "4   NON-DISCLOSURE AND CONFIDENTIALITY AGREEMENT\\n...   \n",
              "5   NON-DISCLOSURE AND CONFIDENTIALITY AGREEMENT\\n...   \n",
              "6   NON-DISCLOSURE AND CONFIDENTIALITY AGREEMENT\\n...   \n",
              "7   NON-DISCLOSURE AND CONFIDENTIALITY AGREEMENT\\n...   \n",
              "8   NON-DISCLOSURE AND CONFIDENTIALITY AGREEMENT\\n...   \n",
              "9   NON-DISCLOSURE AND CONFIDENTIALITY AGREEMENT\\n...   \n",
              "10  NON-DISCLOSURE AND CONFIDENTIALITY AGREEMENT\\n...   \n",
              "11  NON-DISCLOSURE AND CONFIDENTIALITY AGREEMENT\\n...   \n",
              "12  NON-DISCLOSURE AND CONFIDENTIALITY AGREEMENT\\n...   \n",
              "13  NON-DISCLOSURE AND CONFIDENTIALITY AGREEMENT\\n...   \n",
              "14  NON-DISCLOSURE AND CONFIDENTIALITY AGREEMENT\\n...   \n",
              "15  NON-DISCLOSURE AND CONFIDENTIALITY AGREEMENT\\n...   \n",
              "16  NON-DISCLOSURE AND CONFIDENTIALITY AGREEMENT\\n...   \n",
              "17  NON-DISCLOSURE AGREEMENT AND TERMS OF PARTICIP...   \n",
              "18  NON-DISCLOSURE AGREEMENT AND TERMS OF PARTICIP...   \n",
              "19  NON-DISCLOSURE AGREEMENT AND TERMS OF PARTICIP...   \n",
              "20  NON-DISCLOSURE AGREEMENT AND TERMS OF PARTICIP...   \n",
              "21  NON-DISCLOSURE AGREEMENT AND TERMS OF PARTICIP...   \n",
              "22  NON-DISCLOSURE AGREEMENT AND TERMS OF PARTICIP...   \n",
              "23  NON-DISCLOSURE AGREEMENT AND TERMS OF PARTICIP...   \n",
              "24  NON-DISCLOSURE AGREEMENT AND TERMS OF PARTICIP...   \n",
              "25  NON-DISCLOSURE AGREEMENT AND TERMS OF PARTICIP...   \n",
              "26  NON-DISCLOSURE AGREEMENT AND TERMS OF PARTICIP...   \n",
              "27  NON-DISCLOSURE AGREEMENT AND TERMS OF PARTICIP...   \n",
              "28  NON-DISCLOSURE AGREEMENT AND TERMS OF PARTICIP...   \n",
              "29  NON-DISCLOSURE AGREEMENT AND TERMS OF PARTICIP...   \n",
              "30  NON-DISCLOSURE AGREEMENT AND TERMS OF PARTICIP...   \n",
              "31  NON-DISCLOSURE AGREEMENT AND TERMS OF PARTICIP...   \n",
              "32  NON-DISCLOSURE AGREEMENT AND TERMS OF PARTICIP...   \n",
              "33  NON-DISCLOSURE AGREEMENT AND TERMS OF PARTICIP...   \n",
              "34  Mutual Non-Disclosure and Use of Information A...   \n",
              "35  Mutual Non-Disclosure and Use of Information A...   \n",
              "36  Mutual Non-Disclosure and Use of Information A...   \n",
              "37  Mutual Non-Disclosure and Use of Information A...   \n",
              "38  Mutual Non-Disclosure and Use of Information A...   \n",
              "39  Mutual Non-Disclosure and Use of Information A...   \n",
              "40  Mutual Non-Disclosure and Use of Information A...   \n",
              "41  Mutual Non-Disclosure and Use of Information A...   \n",
              "42  Mutual Non-Disclosure and Use of Information A...   \n",
              "43  Mutual Non-Disclosure and Use of Information A...   \n",
              "44  Mutual Non-Disclosure and Use of Information A...   \n",
              "45  Mutual Non-Disclosure and Use of Information A...   \n",
              "46  Mutual Non-Disclosure and Use of Information A...   \n",
              "47  Mutual Non-Disclosure and Use of Information A...   \n",
              "48  Mutual Non-Disclosure and Use of Information A...   \n",
              "49  Mutual Non-Disclosure and Use of Information A...   \n",
              "\n",
              "                                           hypothesis         labels  \n",
              "0   Receiving Party shall not reverse engineer any...   NotMentioned  \n",
              "1   Receiving Party shall destroy or return some C...     Entailment  \n",
              "2   Agreement shall not grant Receiving Party any ...     Entailment  \n",
              "3   Receiving Party shall not disclose the fact th...     Entailment  \n",
              "4   Confidential Information shall only include te...   NotMentioned  \n",
              "5   All Confidential Information shall be expressl...     Entailment  \n",
              "6   Some obligations of Agreement may survive term...     Entailment  \n",
              "7   Receiving Party may independently develop info...     Entailment  \n",
              "8   Receiving Party may retain some Confidential I...   NotMentioned  \n",
              "9   Confidential Information may include verbally ...     Entailment  \n",
              "10  Receiving Party shall not solicit some of Disc...   NotMentioned  \n",
              "11  Receiving Party may share some Confidential In...     Entailment  \n",
              "12  Receiving Party may create a copy of some Conf...     Entailment  \n",
              "13  Receiving Party shall notify Disclosing Party ...     Entailment  \n",
              "14  Receiving Party may acquire information simila...     Entailment  \n",
              "15  Receiving Party may share some Confidential In...     Entailment  \n",
              "16  Receiving Party shall not use any Confidential...     Entailment  \n",
              "17  Receiving Party shall not reverse engineer any...   NotMentioned  \n",
              "18  Receiving Party shall destroy or return some C...   NotMentioned  \n",
              "19  Agreement shall not grant Receiving Party any ...     Entailment  \n",
              "20  Receiving Party shall not disclose the fact th...   NotMentioned  \n",
              "21  Confidential Information shall only include te...  Contradiction  \n",
              "22  All Confidential Information shall be expressl...   NotMentioned  \n",
              "23  Some obligations of Agreement may survive term...     Entailment  \n",
              "24  Receiving Party may independently develop info...   NotMentioned  \n",
              "25  Receiving Party may retain some Confidential I...  Contradiction  \n",
              "26  Confidential Information may include verbally ...   NotMentioned  \n",
              "27  Receiving Party shall not solicit some of Disc...   NotMentioned  \n",
              "28  Receiving Party may share some Confidential In...  Contradiction  \n",
              "29  Receiving Party may create a copy of some Conf...   NotMentioned  \n",
              "30  Receiving Party shall notify Disclosing Party ...     Entailment  \n",
              "31  Receiving Party may acquire information simila...     Entailment  \n",
              "32  Receiving Party may share some Confidential In...  Contradiction  \n",
              "33  Receiving Party shall not use any Confidential...     Entailment  \n",
              "34  Receiving Party shall not reverse engineer any...   NotMentioned  \n",
              "35  Receiving Party shall destroy or return some C...     Entailment  \n",
              "36  Agreement shall not grant Receiving Party any ...     Entailment  \n",
              "37  Receiving Party shall not disclose the fact th...   NotMentioned  \n",
              "38  Confidential Information shall only include te...   NotMentioned  \n",
              "39  All Confidential Information shall be expressl...   NotMentioned  \n",
              "40  Some obligations of Agreement may survive term...     Entailment  \n",
              "41  Receiving Party may independently develop info...   NotMentioned  \n",
              "42  Receiving Party may retain some Confidential I...     Entailment  \n",
              "43  Confidential Information may include verbally ...     Entailment  \n",
              "44  Receiving Party shall not solicit some of Disc...   NotMentioned  \n",
              "45  Receiving Party may share some Confidential In...  Contradiction  \n",
              "46  Receiving Party may create a copy of some Conf...   NotMentioned  \n",
              "47  Receiving Party shall notify Disclosing Party ...     Entailment  \n",
              "48  Receiving Party may acquire information simila...     Entailment  \n",
              "49  Receiving Party may share some Confidential In...     Entailment  "
            ],
            "text/html": [
              "\n",
              "  <div id=\"df-9c5c0f13-1ee4-4825-b3d0-2686d7324a2e\" class=\"colab-df-container\">\n",
              "    <div>\n",
              "<style scoped>\n",
              "    .dataframe tbody tr th:only-of-type {\n",
              "        vertical-align: middle;\n",
              "    }\n",
              "\n",
              "    .dataframe tbody tr th {\n",
              "        vertical-align: top;\n",
              "    }\n",
              "\n",
              "    .dataframe thead th {\n",
              "        text-align: right;\n",
              "    }\n",
              "</style>\n",
              "<table border=\"1\" class=\"dataframe\">\n",
              "  <thead>\n",
              "    <tr style=\"text-align: right;\">\n",
              "      <th></th>\n",
              "      <th>text</th>\n",
              "      <th>hypothesis</th>\n",
              "      <th>labels</th>\n",
              "    </tr>\n",
              "  </thead>\n",
              "  <tbody>\n",
              "    <tr>\n",
              "      <th>0</th>\n",
              "      <td>NON-DISCLOSURE AND CONFIDENTIALITY AGREEMENT\\n...</td>\n",
              "      <td>Receiving Party shall not reverse engineer any...</td>\n",
              "      <td>NotMentioned</td>\n",
              "    </tr>\n",
              "    <tr>\n",
              "      <th>1</th>\n",
              "      <td>NON-DISCLOSURE AND CONFIDENTIALITY AGREEMENT\\n...</td>\n",
              "      <td>Receiving Party shall destroy or return some C...</td>\n",
              "      <td>Entailment</td>\n",
              "    </tr>\n",
              "    <tr>\n",
              "      <th>2</th>\n",
              "      <td>NON-DISCLOSURE AND CONFIDENTIALITY AGREEMENT\\n...</td>\n",
              "      <td>Agreement shall not grant Receiving Party any ...</td>\n",
              "      <td>Entailment</td>\n",
              "    </tr>\n",
              "    <tr>\n",
              "      <th>3</th>\n",
              "      <td>NON-DISCLOSURE AND CONFIDENTIALITY AGREEMENT\\n...</td>\n",
              "      <td>Receiving Party shall not disclose the fact th...</td>\n",
              "      <td>Entailment</td>\n",
              "    </tr>\n",
              "    <tr>\n",
              "      <th>4</th>\n",
              "      <td>NON-DISCLOSURE AND CONFIDENTIALITY AGREEMENT\\n...</td>\n",
              "      <td>Confidential Information shall only include te...</td>\n",
              "      <td>NotMentioned</td>\n",
              "    </tr>\n",
              "    <tr>\n",
              "      <th>5</th>\n",
              "      <td>NON-DISCLOSURE AND CONFIDENTIALITY AGREEMENT\\n...</td>\n",
              "      <td>All Confidential Information shall be expressl...</td>\n",
              "      <td>Entailment</td>\n",
              "    </tr>\n",
              "    <tr>\n",
              "      <th>6</th>\n",
              "      <td>NON-DISCLOSURE AND CONFIDENTIALITY AGREEMENT\\n...</td>\n",
              "      <td>Some obligations of Agreement may survive term...</td>\n",
              "      <td>Entailment</td>\n",
              "    </tr>\n",
              "    <tr>\n",
              "      <th>7</th>\n",
              "      <td>NON-DISCLOSURE AND CONFIDENTIALITY AGREEMENT\\n...</td>\n",
              "      <td>Receiving Party may independently develop info...</td>\n",
              "      <td>Entailment</td>\n",
              "    </tr>\n",
              "    <tr>\n",
              "      <th>8</th>\n",
              "      <td>NON-DISCLOSURE AND CONFIDENTIALITY AGREEMENT\\n...</td>\n",
              "      <td>Receiving Party may retain some Confidential I...</td>\n",
              "      <td>NotMentioned</td>\n",
              "    </tr>\n",
              "    <tr>\n",
              "      <th>9</th>\n",
              "      <td>NON-DISCLOSURE AND CONFIDENTIALITY AGREEMENT\\n...</td>\n",
              "      <td>Confidential Information may include verbally ...</td>\n",
              "      <td>Entailment</td>\n",
              "    </tr>\n",
              "    <tr>\n",
              "      <th>10</th>\n",
              "      <td>NON-DISCLOSURE AND CONFIDENTIALITY AGREEMENT\\n...</td>\n",
              "      <td>Receiving Party shall not solicit some of Disc...</td>\n",
              "      <td>NotMentioned</td>\n",
              "    </tr>\n",
              "    <tr>\n",
              "      <th>11</th>\n",
              "      <td>NON-DISCLOSURE AND CONFIDENTIALITY AGREEMENT\\n...</td>\n",
              "      <td>Receiving Party may share some Confidential In...</td>\n",
              "      <td>Entailment</td>\n",
              "    </tr>\n",
              "    <tr>\n",
              "      <th>12</th>\n",
              "      <td>NON-DISCLOSURE AND CONFIDENTIALITY AGREEMENT\\n...</td>\n",
              "      <td>Receiving Party may create a copy of some Conf...</td>\n",
              "      <td>Entailment</td>\n",
              "    </tr>\n",
              "    <tr>\n",
              "      <th>13</th>\n",
              "      <td>NON-DISCLOSURE AND CONFIDENTIALITY AGREEMENT\\n...</td>\n",
              "      <td>Receiving Party shall notify Disclosing Party ...</td>\n",
              "      <td>Entailment</td>\n",
              "    </tr>\n",
              "    <tr>\n",
              "      <th>14</th>\n",
              "      <td>NON-DISCLOSURE AND CONFIDENTIALITY AGREEMENT\\n...</td>\n",
              "      <td>Receiving Party may acquire information simila...</td>\n",
              "      <td>Entailment</td>\n",
              "    </tr>\n",
              "    <tr>\n",
              "      <th>15</th>\n",
              "      <td>NON-DISCLOSURE AND CONFIDENTIALITY AGREEMENT\\n...</td>\n",
              "      <td>Receiving Party may share some Confidential In...</td>\n",
              "      <td>Entailment</td>\n",
              "    </tr>\n",
              "    <tr>\n",
              "      <th>16</th>\n",
              "      <td>NON-DISCLOSURE AND CONFIDENTIALITY AGREEMENT\\n...</td>\n",
              "      <td>Receiving Party shall not use any Confidential...</td>\n",
              "      <td>Entailment</td>\n",
              "    </tr>\n",
              "    <tr>\n",
              "      <th>17</th>\n",
              "      <td>NON-DISCLOSURE AGREEMENT AND TERMS OF PARTICIP...</td>\n",
              "      <td>Receiving Party shall not reverse engineer any...</td>\n",
              "      <td>NotMentioned</td>\n",
              "    </tr>\n",
              "    <tr>\n",
              "      <th>18</th>\n",
              "      <td>NON-DISCLOSURE AGREEMENT AND TERMS OF PARTICIP...</td>\n",
              "      <td>Receiving Party shall destroy or return some C...</td>\n",
              "      <td>NotMentioned</td>\n",
              "    </tr>\n",
              "    <tr>\n",
              "      <th>19</th>\n",
              "      <td>NON-DISCLOSURE AGREEMENT AND TERMS OF PARTICIP...</td>\n",
              "      <td>Agreement shall not grant Receiving Party any ...</td>\n",
              "      <td>Entailment</td>\n",
              "    </tr>\n",
              "    <tr>\n",
              "      <th>20</th>\n",
              "      <td>NON-DISCLOSURE AGREEMENT AND TERMS OF PARTICIP...</td>\n",
              "      <td>Receiving Party shall not disclose the fact th...</td>\n",
              "      <td>NotMentioned</td>\n",
              "    </tr>\n",
              "    <tr>\n",
              "      <th>21</th>\n",
              "      <td>NON-DISCLOSURE AGREEMENT AND TERMS OF PARTICIP...</td>\n",
              "      <td>Confidential Information shall only include te...</td>\n",
              "      <td>Contradiction</td>\n",
              "    </tr>\n",
              "    <tr>\n",
              "      <th>22</th>\n",
              "      <td>NON-DISCLOSURE AGREEMENT AND TERMS OF PARTICIP...</td>\n",
              "      <td>All Confidential Information shall be expressl...</td>\n",
              "      <td>NotMentioned</td>\n",
              "    </tr>\n",
              "    <tr>\n",
              "      <th>23</th>\n",
              "      <td>NON-DISCLOSURE AGREEMENT AND TERMS OF PARTICIP...</td>\n",
              "      <td>Some obligations of Agreement may survive term...</td>\n",
              "      <td>Entailment</td>\n",
              "    </tr>\n",
              "    <tr>\n",
              "      <th>24</th>\n",
              "      <td>NON-DISCLOSURE AGREEMENT AND TERMS OF PARTICIP...</td>\n",
              "      <td>Receiving Party may independently develop info...</td>\n",
              "      <td>NotMentioned</td>\n",
              "    </tr>\n",
              "    <tr>\n",
              "      <th>25</th>\n",
              "      <td>NON-DISCLOSURE AGREEMENT AND TERMS OF PARTICIP...</td>\n",
              "      <td>Receiving Party may retain some Confidential I...</td>\n",
              "      <td>Contradiction</td>\n",
              "    </tr>\n",
              "    <tr>\n",
              "      <th>26</th>\n",
              "      <td>NON-DISCLOSURE AGREEMENT AND TERMS OF PARTICIP...</td>\n",
              "      <td>Confidential Information may include verbally ...</td>\n",
              "      <td>NotMentioned</td>\n",
              "    </tr>\n",
              "    <tr>\n",
              "      <th>27</th>\n",
              "      <td>NON-DISCLOSURE AGREEMENT AND TERMS OF PARTICIP...</td>\n",
              "      <td>Receiving Party shall not solicit some of Disc...</td>\n",
              "      <td>NotMentioned</td>\n",
              "    </tr>\n",
              "    <tr>\n",
              "      <th>28</th>\n",
              "      <td>NON-DISCLOSURE AGREEMENT AND TERMS OF PARTICIP...</td>\n",
              "      <td>Receiving Party may share some Confidential In...</td>\n",
              "      <td>Contradiction</td>\n",
              "    </tr>\n",
              "    <tr>\n",
              "      <th>29</th>\n",
              "      <td>NON-DISCLOSURE AGREEMENT AND TERMS OF PARTICIP...</td>\n",
              "      <td>Receiving Party may create a copy of some Conf...</td>\n",
              "      <td>NotMentioned</td>\n",
              "    </tr>\n",
              "    <tr>\n",
              "      <th>30</th>\n",
              "      <td>NON-DISCLOSURE AGREEMENT AND TERMS OF PARTICIP...</td>\n",
              "      <td>Receiving Party shall notify Disclosing Party ...</td>\n",
              "      <td>Entailment</td>\n",
              "    </tr>\n",
              "    <tr>\n",
              "      <th>31</th>\n",
              "      <td>NON-DISCLOSURE AGREEMENT AND TERMS OF PARTICIP...</td>\n",
              "      <td>Receiving Party may acquire information simila...</td>\n",
              "      <td>Entailment</td>\n",
              "    </tr>\n",
              "    <tr>\n",
              "      <th>32</th>\n",
              "      <td>NON-DISCLOSURE AGREEMENT AND TERMS OF PARTICIP...</td>\n",
              "      <td>Receiving Party may share some Confidential In...</td>\n",
              "      <td>Contradiction</td>\n",
              "    </tr>\n",
              "    <tr>\n",
              "      <th>33</th>\n",
              "      <td>NON-DISCLOSURE AGREEMENT AND TERMS OF PARTICIP...</td>\n",
              "      <td>Receiving Party shall not use any Confidential...</td>\n",
              "      <td>Entailment</td>\n",
              "    </tr>\n",
              "    <tr>\n",
              "      <th>34</th>\n",
              "      <td>Mutual Non-Disclosure and Use of Information A...</td>\n",
              "      <td>Receiving Party shall not reverse engineer any...</td>\n",
              "      <td>NotMentioned</td>\n",
              "    </tr>\n",
              "    <tr>\n",
              "      <th>35</th>\n",
              "      <td>Mutual Non-Disclosure and Use of Information A...</td>\n",
              "      <td>Receiving Party shall destroy or return some C...</td>\n",
              "      <td>Entailment</td>\n",
              "    </tr>\n",
              "    <tr>\n",
              "      <th>36</th>\n",
              "      <td>Mutual Non-Disclosure and Use of Information A...</td>\n",
              "      <td>Agreement shall not grant Receiving Party any ...</td>\n",
              "      <td>Entailment</td>\n",
              "    </tr>\n",
              "    <tr>\n",
              "      <th>37</th>\n",
              "      <td>Mutual Non-Disclosure and Use of Information A...</td>\n",
              "      <td>Receiving Party shall not disclose the fact th...</td>\n",
              "      <td>NotMentioned</td>\n",
              "    </tr>\n",
              "    <tr>\n",
              "      <th>38</th>\n",
              "      <td>Mutual Non-Disclosure and Use of Information A...</td>\n",
              "      <td>Confidential Information shall only include te...</td>\n",
              "      <td>NotMentioned</td>\n",
              "    </tr>\n",
              "    <tr>\n",
              "      <th>39</th>\n",
              "      <td>Mutual Non-Disclosure and Use of Information A...</td>\n",
              "      <td>All Confidential Information shall be expressl...</td>\n",
              "      <td>NotMentioned</td>\n",
              "    </tr>\n",
              "    <tr>\n",
              "      <th>40</th>\n",
              "      <td>Mutual Non-Disclosure and Use of Information A...</td>\n",
              "      <td>Some obligations of Agreement may survive term...</td>\n",
              "      <td>Entailment</td>\n",
              "    </tr>\n",
              "    <tr>\n",
              "      <th>41</th>\n",
              "      <td>Mutual Non-Disclosure and Use of Information A...</td>\n",
              "      <td>Receiving Party may independently develop info...</td>\n",
              "      <td>NotMentioned</td>\n",
              "    </tr>\n",
              "    <tr>\n",
              "      <th>42</th>\n",
              "      <td>Mutual Non-Disclosure and Use of Information A...</td>\n",
              "      <td>Receiving Party may retain some Confidential I...</td>\n",
              "      <td>Entailment</td>\n",
              "    </tr>\n",
              "    <tr>\n",
              "      <th>43</th>\n",
              "      <td>Mutual Non-Disclosure and Use of Information A...</td>\n",
              "      <td>Confidential Information may include verbally ...</td>\n",
              "      <td>Entailment</td>\n",
              "    </tr>\n",
              "    <tr>\n",
              "      <th>44</th>\n",
              "      <td>Mutual Non-Disclosure and Use of Information A...</td>\n",
              "      <td>Receiving Party shall not solicit some of Disc...</td>\n",
              "      <td>NotMentioned</td>\n",
              "    </tr>\n",
              "    <tr>\n",
              "      <th>45</th>\n",
              "      <td>Mutual Non-Disclosure and Use of Information A...</td>\n",
              "      <td>Receiving Party may share some Confidential In...</td>\n",
              "      <td>Contradiction</td>\n",
              "    </tr>\n",
              "    <tr>\n",
              "      <th>46</th>\n",
              "      <td>Mutual Non-Disclosure and Use of Information A...</td>\n",
              "      <td>Receiving Party may create a copy of some Conf...</td>\n",
              "      <td>NotMentioned</td>\n",
              "    </tr>\n",
              "    <tr>\n",
              "      <th>47</th>\n",
              "      <td>Mutual Non-Disclosure and Use of Information A...</td>\n",
              "      <td>Receiving Party shall notify Disclosing Party ...</td>\n",
              "      <td>Entailment</td>\n",
              "    </tr>\n",
              "    <tr>\n",
              "      <th>48</th>\n",
              "      <td>Mutual Non-Disclosure and Use of Information A...</td>\n",
              "      <td>Receiving Party may acquire information simila...</td>\n",
              "      <td>Entailment</td>\n",
              "    </tr>\n",
              "    <tr>\n",
              "      <th>49</th>\n",
              "      <td>Mutual Non-Disclosure and Use of Information A...</td>\n",
              "      <td>Receiving Party may share some Confidential In...</td>\n",
              "      <td>Entailment</td>\n",
              "    </tr>\n",
              "  </tbody>\n",
              "</table>\n",
              "</div>\n",
              "    <div class=\"colab-df-buttons\">\n",
              "\n",
              "  <div class=\"colab-df-container\">\n",
              "    <button class=\"colab-df-convert\" onclick=\"convertToInteractive('df-9c5c0f13-1ee4-4825-b3d0-2686d7324a2e')\"\n",
              "            title=\"Convert this dataframe to an interactive table.\"\n",
              "            style=\"display:none;\">\n",
              "\n",
              "  <svg xmlns=\"http://www.w3.org/2000/svg\" height=\"24px\" viewBox=\"0 -960 960 960\">\n",
              "    <path d=\"M120-120v-720h720v720H120Zm60-500h600v-160H180v160Zm220 220h160v-160H400v160Zm0 220h160v-160H400v160ZM180-400h160v-160H180v160Zm440 0h160v-160H620v160ZM180-180h160v-160H180v160Zm440 0h160v-160H620v160Z\"/>\n",
              "  </svg>\n",
              "    </button>\n",
              "\n",
              "  <style>\n",
              "    .colab-df-container {\n",
              "      display:flex;\n",
              "      gap: 12px;\n",
              "    }\n",
              "\n",
              "    .colab-df-convert {\n",
              "      background-color: #E8F0FE;\n",
              "      border: none;\n",
              "      border-radius: 50%;\n",
              "      cursor: pointer;\n",
              "      display: none;\n",
              "      fill: #1967D2;\n",
              "      height: 32px;\n",
              "      padding: 0 0 0 0;\n",
              "      width: 32px;\n",
              "    }\n",
              "\n",
              "    .colab-df-convert:hover {\n",
              "      background-color: #E2EBFA;\n",
              "      box-shadow: 0px 1px 2px rgba(60, 64, 67, 0.3), 0px 1px 3px 1px rgba(60, 64, 67, 0.15);\n",
              "      fill: #174EA6;\n",
              "    }\n",
              "\n",
              "    .colab-df-buttons div {\n",
              "      margin-bottom: 4px;\n",
              "    }\n",
              "\n",
              "    [theme=dark] .colab-df-convert {\n",
              "      background-color: #3B4455;\n",
              "      fill: #D2E3FC;\n",
              "    }\n",
              "\n",
              "    [theme=dark] .colab-df-convert:hover {\n",
              "      background-color: #434B5C;\n",
              "      box-shadow: 0px 1px 3px 1px rgba(0, 0, 0, 0.15);\n",
              "      filter: drop-shadow(0px 1px 2px rgba(0, 0, 0, 0.3));\n",
              "      fill: #FFFFFF;\n",
              "    }\n",
              "  </style>\n",
              "\n",
              "    <script>\n",
              "      const buttonEl =\n",
              "        document.querySelector('#df-9c5c0f13-1ee4-4825-b3d0-2686d7324a2e button.colab-df-convert');\n",
              "      buttonEl.style.display =\n",
              "        google.colab.kernel.accessAllowed ? 'block' : 'none';\n",
              "\n",
              "      async function convertToInteractive(key) {\n",
              "        const element = document.querySelector('#df-9c5c0f13-1ee4-4825-b3d0-2686d7324a2e');\n",
              "        const dataTable =\n",
              "          await google.colab.kernel.invokeFunction('convertToInteractive',\n",
              "                                                    [key], {});\n",
              "        if (!dataTable) return;\n",
              "\n",
              "        const docLinkHtml = 'Like what you see? Visit the ' +\n",
              "          '<a target=\"_blank\" href=https://colab.research.google.com/notebooks/data_table.ipynb>data table notebook</a>'\n",
              "          + ' to learn more about interactive tables.';\n",
              "        element.innerHTML = '';\n",
              "        dataTable['output_type'] = 'display_data';\n",
              "        await google.colab.output.renderOutput(dataTable, element);\n",
              "        const docLink = document.createElement('div');\n",
              "        docLink.innerHTML = docLinkHtml;\n",
              "        element.appendChild(docLink);\n",
              "      }\n",
              "    </script>\n",
              "  </div>\n",
              "\n",
              "\n",
              "<div id=\"df-5ac673af-6557-4567-ae2d-c089c9b05a06\">\n",
              "  <button class=\"colab-df-quickchart\" onclick=\"quickchart('df-5ac673af-6557-4567-ae2d-c089c9b05a06')\"\n",
              "            title=\"Suggest charts\"\n",
              "            style=\"display:none;\">\n",
              "\n",
              "<svg xmlns=\"http://www.w3.org/2000/svg\" height=\"24px\"viewBox=\"0 0 24 24\"\n",
              "     width=\"24px\">\n",
              "    <g>\n",
              "        <path d=\"M19 3H5c-1.1 0-2 .9-2 2v14c0 1.1.9 2 2 2h14c1.1 0 2-.9 2-2V5c0-1.1-.9-2-2-2zM9 17H7v-7h2v7zm4 0h-2V7h2v10zm4 0h-2v-4h2v4z\"/>\n",
              "    </g>\n",
              "</svg>\n",
              "  </button>\n",
              "\n",
              "<style>\n",
              "  .colab-df-quickchart {\n",
              "      --bg-color: #E8F0FE;\n",
              "      --fill-color: #1967D2;\n",
              "      --hover-bg-color: #E2EBFA;\n",
              "      --hover-fill-color: #174EA6;\n",
              "      --disabled-fill-color: #AAA;\n",
              "      --disabled-bg-color: #DDD;\n",
              "  }\n",
              "\n",
              "  [theme=dark] .colab-df-quickchart {\n",
              "      --bg-color: #3B4455;\n",
              "      --fill-color: #D2E3FC;\n",
              "      --hover-bg-color: #434B5C;\n",
              "      --hover-fill-color: #FFFFFF;\n",
              "      --disabled-bg-color: #3B4455;\n",
              "      --disabled-fill-color: #666;\n",
              "  }\n",
              "\n",
              "  .colab-df-quickchart {\n",
              "    background-color: var(--bg-color);\n",
              "    border: none;\n",
              "    border-radius: 50%;\n",
              "    cursor: pointer;\n",
              "    display: none;\n",
              "    fill: var(--fill-color);\n",
              "    height: 32px;\n",
              "    padding: 0;\n",
              "    width: 32px;\n",
              "  }\n",
              "\n",
              "  .colab-df-quickchart:hover {\n",
              "    background-color: var(--hover-bg-color);\n",
              "    box-shadow: 0 1px 2px rgba(60, 64, 67, 0.3), 0 1px 3px 1px rgba(60, 64, 67, 0.15);\n",
              "    fill: var(--button-hover-fill-color);\n",
              "  }\n",
              "\n",
              "  .colab-df-quickchart-complete:disabled,\n",
              "  .colab-df-quickchart-complete:disabled:hover {\n",
              "    background-color: var(--disabled-bg-color);\n",
              "    fill: var(--disabled-fill-color);\n",
              "    box-shadow: none;\n",
              "  }\n",
              "\n",
              "  .colab-df-spinner {\n",
              "    border: 2px solid var(--fill-color);\n",
              "    border-color: transparent;\n",
              "    border-bottom-color: var(--fill-color);\n",
              "    animation:\n",
              "      spin 1s steps(1) infinite;\n",
              "  }\n",
              "\n",
              "  @keyframes spin {\n",
              "    0% {\n",
              "      border-color: transparent;\n",
              "      border-bottom-color: var(--fill-color);\n",
              "      border-left-color: var(--fill-color);\n",
              "    }\n",
              "    20% {\n",
              "      border-color: transparent;\n",
              "      border-left-color: var(--fill-color);\n",
              "      border-top-color: var(--fill-color);\n",
              "    }\n",
              "    30% {\n",
              "      border-color: transparent;\n",
              "      border-left-color: var(--fill-color);\n",
              "      border-top-color: var(--fill-color);\n",
              "      border-right-color: var(--fill-color);\n",
              "    }\n",
              "    40% {\n",
              "      border-color: transparent;\n",
              "      border-right-color: var(--fill-color);\n",
              "      border-top-color: var(--fill-color);\n",
              "    }\n",
              "    60% {\n",
              "      border-color: transparent;\n",
              "      border-right-color: var(--fill-color);\n",
              "    }\n",
              "    80% {\n",
              "      border-color: transparent;\n",
              "      border-right-color: var(--fill-color);\n",
              "      border-bottom-color: var(--fill-color);\n",
              "    }\n",
              "    90% {\n",
              "      border-color: transparent;\n",
              "      border-bottom-color: var(--fill-color);\n",
              "    }\n",
              "  }\n",
              "</style>\n",
              "\n",
              "  <script>\n",
              "    async function quickchart(key) {\n",
              "      const quickchartButtonEl =\n",
              "        document.querySelector('#' + key + ' button');\n",
              "      quickchartButtonEl.disabled = true;  // To prevent multiple clicks.\n",
              "      quickchartButtonEl.classList.add('colab-df-spinner');\n",
              "      try {\n",
              "        const charts = await google.colab.kernel.invokeFunction(\n",
              "            'suggestCharts', [key], {});\n",
              "      } catch (error) {\n",
              "        console.error('Error during call to suggestCharts:', error);\n",
              "      }\n",
              "      quickchartButtonEl.classList.remove('colab-df-spinner');\n",
              "      quickchartButtonEl.classList.add('colab-df-quickchart-complete');\n",
              "    }\n",
              "    (() => {\n",
              "      let quickchartButtonEl =\n",
              "        document.querySelector('#df-5ac673af-6557-4567-ae2d-c089c9b05a06 button');\n",
              "      quickchartButtonEl.style.display =\n",
              "        google.colab.kernel.accessAllowed ? 'block' : 'none';\n",
              "    })();\n",
              "  </script>\n",
              "</div>\n",
              "    </div>\n",
              "  </div>\n"
            ]
          },
          "metadata": {},
          "execution_count": 12
        }
      ],
      "source": [
        "# print the training data and its shape\n",
        "train_df"
      ]
    },
    {
      "cell_type": "code",
      "execution_count": null,
      "metadata": {
        "id": "ciVF8VEkTc3X",
        "colab": {
          "base_uri": "https://localhost:8080/"
        },
        "outputId": "fcd7ae75-bca7-48fe-aac3-b96eee55605b"
      },
      "outputs": [
        {
          "output_type": "stream",
          "name": "stdout",
          "text": [
            "<class 'pandas.core.frame.DataFrame'>\n",
            "RangeIndex: 50 entries, 0 to 49\n",
            "Data columns (total 3 columns):\n",
            " #   Column      Non-Null Count  Dtype \n",
            "---  ------      --------------  ----- \n",
            " 0   text        50 non-null     object\n",
            " 1   hypothesis  50 non-null     object\n",
            " 2   labels      50 non-null     object\n",
            "dtypes: object(3)\n",
            "memory usage: 1.3+ KB\n"
          ]
        }
      ],
      "source": [
        "# display a concise summary of the DataFrame train_df\n",
        "train_df.info()"
      ]
    },
    {
      "cell_type": "code",
      "execution_count": null,
      "metadata": {
        "id": "hPGk8vMRRGBm",
        "colab": {
          "base_uri": "https://localhost:8080/",
          "height": 175
        },
        "outputId": "640e4d45-50c2-4a00-bb08-cd7cc23ff502"
      },
      "outputs": [
        {
          "output_type": "execute_result",
          "data": {
            "text/plain": [
              "                                                     text  \\\n",
              "count                                                  50   \n",
              "unique                                                  3   \n",
              "top     NON-DISCLOSURE AND CONFIDENTIALITY AGREEMENT\\n...   \n",
              "freq                                                   17   \n",
              "\n",
              "                                               hypothesis      labels  \n",
              "count                                                  50          50  \n",
              "unique                                                 17           3  \n",
              "top     Receiving Party shall not reverse engineer any...  Entailment  \n",
              "freq                                                    3          26  "
            ],
            "text/html": [
              "\n",
              "  <div id=\"df-e8d1bbd3-5a07-41c0-a9e3-bd11a95b07e4\" class=\"colab-df-container\">\n",
              "    <div>\n",
              "<style scoped>\n",
              "    .dataframe tbody tr th:only-of-type {\n",
              "        vertical-align: middle;\n",
              "    }\n",
              "\n",
              "    .dataframe tbody tr th {\n",
              "        vertical-align: top;\n",
              "    }\n",
              "\n",
              "    .dataframe thead th {\n",
              "        text-align: right;\n",
              "    }\n",
              "</style>\n",
              "<table border=\"1\" class=\"dataframe\">\n",
              "  <thead>\n",
              "    <tr style=\"text-align: right;\">\n",
              "      <th></th>\n",
              "      <th>text</th>\n",
              "      <th>hypothesis</th>\n",
              "      <th>labels</th>\n",
              "    </tr>\n",
              "  </thead>\n",
              "  <tbody>\n",
              "    <tr>\n",
              "      <th>count</th>\n",
              "      <td>50</td>\n",
              "      <td>50</td>\n",
              "      <td>50</td>\n",
              "    </tr>\n",
              "    <tr>\n",
              "      <th>unique</th>\n",
              "      <td>3</td>\n",
              "      <td>17</td>\n",
              "      <td>3</td>\n",
              "    </tr>\n",
              "    <tr>\n",
              "      <th>top</th>\n",
              "      <td>NON-DISCLOSURE AND CONFIDENTIALITY AGREEMENT\\n...</td>\n",
              "      <td>Receiving Party shall not reverse engineer any...</td>\n",
              "      <td>Entailment</td>\n",
              "    </tr>\n",
              "    <tr>\n",
              "      <th>freq</th>\n",
              "      <td>17</td>\n",
              "      <td>3</td>\n",
              "      <td>26</td>\n",
              "    </tr>\n",
              "  </tbody>\n",
              "</table>\n",
              "</div>\n",
              "    <div class=\"colab-df-buttons\">\n",
              "\n",
              "  <div class=\"colab-df-container\">\n",
              "    <button class=\"colab-df-convert\" onclick=\"convertToInteractive('df-e8d1bbd3-5a07-41c0-a9e3-bd11a95b07e4')\"\n",
              "            title=\"Convert this dataframe to an interactive table.\"\n",
              "            style=\"display:none;\">\n",
              "\n",
              "  <svg xmlns=\"http://www.w3.org/2000/svg\" height=\"24px\" viewBox=\"0 -960 960 960\">\n",
              "    <path d=\"M120-120v-720h720v720H120Zm60-500h600v-160H180v160Zm220 220h160v-160H400v160Zm0 220h160v-160H400v160ZM180-400h160v-160H180v160Zm440 0h160v-160H620v160ZM180-180h160v-160H180v160Zm440 0h160v-160H620v160Z\"/>\n",
              "  </svg>\n",
              "    </button>\n",
              "\n",
              "  <style>\n",
              "    .colab-df-container {\n",
              "      display:flex;\n",
              "      gap: 12px;\n",
              "    }\n",
              "\n",
              "    .colab-df-convert {\n",
              "      background-color: #E8F0FE;\n",
              "      border: none;\n",
              "      border-radius: 50%;\n",
              "      cursor: pointer;\n",
              "      display: none;\n",
              "      fill: #1967D2;\n",
              "      height: 32px;\n",
              "      padding: 0 0 0 0;\n",
              "      width: 32px;\n",
              "    }\n",
              "\n",
              "    .colab-df-convert:hover {\n",
              "      background-color: #E2EBFA;\n",
              "      box-shadow: 0px 1px 2px rgba(60, 64, 67, 0.3), 0px 1px 3px 1px rgba(60, 64, 67, 0.15);\n",
              "      fill: #174EA6;\n",
              "    }\n",
              "\n",
              "    .colab-df-buttons div {\n",
              "      margin-bottom: 4px;\n",
              "    }\n",
              "\n",
              "    [theme=dark] .colab-df-convert {\n",
              "      background-color: #3B4455;\n",
              "      fill: #D2E3FC;\n",
              "    }\n",
              "\n",
              "    [theme=dark] .colab-df-convert:hover {\n",
              "      background-color: #434B5C;\n",
              "      box-shadow: 0px 1px 3px 1px rgba(0, 0, 0, 0.15);\n",
              "      filter: drop-shadow(0px 1px 2px rgba(0, 0, 0, 0.3));\n",
              "      fill: #FFFFFF;\n",
              "    }\n",
              "  </style>\n",
              "\n",
              "    <script>\n",
              "      const buttonEl =\n",
              "        document.querySelector('#df-e8d1bbd3-5a07-41c0-a9e3-bd11a95b07e4 button.colab-df-convert');\n",
              "      buttonEl.style.display =\n",
              "        google.colab.kernel.accessAllowed ? 'block' : 'none';\n",
              "\n",
              "      async function convertToInteractive(key) {\n",
              "        const element = document.querySelector('#df-e8d1bbd3-5a07-41c0-a9e3-bd11a95b07e4');\n",
              "        const dataTable =\n",
              "          await google.colab.kernel.invokeFunction('convertToInteractive',\n",
              "                                                    [key], {});\n",
              "        if (!dataTable) return;\n",
              "\n",
              "        const docLinkHtml = 'Like what you see? Visit the ' +\n",
              "          '<a target=\"_blank\" href=https://colab.research.google.com/notebooks/data_table.ipynb>data table notebook</a>'\n",
              "          + ' to learn more about interactive tables.';\n",
              "        element.innerHTML = '';\n",
              "        dataTable['output_type'] = 'display_data';\n",
              "        await google.colab.output.renderOutput(dataTable, element);\n",
              "        const docLink = document.createElement('div');\n",
              "        docLink.innerHTML = docLinkHtml;\n",
              "        element.appendChild(docLink);\n",
              "      }\n",
              "    </script>\n",
              "  </div>\n",
              "\n",
              "\n",
              "<div id=\"df-065c6206-a3d9-46eb-b715-18b58029053d\">\n",
              "  <button class=\"colab-df-quickchart\" onclick=\"quickchart('df-065c6206-a3d9-46eb-b715-18b58029053d')\"\n",
              "            title=\"Suggest charts\"\n",
              "            style=\"display:none;\">\n",
              "\n",
              "<svg xmlns=\"http://www.w3.org/2000/svg\" height=\"24px\"viewBox=\"0 0 24 24\"\n",
              "     width=\"24px\">\n",
              "    <g>\n",
              "        <path d=\"M19 3H5c-1.1 0-2 .9-2 2v14c0 1.1.9 2 2 2h14c1.1 0 2-.9 2-2V5c0-1.1-.9-2-2-2zM9 17H7v-7h2v7zm4 0h-2V7h2v10zm4 0h-2v-4h2v4z\"/>\n",
              "    </g>\n",
              "</svg>\n",
              "  </button>\n",
              "\n",
              "<style>\n",
              "  .colab-df-quickchart {\n",
              "      --bg-color: #E8F0FE;\n",
              "      --fill-color: #1967D2;\n",
              "      --hover-bg-color: #E2EBFA;\n",
              "      --hover-fill-color: #174EA6;\n",
              "      --disabled-fill-color: #AAA;\n",
              "      --disabled-bg-color: #DDD;\n",
              "  }\n",
              "\n",
              "  [theme=dark] .colab-df-quickchart {\n",
              "      --bg-color: #3B4455;\n",
              "      --fill-color: #D2E3FC;\n",
              "      --hover-bg-color: #434B5C;\n",
              "      --hover-fill-color: #FFFFFF;\n",
              "      --disabled-bg-color: #3B4455;\n",
              "      --disabled-fill-color: #666;\n",
              "  }\n",
              "\n",
              "  .colab-df-quickchart {\n",
              "    background-color: var(--bg-color);\n",
              "    border: none;\n",
              "    border-radius: 50%;\n",
              "    cursor: pointer;\n",
              "    display: none;\n",
              "    fill: var(--fill-color);\n",
              "    height: 32px;\n",
              "    padding: 0;\n",
              "    width: 32px;\n",
              "  }\n",
              "\n",
              "  .colab-df-quickchart:hover {\n",
              "    background-color: var(--hover-bg-color);\n",
              "    box-shadow: 0 1px 2px rgba(60, 64, 67, 0.3), 0 1px 3px 1px rgba(60, 64, 67, 0.15);\n",
              "    fill: var(--button-hover-fill-color);\n",
              "  }\n",
              "\n",
              "  .colab-df-quickchart-complete:disabled,\n",
              "  .colab-df-quickchart-complete:disabled:hover {\n",
              "    background-color: var(--disabled-bg-color);\n",
              "    fill: var(--disabled-fill-color);\n",
              "    box-shadow: none;\n",
              "  }\n",
              "\n",
              "  .colab-df-spinner {\n",
              "    border: 2px solid var(--fill-color);\n",
              "    border-color: transparent;\n",
              "    border-bottom-color: var(--fill-color);\n",
              "    animation:\n",
              "      spin 1s steps(1) infinite;\n",
              "  }\n",
              "\n",
              "  @keyframes spin {\n",
              "    0% {\n",
              "      border-color: transparent;\n",
              "      border-bottom-color: var(--fill-color);\n",
              "      border-left-color: var(--fill-color);\n",
              "    }\n",
              "    20% {\n",
              "      border-color: transparent;\n",
              "      border-left-color: var(--fill-color);\n",
              "      border-top-color: var(--fill-color);\n",
              "    }\n",
              "    30% {\n",
              "      border-color: transparent;\n",
              "      border-left-color: var(--fill-color);\n",
              "      border-top-color: var(--fill-color);\n",
              "      border-right-color: var(--fill-color);\n",
              "    }\n",
              "    40% {\n",
              "      border-color: transparent;\n",
              "      border-right-color: var(--fill-color);\n",
              "      border-top-color: var(--fill-color);\n",
              "    }\n",
              "    60% {\n",
              "      border-color: transparent;\n",
              "      border-right-color: var(--fill-color);\n",
              "    }\n",
              "    80% {\n",
              "      border-color: transparent;\n",
              "      border-right-color: var(--fill-color);\n",
              "      border-bottom-color: var(--fill-color);\n",
              "    }\n",
              "    90% {\n",
              "      border-color: transparent;\n",
              "      border-bottom-color: var(--fill-color);\n",
              "    }\n",
              "  }\n",
              "</style>\n",
              "\n",
              "  <script>\n",
              "    async function quickchart(key) {\n",
              "      const quickchartButtonEl =\n",
              "        document.querySelector('#' + key + ' button');\n",
              "      quickchartButtonEl.disabled = true;  // To prevent multiple clicks.\n",
              "      quickchartButtonEl.classList.add('colab-df-spinner');\n",
              "      try {\n",
              "        const charts = await google.colab.kernel.invokeFunction(\n",
              "            'suggestCharts', [key], {});\n",
              "      } catch (error) {\n",
              "        console.error('Error during call to suggestCharts:', error);\n",
              "      }\n",
              "      quickchartButtonEl.classList.remove('colab-df-spinner');\n",
              "      quickchartButtonEl.classList.add('colab-df-quickchart-complete');\n",
              "    }\n",
              "    (() => {\n",
              "      let quickchartButtonEl =\n",
              "        document.querySelector('#df-065c6206-a3d9-46eb-b715-18b58029053d button');\n",
              "      quickchartButtonEl.style.display =\n",
              "        google.colab.kernel.accessAllowed ? 'block' : 'none';\n",
              "    })();\n",
              "  </script>\n",
              "</div>\n",
              "    </div>\n",
              "  </div>\n"
            ]
          },
          "metadata": {},
          "execution_count": 14
        }
      ],
      "source": [
        "# provides a statistical summary of the DataFrame train_df\n",
        "train_df.describe(include='all')"
      ]
    },
    {
      "cell_type": "code",
      "execution_count": null,
      "metadata": {
        "id": "mux6UfyhROPa",
        "colab": {
          "base_uri": "https://localhost:8080/",
          "height": 206
        },
        "outputId": "c62b309a-5fd2-4706-81de-bf69d729f086"
      },
      "outputs": [
        {
          "output_type": "execute_result",
          "data": {
            "text/plain": [
              "                                                 text  \\\n",
              "45  Mutual Non-Disclosure and Use of Information A...   \n",
              "46  Mutual Non-Disclosure and Use of Information A...   \n",
              "47  Mutual Non-Disclosure and Use of Information A...   \n",
              "48  Mutual Non-Disclosure and Use of Information A...   \n",
              "49  Mutual Non-Disclosure and Use of Information A...   \n",
              "\n",
              "                                           hypothesis         labels  \n",
              "45  Receiving Party may share some Confidential In...  Contradiction  \n",
              "46  Receiving Party may create a copy of some Conf...   NotMentioned  \n",
              "47  Receiving Party shall notify Disclosing Party ...     Entailment  \n",
              "48  Receiving Party may acquire information simila...     Entailment  \n",
              "49  Receiving Party may share some Confidential In...     Entailment  "
            ],
            "text/html": [
              "\n",
              "  <div id=\"df-f91744d9-390a-47a4-ba06-0073fa107602\" class=\"colab-df-container\">\n",
              "    <div>\n",
              "<style scoped>\n",
              "    .dataframe tbody tr th:only-of-type {\n",
              "        vertical-align: middle;\n",
              "    }\n",
              "\n",
              "    .dataframe tbody tr th {\n",
              "        vertical-align: top;\n",
              "    }\n",
              "\n",
              "    .dataframe thead th {\n",
              "        text-align: right;\n",
              "    }\n",
              "</style>\n",
              "<table border=\"1\" class=\"dataframe\">\n",
              "  <thead>\n",
              "    <tr style=\"text-align: right;\">\n",
              "      <th></th>\n",
              "      <th>text</th>\n",
              "      <th>hypothesis</th>\n",
              "      <th>labels</th>\n",
              "    </tr>\n",
              "  </thead>\n",
              "  <tbody>\n",
              "    <tr>\n",
              "      <th>45</th>\n",
              "      <td>Mutual Non-Disclosure and Use of Information A...</td>\n",
              "      <td>Receiving Party may share some Confidential In...</td>\n",
              "      <td>Contradiction</td>\n",
              "    </tr>\n",
              "    <tr>\n",
              "      <th>46</th>\n",
              "      <td>Mutual Non-Disclosure and Use of Information A...</td>\n",
              "      <td>Receiving Party may create a copy of some Conf...</td>\n",
              "      <td>NotMentioned</td>\n",
              "    </tr>\n",
              "    <tr>\n",
              "      <th>47</th>\n",
              "      <td>Mutual Non-Disclosure and Use of Information A...</td>\n",
              "      <td>Receiving Party shall notify Disclosing Party ...</td>\n",
              "      <td>Entailment</td>\n",
              "    </tr>\n",
              "    <tr>\n",
              "      <th>48</th>\n",
              "      <td>Mutual Non-Disclosure and Use of Information A...</td>\n",
              "      <td>Receiving Party may acquire information simila...</td>\n",
              "      <td>Entailment</td>\n",
              "    </tr>\n",
              "    <tr>\n",
              "      <th>49</th>\n",
              "      <td>Mutual Non-Disclosure and Use of Information A...</td>\n",
              "      <td>Receiving Party may share some Confidential In...</td>\n",
              "      <td>Entailment</td>\n",
              "    </tr>\n",
              "  </tbody>\n",
              "</table>\n",
              "</div>\n",
              "    <div class=\"colab-df-buttons\">\n",
              "\n",
              "  <div class=\"colab-df-container\">\n",
              "    <button class=\"colab-df-convert\" onclick=\"convertToInteractive('df-f91744d9-390a-47a4-ba06-0073fa107602')\"\n",
              "            title=\"Convert this dataframe to an interactive table.\"\n",
              "            style=\"display:none;\">\n",
              "\n",
              "  <svg xmlns=\"http://www.w3.org/2000/svg\" height=\"24px\" viewBox=\"0 -960 960 960\">\n",
              "    <path d=\"M120-120v-720h720v720H120Zm60-500h600v-160H180v160Zm220 220h160v-160H400v160Zm0 220h160v-160H400v160ZM180-400h160v-160H180v160Zm440 0h160v-160H620v160ZM180-180h160v-160H180v160Zm440 0h160v-160H620v160Z\"/>\n",
              "  </svg>\n",
              "    </button>\n",
              "\n",
              "  <style>\n",
              "    .colab-df-container {\n",
              "      display:flex;\n",
              "      gap: 12px;\n",
              "    }\n",
              "\n",
              "    .colab-df-convert {\n",
              "      background-color: #E8F0FE;\n",
              "      border: none;\n",
              "      border-radius: 50%;\n",
              "      cursor: pointer;\n",
              "      display: none;\n",
              "      fill: #1967D2;\n",
              "      height: 32px;\n",
              "      padding: 0 0 0 0;\n",
              "      width: 32px;\n",
              "    }\n",
              "\n",
              "    .colab-df-convert:hover {\n",
              "      background-color: #E2EBFA;\n",
              "      box-shadow: 0px 1px 2px rgba(60, 64, 67, 0.3), 0px 1px 3px 1px rgba(60, 64, 67, 0.15);\n",
              "      fill: #174EA6;\n",
              "    }\n",
              "\n",
              "    .colab-df-buttons div {\n",
              "      margin-bottom: 4px;\n",
              "    }\n",
              "\n",
              "    [theme=dark] .colab-df-convert {\n",
              "      background-color: #3B4455;\n",
              "      fill: #D2E3FC;\n",
              "    }\n",
              "\n",
              "    [theme=dark] .colab-df-convert:hover {\n",
              "      background-color: #434B5C;\n",
              "      box-shadow: 0px 1px 3px 1px rgba(0, 0, 0, 0.15);\n",
              "      filter: drop-shadow(0px 1px 2px rgba(0, 0, 0, 0.3));\n",
              "      fill: #FFFFFF;\n",
              "    }\n",
              "  </style>\n",
              "\n",
              "    <script>\n",
              "      const buttonEl =\n",
              "        document.querySelector('#df-f91744d9-390a-47a4-ba06-0073fa107602 button.colab-df-convert');\n",
              "      buttonEl.style.display =\n",
              "        google.colab.kernel.accessAllowed ? 'block' : 'none';\n",
              "\n",
              "      async function convertToInteractive(key) {\n",
              "        const element = document.querySelector('#df-f91744d9-390a-47a4-ba06-0073fa107602');\n",
              "        const dataTable =\n",
              "          await google.colab.kernel.invokeFunction('convertToInteractive',\n",
              "                                                    [key], {});\n",
              "        if (!dataTable) return;\n",
              "\n",
              "        const docLinkHtml = 'Like what you see? Visit the ' +\n",
              "          '<a target=\"_blank\" href=https://colab.research.google.com/notebooks/data_table.ipynb>data table notebook</a>'\n",
              "          + ' to learn more about interactive tables.';\n",
              "        element.innerHTML = '';\n",
              "        dataTable['output_type'] = 'display_data';\n",
              "        await google.colab.output.renderOutput(dataTable, element);\n",
              "        const docLink = document.createElement('div');\n",
              "        docLink.innerHTML = docLinkHtml;\n",
              "        element.appendChild(docLink);\n",
              "      }\n",
              "    </script>\n",
              "  </div>\n",
              "\n",
              "\n",
              "<div id=\"df-f99233cb-3371-4538-9df7-53b635b0e394\">\n",
              "  <button class=\"colab-df-quickchart\" onclick=\"quickchart('df-f99233cb-3371-4538-9df7-53b635b0e394')\"\n",
              "            title=\"Suggest charts\"\n",
              "            style=\"display:none;\">\n",
              "\n",
              "<svg xmlns=\"http://www.w3.org/2000/svg\" height=\"24px\"viewBox=\"0 0 24 24\"\n",
              "     width=\"24px\">\n",
              "    <g>\n",
              "        <path d=\"M19 3H5c-1.1 0-2 .9-2 2v14c0 1.1.9 2 2 2h14c1.1 0 2-.9 2-2V5c0-1.1-.9-2-2-2zM9 17H7v-7h2v7zm4 0h-2V7h2v10zm4 0h-2v-4h2v4z\"/>\n",
              "    </g>\n",
              "</svg>\n",
              "  </button>\n",
              "\n",
              "<style>\n",
              "  .colab-df-quickchart {\n",
              "      --bg-color: #E8F0FE;\n",
              "      --fill-color: #1967D2;\n",
              "      --hover-bg-color: #E2EBFA;\n",
              "      --hover-fill-color: #174EA6;\n",
              "      --disabled-fill-color: #AAA;\n",
              "      --disabled-bg-color: #DDD;\n",
              "  }\n",
              "\n",
              "  [theme=dark] .colab-df-quickchart {\n",
              "      --bg-color: #3B4455;\n",
              "      --fill-color: #D2E3FC;\n",
              "      --hover-bg-color: #434B5C;\n",
              "      --hover-fill-color: #FFFFFF;\n",
              "      --disabled-bg-color: #3B4455;\n",
              "      --disabled-fill-color: #666;\n",
              "  }\n",
              "\n",
              "  .colab-df-quickchart {\n",
              "    background-color: var(--bg-color);\n",
              "    border: none;\n",
              "    border-radius: 50%;\n",
              "    cursor: pointer;\n",
              "    display: none;\n",
              "    fill: var(--fill-color);\n",
              "    height: 32px;\n",
              "    padding: 0;\n",
              "    width: 32px;\n",
              "  }\n",
              "\n",
              "  .colab-df-quickchart:hover {\n",
              "    background-color: var(--hover-bg-color);\n",
              "    box-shadow: 0 1px 2px rgba(60, 64, 67, 0.3), 0 1px 3px 1px rgba(60, 64, 67, 0.15);\n",
              "    fill: var(--button-hover-fill-color);\n",
              "  }\n",
              "\n",
              "  .colab-df-quickchart-complete:disabled,\n",
              "  .colab-df-quickchart-complete:disabled:hover {\n",
              "    background-color: var(--disabled-bg-color);\n",
              "    fill: var(--disabled-fill-color);\n",
              "    box-shadow: none;\n",
              "  }\n",
              "\n",
              "  .colab-df-spinner {\n",
              "    border: 2px solid var(--fill-color);\n",
              "    border-color: transparent;\n",
              "    border-bottom-color: var(--fill-color);\n",
              "    animation:\n",
              "      spin 1s steps(1) infinite;\n",
              "  }\n",
              "\n",
              "  @keyframes spin {\n",
              "    0% {\n",
              "      border-color: transparent;\n",
              "      border-bottom-color: var(--fill-color);\n",
              "      border-left-color: var(--fill-color);\n",
              "    }\n",
              "    20% {\n",
              "      border-color: transparent;\n",
              "      border-left-color: var(--fill-color);\n",
              "      border-top-color: var(--fill-color);\n",
              "    }\n",
              "    30% {\n",
              "      border-color: transparent;\n",
              "      border-left-color: var(--fill-color);\n",
              "      border-top-color: var(--fill-color);\n",
              "      border-right-color: var(--fill-color);\n",
              "    }\n",
              "    40% {\n",
              "      border-color: transparent;\n",
              "      border-right-color: var(--fill-color);\n",
              "      border-top-color: var(--fill-color);\n",
              "    }\n",
              "    60% {\n",
              "      border-color: transparent;\n",
              "      border-right-color: var(--fill-color);\n",
              "    }\n",
              "    80% {\n",
              "      border-color: transparent;\n",
              "      border-right-color: var(--fill-color);\n",
              "      border-bottom-color: var(--fill-color);\n",
              "    }\n",
              "    90% {\n",
              "      border-color: transparent;\n",
              "      border-bottom-color: var(--fill-color);\n",
              "    }\n",
              "  }\n",
              "</style>\n",
              "\n",
              "  <script>\n",
              "    async function quickchart(key) {\n",
              "      const quickchartButtonEl =\n",
              "        document.querySelector('#' + key + ' button');\n",
              "      quickchartButtonEl.disabled = true;  // To prevent multiple clicks.\n",
              "      quickchartButtonEl.classList.add('colab-df-spinner');\n",
              "      try {\n",
              "        const charts = await google.colab.kernel.invokeFunction(\n",
              "            'suggestCharts', [key], {});\n",
              "      } catch (error) {\n",
              "        console.error('Error during call to suggestCharts:', error);\n",
              "      }\n",
              "      quickchartButtonEl.classList.remove('colab-df-spinner');\n",
              "      quickchartButtonEl.classList.add('colab-df-quickchart-complete');\n",
              "    }\n",
              "    (() => {\n",
              "      let quickchartButtonEl =\n",
              "        document.querySelector('#df-f99233cb-3371-4538-9df7-53b635b0e394 button');\n",
              "      quickchartButtonEl.style.display =\n",
              "        google.colab.kernel.accessAllowed ? 'block' : 'none';\n",
              "    })();\n",
              "  </script>\n",
              "</div>\n",
              "    </div>\n",
              "  </div>\n"
            ]
          },
          "metadata": {},
          "execution_count": 15
        }
      ],
      "source": [
        "# display the last few rows of the DataFrame train_df\n",
        "train_df.tail()"
      ]
    },
    {
      "cell_type": "code",
      "execution_count": null,
      "metadata": {
        "id": "xDDGs5SW7uUt",
        "colab": {
          "base_uri": "https://localhost:8080/",
          "height": 175
        },
        "outputId": "d78a4bbf-1d92-412d-b678-2b41de77183b"
      },
      "outputs": [
        {
          "output_type": "execute_result",
          "data": {
            "text/plain": [
              "                                                     text  \\\n",
              "count                                                  50   \n",
              "unique                                                  3   \n",
              "top     OISAIR PROJECT\\nTWO-WAY CONFIDENTIALITY AND NO...   \n",
              "freq                                                   17   \n",
              "\n",
              "                                               hypothesis      labels  \n",
              "count                                                  50          50  \n",
              "unique                                                 17           3  \n",
              "top     Receiving Party shall not reverse engineer any...  Entailment  \n",
              "freq                                                    3          31  "
            ],
            "text/html": [
              "\n",
              "  <div id=\"df-ddeade62-dc68-4d49-b082-f76b0ce8f60b\" class=\"colab-df-container\">\n",
              "    <div>\n",
              "<style scoped>\n",
              "    .dataframe tbody tr th:only-of-type {\n",
              "        vertical-align: middle;\n",
              "    }\n",
              "\n",
              "    .dataframe tbody tr th {\n",
              "        vertical-align: top;\n",
              "    }\n",
              "\n",
              "    .dataframe thead th {\n",
              "        text-align: right;\n",
              "    }\n",
              "</style>\n",
              "<table border=\"1\" class=\"dataframe\">\n",
              "  <thead>\n",
              "    <tr style=\"text-align: right;\">\n",
              "      <th></th>\n",
              "      <th>text</th>\n",
              "      <th>hypothesis</th>\n",
              "      <th>labels</th>\n",
              "    </tr>\n",
              "  </thead>\n",
              "  <tbody>\n",
              "    <tr>\n",
              "      <th>count</th>\n",
              "      <td>50</td>\n",
              "      <td>50</td>\n",
              "      <td>50</td>\n",
              "    </tr>\n",
              "    <tr>\n",
              "      <th>unique</th>\n",
              "      <td>3</td>\n",
              "      <td>17</td>\n",
              "      <td>3</td>\n",
              "    </tr>\n",
              "    <tr>\n",
              "      <th>top</th>\n",
              "      <td>OISAIR PROJECT\\nTWO-WAY CONFIDENTIALITY AND NO...</td>\n",
              "      <td>Receiving Party shall not reverse engineer any...</td>\n",
              "      <td>Entailment</td>\n",
              "    </tr>\n",
              "    <tr>\n",
              "      <th>freq</th>\n",
              "      <td>17</td>\n",
              "      <td>3</td>\n",
              "      <td>31</td>\n",
              "    </tr>\n",
              "  </tbody>\n",
              "</table>\n",
              "</div>\n",
              "    <div class=\"colab-df-buttons\">\n",
              "\n",
              "  <div class=\"colab-df-container\">\n",
              "    <button class=\"colab-df-convert\" onclick=\"convertToInteractive('df-ddeade62-dc68-4d49-b082-f76b0ce8f60b')\"\n",
              "            title=\"Convert this dataframe to an interactive table.\"\n",
              "            style=\"display:none;\">\n",
              "\n",
              "  <svg xmlns=\"http://www.w3.org/2000/svg\" height=\"24px\" viewBox=\"0 -960 960 960\">\n",
              "    <path d=\"M120-120v-720h720v720H120Zm60-500h600v-160H180v160Zm220 220h160v-160H400v160Zm0 220h160v-160H400v160ZM180-400h160v-160H180v160Zm440 0h160v-160H620v160ZM180-180h160v-160H180v160Zm440 0h160v-160H620v160Z\"/>\n",
              "  </svg>\n",
              "    </button>\n",
              "\n",
              "  <style>\n",
              "    .colab-df-container {\n",
              "      display:flex;\n",
              "      gap: 12px;\n",
              "    }\n",
              "\n",
              "    .colab-df-convert {\n",
              "      background-color: #E8F0FE;\n",
              "      border: none;\n",
              "      border-radius: 50%;\n",
              "      cursor: pointer;\n",
              "      display: none;\n",
              "      fill: #1967D2;\n",
              "      height: 32px;\n",
              "      padding: 0 0 0 0;\n",
              "      width: 32px;\n",
              "    }\n",
              "\n",
              "    .colab-df-convert:hover {\n",
              "      background-color: #E2EBFA;\n",
              "      box-shadow: 0px 1px 2px rgba(60, 64, 67, 0.3), 0px 1px 3px 1px rgba(60, 64, 67, 0.15);\n",
              "      fill: #174EA6;\n",
              "    }\n",
              "\n",
              "    .colab-df-buttons div {\n",
              "      margin-bottom: 4px;\n",
              "    }\n",
              "\n",
              "    [theme=dark] .colab-df-convert {\n",
              "      background-color: #3B4455;\n",
              "      fill: #D2E3FC;\n",
              "    }\n",
              "\n",
              "    [theme=dark] .colab-df-convert:hover {\n",
              "      background-color: #434B5C;\n",
              "      box-shadow: 0px 1px 3px 1px rgba(0, 0, 0, 0.15);\n",
              "      filter: drop-shadow(0px 1px 2px rgba(0, 0, 0, 0.3));\n",
              "      fill: #FFFFFF;\n",
              "    }\n",
              "  </style>\n",
              "\n",
              "    <script>\n",
              "      const buttonEl =\n",
              "        document.querySelector('#df-ddeade62-dc68-4d49-b082-f76b0ce8f60b button.colab-df-convert');\n",
              "      buttonEl.style.display =\n",
              "        google.colab.kernel.accessAllowed ? 'block' : 'none';\n",
              "\n",
              "      async function convertToInteractive(key) {\n",
              "        const element = document.querySelector('#df-ddeade62-dc68-4d49-b082-f76b0ce8f60b');\n",
              "        const dataTable =\n",
              "          await google.colab.kernel.invokeFunction('convertToInteractive',\n",
              "                                                    [key], {});\n",
              "        if (!dataTable) return;\n",
              "\n",
              "        const docLinkHtml = 'Like what you see? Visit the ' +\n",
              "          '<a target=\"_blank\" href=https://colab.research.google.com/notebooks/data_table.ipynb>data table notebook</a>'\n",
              "          + ' to learn more about interactive tables.';\n",
              "        element.innerHTML = '';\n",
              "        dataTable['output_type'] = 'display_data';\n",
              "        await google.colab.output.renderOutput(dataTable, element);\n",
              "        const docLink = document.createElement('div');\n",
              "        docLink.innerHTML = docLinkHtml;\n",
              "        element.appendChild(docLink);\n",
              "      }\n",
              "    </script>\n",
              "  </div>\n",
              "\n",
              "\n",
              "<div id=\"df-e7b0bb9e-cb9b-4cab-9766-3a00ffe3c760\">\n",
              "  <button class=\"colab-df-quickchart\" onclick=\"quickchart('df-e7b0bb9e-cb9b-4cab-9766-3a00ffe3c760')\"\n",
              "            title=\"Suggest charts\"\n",
              "            style=\"display:none;\">\n",
              "\n",
              "<svg xmlns=\"http://www.w3.org/2000/svg\" height=\"24px\"viewBox=\"0 0 24 24\"\n",
              "     width=\"24px\">\n",
              "    <g>\n",
              "        <path d=\"M19 3H5c-1.1 0-2 .9-2 2v14c0 1.1.9 2 2 2h14c1.1 0 2-.9 2-2V5c0-1.1-.9-2-2-2zM9 17H7v-7h2v7zm4 0h-2V7h2v10zm4 0h-2v-4h2v4z\"/>\n",
              "    </g>\n",
              "</svg>\n",
              "  </button>\n",
              "\n",
              "<style>\n",
              "  .colab-df-quickchart {\n",
              "      --bg-color: #E8F0FE;\n",
              "      --fill-color: #1967D2;\n",
              "      --hover-bg-color: #E2EBFA;\n",
              "      --hover-fill-color: #174EA6;\n",
              "      --disabled-fill-color: #AAA;\n",
              "      --disabled-bg-color: #DDD;\n",
              "  }\n",
              "\n",
              "  [theme=dark] .colab-df-quickchart {\n",
              "      --bg-color: #3B4455;\n",
              "      --fill-color: #D2E3FC;\n",
              "      --hover-bg-color: #434B5C;\n",
              "      --hover-fill-color: #FFFFFF;\n",
              "      --disabled-bg-color: #3B4455;\n",
              "      --disabled-fill-color: #666;\n",
              "  }\n",
              "\n",
              "  .colab-df-quickchart {\n",
              "    background-color: var(--bg-color);\n",
              "    border: none;\n",
              "    border-radius: 50%;\n",
              "    cursor: pointer;\n",
              "    display: none;\n",
              "    fill: var(--fill-color);\n",
              "    height: 32px;\n",
              "    padding: 0;\n",
              "    width: 32px;\n",
              "  }\n",
              "\n",
              "  .colab-df-quickchart:hover {\n",
              "    background-color: var(--hover-bg-color);\n",
              "    box-shadow: 0 1px 2px rgba(60, 64, 67, 0.3), 0 1px 3px 1px rgba(60, 64, 67, 0.15);\n",
              "    fill: var(--button-hover-fill-color);\n",
              "  }\n",
              "\n",
              "  .colab-df-quickchart-complete:disabled,\n",
              "  .colab-df-quickchart-complete:disabled:hover {\n",
              "    background-color: var(--disabled-bg-color);\n",
              "    fill: var(--disabled-fill-color);\n",
              "    box-shadow: none;\n",
              "  }\n",
              "\n",
              "  .colab-df-spinner {\n",
              "    border: 2px solid var(--fill-color);\n",
              "    border-color: transparent;\n",
              "    border-bottom-color: var(--fill-color);\n",
              "    animation:\n",
              "      spin 1s steps(1) infinite;\n",
              "  }\n",
              "\n",
              "  @keyframes spin {\n",
              "    0% {\n",
              "      border-color: transparent;\n",
              "      border-bottom-color: var(--fill-color);\n",
              "      border-left-color: var(--fill-color);\n",
              "    }\n",
              "    20% {\n",
              "      border-color: transparent;\n",
              "      border-left-color: var(--fill-color);\n",
              "      border-top-color: var(--fill-color);\n",
              "    }\n",
              "    30% {\n",
              "      border-color: transparent;\n",
              "      border-left-color: var(--fill-color);\n",
              "      border-top-color: var(--fill-color);\n",
              "      border-right-color: var(--fill-color);\n",
              "    }\n",
              "    40% {\n",
              "      border-color: transparent;\n",
              "      border-right-color: var(--fill-color);\n",
              "      border-top-color: var(--fill-color);\n",
              "    }\n",
              "    60% {\n",
              "      border-color: transparent;\n",
              "      border-right-color: var(--fill-color);\n",
              "    }\n",
              "    80% {\n",
              "      border-color: transparent;\n",
              "      border-right-color: var(--fill-color);\n",
              "      border-bottom-color: var(--fill-color);\n",
              "    }\n",
              "    90% {\n",
              "      border-color: transparent;\n",
              "      border-bottom-color: var(--fill-color);\n",
              "    }\n",
              "  }\n",
              "</style>\n",
              "\n",
              "  <script>\n",
              "    async function quickchart(key) {\n",
              "      const quickchartButtonEl =\n",
              "        document.querySelector('#' + key + ' button');\n",
              "      quickchartButtonEl.disabled = true;  // To prevent multiple clicks.\n",
              "      quickchartButtonEl.classList.add('colab-df-spinner');\n",
              "      try {\n",
              "        const charts = await google.colab.kernel.invokeFunction(\n",
              "            'suggestCharts', [key], {});\n",
              "      } catch (error) {\n",
              "        console.error('Error during call to suggestCharts:', error);\n",
              "      }\n",
              "      quickchartButtonEl.classList.remove('colab-df-spinner');\n",
              "      quickchartButtonEl.classList.add('colab-df-quickchart-complete');\n",
              "    }\n",
              "    (() => {\n",
              "      let quickchartButtonEl =\n",
              "        document.querySelector('#df-e7b0bb9e-cb9b-4cab-9766-3a00ffe3c760 button');\n",
              "      quickchartButtonEl.style.display =\n",
              "        google.colab.kernel.accessAllowed ? 'block' : 'none';\n",
              "    })();\n",
              "  </script>\n",
              "</div>\n",
              "    </div>\n",
              "  </div>\n"
            ]
          },
          "metadata": {},
          "execution_count": 16
        }
      ],
      "source": [
        "# provides a statistical summary of the DataFrame validation_df\n",
        "validation_df.describe(include='all')"
      ]
    },
    {
      "cell_type": "code",
      "execution_count": null,
      "metadata": {
        "id": "irbt_Dlf70Ar",
        "colab": {
          "base_uri": "https://localhost:8080/",
          "height": 175
        },
        "outputId": "f23ef8a6-b208-474b-e4e3-4521722f427a"
      },
      "outputs": [
        {
          "output_type": "execute_result",
          "data": {
            "text/plain": [
              "                                                     text  \\\n",
              "count                                                  50   \n",
              "unique                                                  3   \n",
              "top     NON-DISCLOSURE AGREEMENT\\nRequired under JEA's...   \n",
              "freq                                                   17   \n",
              "\n",
              "                                               hypothesis      labels  \n",
              "count                                                  50          50  \n",
              "unique                                                 17           3  \n",
              "top     Receiving Party shall not reverse engineer any...  Entailment  \n",
              "freq                                                    3          25  "
            ],
            "text/html": [
              "\n",
              "  <div id=\"df-18d29bca-c026-4a55-8480-f78b5eda8f60\" class=\"colab-df-container\">\n",
              "    <div>\n",
              "<style scoped>\n",
              "    .dataframe tbody tr th:only-of-type {\n",
              "        vertical-align: middle;\n",
              "    }\n",
              "\n",
              "    .dataframe tbody tr th {\n",
              "        vertical-align: top;\n",
              "    }\n",
              "\n",
              "    .dataframe thead th {\n",
              "        text-align: right;\n",
              "    }\n",
              "</style>\n",
              "<table border=\"1\" class=\"dataframe\">\n",
              "  <thead>\n",
              "    <tr style=\"text-align: right;\">\n",
              "      <th></th>\n",
              "      <th>text</th>\n",
              "      <th>hypothesis</th>\n",
              "      <th>labels</th>\n",
              "    </tr>\n",
              "  </thead>\n",
              "  <tbody>\n",
              "    <tr>\n",
              "      <th>count</th>\n",
              "      <td>50</td>\n",
              "      <td>50</td>\n",
              "      <td>50</td>\n",
              "    </tr>\n",
              "    <tr>\n",
              "      <th>unique</th>\n",
              "      <td>3</td>\n",
              "      <td>17</td>\n",
              "      <td>3</td>\n",
              "    </tr>\n",
              "    <tr>\n",
              "      <th>top</th>\n",
              "      <td>NON-DISCLOSURE AGREEMENT\\nRequired under JEA's...</td>\n",
              "      <td>Receiving Party shall not reverse engineer any...</td>\n",
              "      <td>Entailment</td>\n",
              "    </tr>\n",
              "    <tr>\n",
              "      <th>freq</th>\n",
              "      <td>17</td>\n",
              "      <td>3</td>\n",
              "      <td>25</td>\n",
              "    </tr>\n",
              "  </tbody>\n",
              "</table>\n",
              "</div>\n",
              "    <div class=\"colab-df-buttons\">\n",
              "\n",
              "  <div class=\"colab-df-container\">\n",
              "    <button class=\"colab-df-convert\" onclick=\"convertToInteractive('df-18d29bca-c026-4a55-8480-f78b5eda8f60')\"\n",
              "            title=\"Convert this dataframe to an interactive table.\"\n",
              "            style=\"display:none;\">\n",
              "\n",
              "  <svg xmlns=\"http://www.w3.org/2000/svg\" height=\"24px\" viewBox=\"0 -960 960 960\">\n",
              "    <path d=\"M120-120v-720h720v720H120Zm60-500h600v-160H180v160Zm220 220h160v-160H400v160Zm0 220h160v-160H400v160ZM180-400h160v-160H180v160Zm440 0h160v-160H620v160ZM180-180h160v-160H180v160Zm440 0h160v-160H620v160Z\"/>\n",
              "  </svg>\n",
              "    </button>\n",
              "\n",
              "  <style>\n",
              "    .colab-df-container {\n",
              "      display:flex;\n",
              "      gap: 12px;\n",
              "    }\n",
              "\n",
              "    .colab-df-convert {\n",
              "      background-color: #E8F0FE;\n",
              "      border: none;\n",
              "      border-radius: 50%;\n",
              "      cursor: pointer;\n",
              "      display: none;\n",
              "      fill: #1967D2;\n",
              "      height: 32px;\n",
              "      padding: 0 0 0 0;\n",
              "      width: 32px;\n",
              "    }\n",
              "\n",
              "    .colab-df-convert:hover {\n",
              "      background-color: #E2EBFA;\n",
              "      box-shadow: 0px 1px 2px rgba(60, 64, 67, 0.3), 0px 1px 3px 1px rgba(60, 64, 67, 0.15);\n",
              "      fill: #174EA6;\n",
              "    }\n",
              "\n",
              "    .colab-df-buttons div {\n",
              "      margin-bottom: 4px;\n",
              "    }\n",
              "\n",
              "    [theme=dark] .colab-df-convert {\n",
              "      background-color: #3B4455;\n",
              "      fill: #D2E3FC;\n",
              "    }\n",
              "\n",
              "    [theme=dark] .colab-df-convert:hover {\n",
              "      background-color: #434B5C;\n",
              "      box-shadow: 0px 1px 3px 1px rgba(0, 0, 0, 0.15);\n",
              "      filter: drop-shadow(0px 1px 2px rgba(0, 0, 0, 0.3));\n",
              "      fill: #FFFFFF;\n",
              "    }\n",
              "  </style>\n",
              "\n",
              "    <script>\n",
              "      const buttonEl =\n",
              "        document.querySelector('#df-18d29bca-c026-4a55-8480-f78b5eda8f60 button.colab-df-convert');\n",
              "      buttonEl.style.display =\n",
              "        google.colab.kernel.accessAllowed ? 'block' : 'none';\n",
              "\n",
              "      async function convertToInteractive(key) {\n",
              "        const element = document.querySelector('#df-18d29bca-c026-4a55-8480-f78b5eda8f60');\n",
              "        const dataTable =\n",
              "          await google.colab.kernel.invokeFunction('convertToInteractive',\n",
              "                                                    [key], {});\n",
              "        if (!dataTable) return;\n",
              "\n",
              "        const docLinkHtml = 'Like what you see? Visit the ' +\n",
              "          '<a target=\"_blank\" href=https://colab.research.google.com/notebooks/data_table.ipynb>data table notebook</a>'\n",
              "          + ' to learn more about interactive tables.';\n",
              "        element.innerHTML = '';\n",
              "        dataTable['output_type'] = 'display_data';\n",
              "        await google.colab.output.renderOutput(dataTable, element);\n",
              "        const docLink = document.createElement('div');\n",
              "        docLink.innerHTML = docLinkHtml;\n",
              "        element.appendChild(docLink);\n",
              "      }\n",
              "    </script>\n",
              "  </div>\n",
              "\n",
              "\n",
              "<div id=\"df-24b99020-2c80-4f3a-9634-fc6aa9972ea6\">\n",
              "  <button class=\"colab-df-quickchart\" onclick=\"quickchart('df-24b99020-2c80-4f3a-9634-fc6aa9972ea6')\"\n",
              "            title=\"Suggest charts\"\n",
              "            style=\"display:none;\">\n",
              "\n",
              "<svg xmlns=\"http://www.w3.org/2000/svg\" height=\"24px\"viewBox=\"0 0 24 24\"\n",
              "     width=\"24px\">\n",
              "    <g>\n",
              "        <path d=\"M19 3H5c-1.1 0-2 .9-2 2v14c0 1.1.9 2 2 2h14c1.1 0 2-.9 2-2V5c0-1.1-.9-2-2-2zM9 17H7v-7h2v7zm4 0h-2V7h2v10zm4 0h-2v-4h2v4z\"/>\n",
              "    </g>\n",
              "</svg>\n",
              "  </button>\n",
              "\n",
              "<style>\n",
              "  .colab-df-quickchart {\n",
              "      --bg-color: #E8F0FE;\n",
              "      --fill-color: #1967D2;\n",
              "      --hover-bg-color: #E2EBFA;\n",
              "      --hover-fill-color: #174EA6;\n",
              "      --disabled-fill-color: #AAA;\n",
              "      --disabled-bg-color: #DDD;\n",
              "  }\n",
              "\n",
              "  [theme=dark] .colab-df-quickchart {\n",
              "      --bg-color: #3B4455;\n",
              "      --fill-color: #D2E3FC;\n",
              "      --hover-bg-color: #434B5C;\n",
              "      --hover-fill-color: #FFFFFF;\n",
              "      --disabled-bg-color: #3B4455;\n",
              "      --disabled-fill-color: #666;\n",
              "  }\n",
              "\n",
              "  .colab-df-quickchart {\n",
              "    background-color: var(--bg-color);\n",
              "    border: none;\n",
              "    border-radius: 50%;\n",
              "    cursor: pointer;\n",
              "    display: none;\n",
              "    fill: var(--fill-color);\n",
              "    height: 32px;\n",
              "    padding: 0;\n",
              "    width: 32px;\n",
              "  }\n",
              "\n",
              "  .colab-df-quickchart:hover {\n",
              "    background-color: var(--hover-bg-color);\n",
              "    box-shadow: 0 1px 2px rgba(60, 64, 67, 0.3), 0 1px 3px 1px rgba(60, 64, 67, 0.15);\n",
              "    fill: var(--button-hover-fill-color);\n",
              "  }\n",
              "\n",
              "  .colab-df-quickchart-complete:disabled,\n",
              "  .colab-df-quickchart-complete:disabled:hover {\n",
              "    background-color: var(--disabled-bg-color);\n",
              "    fill: var(--disabled-fill-color);\n",
              "    box-shadow: none;\n",
              "  }\n",
              "\n",
              "  .colab-df-spinner {\n",
              "    border: 2px solid var(--fill-color);\n",
              "    border-color: transparent;\n",
              "    border-bottom-color: var(--fill-color);\n",
              "    animation:\n",
              "      spin 1s steps(1) infinite;\n",
              "  }\n",
              "\n",
              "  @keyframes spin {\n",
              "    0% {\n",
              "      border-color: transparent;\n",
              "      border-bottom-color: var(--fill-color);\n",
              "      border-left-color: var(--fill-color);\n",
              "    }\n",
              "    20% {\n",
              "      border-color: transparent;\n",
              "      border-left-color: var(--fill-color);\n",
              "      border-top-color: var(--fill-color);\n",
              "    }\n",
              "    30% {\n",
              "      border-color: transparent;\n",
              "      border-left-color: var(--fill-color);\n",
              "      border-top-color: var(--fill-color);\n",
              "      border-right-color: var(--fill-color);\n",
              "    }\n",
              "    40% {\n",
              "      border-color: transparent;\n",
              "      border-right-color: var(--fill-color);\n",
              "      border-top-color: var(--fill-color);\n",
              "    }\n",
              "    60% {\n",
              "      border-color: transparent;\n",
              "      border-right-color: var(--fill-color);\n",
              "    }\n",
              "    80% {\n",
              "      border-color: transparent;\n",
              "      border-right-color: var(--fill-color);\n",
              "      border-bottom-color: var(--fill-color);\n",
              "    }\n",
              "    90% {\n",
              "      border-color: transparent;\n",
              "      border-bottom-color: var(--fill-color);\n",
              "    }\n",
              "  }\n",
              "</style>\n",
              "\n",
              "  <script>\n",
              "    async function quickchart(key) {\n",
              "      const quickchartButtonEl =\n",
              "        document.querySelector('#' + key + ' button');\n",
              "      quickchartButtonEl.disabled = true;  // To prevent multiple clicks.\n",
              "      quickchartButtonEl.classList.add('colab-df-spinner');\n",
              "      try {\n",
              "        const charts = await google.colab.kernel.invokeFunction(\n",
              "            'suggestCharts', [key], {});\n",
              "      } catch (error) {\n",
              "        console.error('Error during call to suggestCharts:', error);\n",
              "      }\n",
              "      quickchartButtonEl.classList.remove('colab-df-spinner');\n",
              "      quickchartButtonEl.classList.add('colab-df-quickchart-complete');\n",
              "    }\n",
              "    (() => {\n",
              "      let quickchartButtonEl =\n",
              "        document.querySelector('#df-24b99020-2c80-4f3a-9634-fc6aa9972ea6 button');\n",
              "      quickchartButtonEl.style.display =\n",
              "        google.colab.kernel.accessAllowed ? 'block' : 'none';\n",
              "    })();\n",
              "  </script>\n",
              "</div>\n",
              "    </div>\n",
              "  </div>\n"
            ]
          },
          "metadata": {},
          "execution_count": 17
        }
      ],
      "source": [
        "# provides a statistical summary of the DataFrame validation_df\n",
        "testing_df.describe(include='all')"
      ]
    },
    {
      "cell_type": "markdown",
      "metadata": {
        "id": "8DgIeMG5xvmj"
      },
      "source": [
        "#### **Q1 - 2**\n",
        "\n",
        "- Determine the number of documents in the dataset\n",
        "- Calculate the average length of each document (measured by number of characters)\n",
        "- Determine the minimum, maximum, and median lengths of the documents and hypotheses\n",
        "- Create a histogram and boxplot to visualize the distribution of document and hypothesis lengths\n",
        "- Determine the distribution of labels (Entailment, Contradiction, NotMentioned) in the dataset\n",
        "- Create a bar chart and pie chart to visualize the label distribution"
      ]
    },
    {
      "cell_type": "code",
      "execution_count": null,
      "metadata": {
        "id": "TcRjj9hNgXOS",
        "colab": {
          "base_uri": "https://localhost:8080/"
        },
        "outputId": "8035bad1-1fdb-43e2-b06e-f4bc1278b7b8"
      },
      "outputs": [
        {
          "output_type": "stream",
          "name": "stdout",
          "text": [
            "The number of the documents (contracts or rows) in the training dataset: 50\n",
            "The number of the documents (contracts or rows) in the validation dataset: 50\n",
            "The number of the documents (contracts or rows) in the testing dataset: 50\n"
          ]
        }
      ],
      "source": [
        "# Determine the number of documents\n",
        "num_docs_tr = len(train_df)\n",
        "num_docs_dev = len(validation_df)\n",
        "num_docs_tst = len(testing_df)\n",
        "\n",
        "print(\"The number of the documents (contracts or rows) in the training dataset:\",num_docs_tr)\n",
        "print(\"The number of the documents (contracts or rows) in the validation dataset:\",num_docs_dev)\n",
        "print(\"The number of the documents (contracts or rows) in the testing dataset:\",num_docs_tst)"
      ]
    },
    {
      "cell_type": "code",
      "execution_count": null,
      "metadata": {
        "colab": {
          "base_uri": "https://localhost:8080/",
          "height": 1000
        },
        "id": "Ju2ABaR2kZCT",
        "outputId": "41730dfe-6541-4959-988c-36cd3d85ab0b"
      },
      "outputs": [
        {
          "output_type": "stream",
          "name": "stdout",
          "text": [
            "Average document length for training: 12789.30 characters\n",
            "Min document length for training: 8585 characters\n",
            "Max document length for training: 14967 characters\n",
            "Median document length for training: 14944.0 characters\n",
            "-------------------------------------------------------------------------\n"
          ]
        },
        {
          "output_type": "display_data",
          "data": {
            "text/plain": [
              "<Figure size 640x480 with 1 Axes>"
            ],
            "image/png": "[encoded data removed]"
          },
          "metadata": {}
        },
        {
          "output_type": "display_data",
          "data": {
            "text/plain": [
              "<Figure size 640x480 with 1 Axes>"
            ],
            "image/png": "[encoded data removed]"
          },
          "metadata": {}
        },
        {
          "output_type": "stream",
          "name": "stdout",
          "text": [
            "Average document length for validation: 19470.48 characters\n",
            "Min document length for validation: 11142 characters\n",
            "Max document length for validation: 29838 characters\n",
            "Median document length for validation: 17304.0 characters\n",
            "-------------------------------------------------------------------------\n"
          ]
        },
        {
          "output_type": "display_data",
          "data": {
            "text/plain": [
              "<Figure size 640x480 with 1 Axes>"
            ],
            "image/png": "[encoded data removed]"
          },
          "metadata": {}
        },
        {
          "output_type": "display_data",
          "data": {
            "text/plain": [
              "<Figure size 640x480 with 1 Axes>"
            ],
            "image/png": "[encoded data removed]"
          },
          "metadata": {}
        },
        {
          "output_type": "stream",
          "name": "stdout",
          "text": [
            "Average document length for testing: 11625.46 characters\n",
            "Min document length for testing: 2405 characters\n",
            "Max document length for testing: 16632 characters\n",
            "Median document length for testing: 15297.0 characters\n",
            "-------------------------------------------------------------------------\n"
          ]
        },
        {
          "output_type": "display_data",
          "data": {
            "text/plain": [
              "<Figure size 640x480 with 1 Axes>"
            ],
            "image/png": "[encoded data removed]"
          },
          "metadata": {}
        },
        {
          "output_type": "display_data",
          "data": {
            "text/plain": [
              "<Figure size 640x480 with 1 Axes>"
            ],
            "image/png": "[encoded data removed]"
          },
          "metadata": {}
        }
      ],
      "source": [
        "get_stats(train_df,\"training\", \"text\",\"document\")\n",
        "get_stats(validation_df,\"validation\", \"text\",\"document\")\n",
        "get_stats(testing_df,\"testing\", \"text\",\"document\")"
      ]
    },
    {
      "cell_type": "code",
      "execution_count": null,
      "metadata": {
        "id": "N03wyMOBmb88",
        "colab": {
          "base_uri": "https://localhost:8080/",
          "height": 1000
        },
        "outputId": "0e293eae-a61f-4cb1-a80d-8c0b0ac75e0e"
      },
      "outputs": [
        {
          "output_type": "stream",
          "name": "stdout",
          "text": [
            "Average document length for training: 96.74 characters\n",
            "Min hypothesis length for training: 66 characters\n",
            "Max hypothesis length for training: 162 characters\n",
            "Median hypothesis length for training: 90.0 characters\n",
            "-------------------------------------------------------------------------\n"
          ]
        },
        {
          "output_type": "display_data",
          "data": {
            "text/plain": [
              "<Figure size 640x480 with 1 Axes>"
            ],
            "image/png": "[encoded data removed]"
          },
          "metadata": {}
        },
        {
          "output_type": "display_data",
          "data": {
            "text/plain": [
              "<Figure size 640x480 with 1 Axes>"
            ],
            "image/png": "[encoded data removed]"
          },
          "metadata": {}
        },
        {
          "output_type": "stream",
          "name": "stdout",
          "text": [
            "Average document length for validation: 96.74 characters\n",
            "Min hypothesis length for validation: 66 characters\n",
            "Max hypothesis length for validation: 162 characters\n",
            "Median hypothesis length for validation: 90.0 characters\n",
            "-------------------------------------------------------------------------\n"
          ]
        },
        {
          "output_type": "display_data",
          "data": {
            "text/plain": [
              "<Figure size 640x480 with 1 Axes>"
            ],
            "image/png": "[encoded data removed]"
          },
          "metadata": {}
        },
        {
          "output_type": "display_data",
          "data": {
            "text/plain": [
              "<Figure size 640x480 with 1 Axes>"
            ],
            "image/png": "[encoded data removed]"
          },
          "metadata": {}
        },
        {
          "output_type": "stream",
          "name": "stdout",
          "text": [
            "Average document length for testing: 96.74 characters\n",
            "Min hypothesis length for testing: 66 characters\n",
            "Max hypothesis length for testing: 162 characters\n",
            "Median hypothesis length for testing: 90.0 characters\n",
            "-------------------------------------------------------------------------\n"
          ]
        },
        {
          "output_type": "display_data",
          "data": {
            "text/plain": [
              "<Figure size 640x480 with 1 Axes>"
            ],
            "image/png": "[encoded data removed]"
          },
          "metadata": {}
        },
        {
          "output_type": "display_data",
          "data": {
            "text/plain": [
              "<Figure size 640x480 with 1 Axes>"
            ],
            "image/png": "[encoded data removed]"
          },
          "metadata": {}
        }
      ],
      "source": [
        "get_stats(train_df,\"training\", \"hypothesis\",\"hypothesis\")\n",
        "get_stats(validation_df,\"validation\", \"hypothesis\",\"hypothesis\")\n",
        "get_stats(testing_df,\"testing\", \"hypothesis\",\"hypothesis\")"
      ]
    },
    {
      "cell_type": "markdown",
      "metadata": {
        "id": "fMGniS8YnnAE"
      },
      "source": [
        "**Comment**\n",
        "\n",
        "It's normal because all hyposis is only 17 unique values"
      ]
    },
    {
      "cell_type": "code",
      "execution_count": null,
      "metadata": {
        "id": "7Ix2sY6upPcd",
        "colab": {
          "base_uri": "https://localhost:8080/",
          "height": 1000
        },
        "outputId": "1b8b502d-1c09-4929-f87b-88a9ac1e0499"
      },
      "outputs": [
        {
          "output_type": "stream",
          "name": "stdout",
          "text": [
            "Visualize labels for the training\n",
            "The labels and corresponding counts\n",
            " Entailment       26\n",
            "NotMentioned     19\n",
            "Contradiction     5\n",
            "Name: labels, dtype: int64\n"
          ]
        },
        {
          "output_type": "display_data",
          "data": {
            "text/plain": [
              "<Figure size 640x480 with 1 Axes>"
            ],
            "image/png": "[encoded data removed]"
          },
          "metadata": {}
        },
        {
          "output_type": "display_data",
          "data": {
            "text/plain": [
              "<Figure size 640x480 with 1 Axes>"
            ],
            "image/png": "[encoded data removed]"
          },
          "metadata": {}
        },
        {
          "output_type": "stream",
          "name": "stdout",
          "text": [
            "Visualize labels for the validation\n",
            "The labels and corresponding counts\n",
            " Entailment       31\n",
            "NotMentioned     15\n",
            "Contradiction     4\n",
            "Name: labels, dtype: int64\n"
          ]
        },
        {
          "output_type": "display_data",
          "data": {
            "text/plain": [
              "<Figure size 640x480 with 1 Axes>"
            ],
            "image/png": "[encoded data removed]"
          },
          "metadata": {}
        },
        {
          "output_type": "display_data",
          "data": {
            "text/plain": [
              "<Figure size 640x480 with 1 Axes>"
            ],
            "image/png": "[encoded data removed]"
          },
          "metadata": {}
        },
        {
          "output_type": "stream",
          "name": "stdout",
          "text": [
            "Visualize labels for the testing\n",
            "The labels and corresponding counts\n",
            " Entailment       25\n",
            "NotMentioned     18\n",
            "Contradiction     7\n",
            "Name: labels, dtype: int64\n"
          ]
        },
        {
          "output_type": "display_data",
          "data": {
            "text/plain": [
              "<Figure size 640x480 with 1 Axes>"
            ],
            "image/png": "[encoded data removed]"
          },
          "metadata": {}
        },
        {
          "output_type": "display_data",
          "data": {
            "text/plain": [
              "<Figure size 640x480 with 1 Axes>"
            ],
            "image/png": "[encoded data removed]"
          },
          "metadata": {}
        }
      ],
      "source": [
        "visualize_label(train_df,\"training\")\n",
        "visualize_label(validation_df,\"validation\")\n",
        "visualize_label(testing_df,\"testing\")"
      ]
    },
    {
      "cell_type": "markdown",
      "metadata": {
        "id": "-Hn5oGbNATXT"
      },
      "source": [
        "### Q2 (40 points) Perform NLI using two transformer based approaches. You can check the SOTA approaches from paperwithcode and then see if hugging face has implemented the pre-trained model. If you pick a pre-trained model such as DeBerta (https://huggingface.co/docs/transformers/model doc/deberta), make sure you fine-tuned the model on the training dataset. You are free to use public available model/code to implement your solution. Report the performance of two models on the dataset.\n"
      ]
    },
    {
      "cell_type": "code",
      "source": [
        "# Load the dataset\n",
        "train_df = pd.read_csv('/content/train_df.csv')\n",
        "validation_df = pd.read_csv('/content/valid_df.csv')\n",
        "testing_df = pd.read_csv('/content/test_df.csv')"
      ],
      "metadata": {
        "id": "B2diWP1lEt2H"
      },
      "execution_count": null,
      "outputs": []
    },
    {
      "cell_type": "markdown",
      "metadata": {
        "id": "fj81RRrCLSQ8"
      },
      "source": [
        "**Here are three state-of-the-art (SOTA) transformer-based models that have performed well in Natural Language Inference (NLI) tasks.**"
      ]
    },
    {
      "cell_type": "code",
      "execution_count": null,
      "metadata": {
        "id": "sFC_x9YGjVqk"
      },
      "outputs": [],
      "source": [
        "def tokenize_data(data):\n",
        "    #the text and hypothesis will speperated by [sep] token to differentiate them.\n",
        "    return tokenizer(text=data['text'].tolist(), text_pair=data['hypothesis'].tolist(), truncation=True, padding=\"max_length\", max_length=512)\n",
        "\n",
        "\n",
        "class ContractNLIDataset(torch.utils.data.Dataset):\n",
        "    def __init__(self, encodings, labels):\n",
        "        self.encodings = encodings\n",
        "        self.labels = labels\n",
        "\n",
        "    def __getitem__(self, idx):\n",
        "        item = {key: torch.tensor(value[idx]) for key, value in self.encodings.items()}\n",
        "        # Here we ensure the label is an integer tensor\n",
        "        item['labels'] = torch.tensor(int(self.labels[idx]))\n",
        "        return item\n",
        "\n",
        "    def __len__(self):\n",
        "        return len(self.labels)"
      ]
    },
    {
      "cell_type": "code",
      "source": [
        "directory_path = '/content/'"
      ],
      "metadata": {
        "id": "D5WG4QIbF4V_"
      },
      "execution_count": null,
      "outputs": []
    },
    {
      "cell_type": "code",
      "execution_count": null,
      "metadata": {
        "id": "mNIxzoH0k47m"
      },
      "outputs": [],
      "source": [
        "def train(model):\n",
        "  training_args = TrainingArguments(\n",
        "    output_dir=directory_path+'results',\n",
        "    num_train_epochs=3,\n",
        "    per_device_train_batch_size=8,\n",
        "    per_device_eval_batch_size=8,\n",
        "    warmup_steps=500,\n",
        "    weight_decay=0.01,\n",
        "    logging_dir=directory_path+'logs',\n",
        "    logging_steps=10,\n",
        "    evaluation_strategy=\"epoch\",)\n",
        "\n",
        "  def compute_metrics(p):\n",
        "    preds = np.argmax(p.predictions, axis=1)\n",
        "    labels = p.label_ids\n",
        "\n",
        "    accuracy = (preds == labels).mean()\n",
        "    precision = precision_score(labels, preds, average='macro')\n",
        "    recall = recall_score(labels, preds, average='macro')\n",
        "    f1 = f1_score(labels, preds, average='macro')\n",
        "\n",
        "    return {\"accuracy\": accuracy, \"precision\": precision, \"recall\": recall, \"f1\": f1}\n",
        "\n",
        "  trainer = Trainer(\n",
        "    model=model,\n",
        "    args=training_args,\n",
        "    train_dataset=train_dataset,\n",
        "    eval_dataset=valid_dataset,\n",
        "    tokenizer=tokenizer,\n",
        "    compute_metrics=compute_metrics,)\n",
        "\n",
        "  trainer.train()\n",
        "\n",
        "  return trainer"
      ]
    },
    {
      "cell_type": "code",
      "execution_count": null,
      "metadata": {
        "id": "ft6n6MZZn8VU"
      },
      "outputs": [],
      "source": [
        "def get_predictions_and_testing_result(trainer,model_name):\n",
        "  prediction_output = trainer.predict(test_dataset)\n",
        "  preds = np.argmax(prediction_output.predictions, axis=1)\n",
        "  testing_df['label_ids'] = prediction_output[1]\n",
        "  testing_df[f'pred_from_{model_name}'] = preds\n",
        "  print(\"Testing_result\",prediction_output[2])\n",
        "  print(\"---------------------------------------\")\n",
        "  print(testing_df[f'pred_from_{model_name}'])"
      ]
    },
    {
      "cell_type": "code",
      "execution_count": null,
      "metadata": {
        "id": "BWZ9dwVtjkk0"
      },
      "outputs": [],
      "source": [
        "label_mapping = {\"NotMentioned\": 0, \"Entailment\": 1, \"Contradiction\": 2}\n",
        "\n",
        "train_labels = [label_mapping[label] for label in train_df['labels'].tolist()]\n",
        "\n",
        "valid_labels = [label_mapping[label] for label in validation_df['labels'].tolist()]\n",
        "\n",
        "test_labels = [label_mapping[label] for label in testing_df['labels'].tolist()]"
      ]
    },
    {
      "cell_type": "markdown",
      "metadata": {
        "id": "oj427edby6lk"
      },
      "source": [
        "#### **Q2 - 1**\n",
        "\n",
        "**BERT (Bidirectional Encoder Representations from Transformers): BERT is a widely used transformer-based model that has revolutionized natural language understanding. The \"base-uncased\" variant refers to BERT models trained on uncased text, where the capitalization information is removed. BERT models learn contextualized word representations by pre-training on large amounts of text data, enabling them to capture rich semantic and syntactic information. BERT-base models have been successful in various NLP tasks, including NLI..**\n"
      ]
    },
    {
      "cell_type": "code",
      "execution_count": null,
      "metadata": {
        "id": "A1IvBoyvOeWL",
        "colab": {
          "base_uri": "https://localhost:8080/",
          "height": 233,
          "referenced_widgets": [
            "18d3e00afc7f4b57aa53dd457da8c205",
            "c99a362a5dd14b26bb2f0817ac58814c",
            "7306ee3fd4a948f2a705313a47f622a5",
            "02ddc9c36953469c9399de74cb7fd2f3",
            "a6e9ee51fb064231b71b4f431fc5e10b",
            "e357c02a66224c748371c265363d65a3",
            "e8c9c664abf84b8197534752fb734d42",
            "6ae5a82ec29344d0add7fe9dce90a079",
            "10da2f4acde149c3a6403bfa29bcafc3",
            "a86e9d348cfe4d9395da105930c3f2c1",
            "c1014505b4444c59a0e7b6a06678f230",
            "773fe7fb065347dcbae245f0dfee4cc7",
            "6b434287acea452a91ceed3740af649d",
            "323af1853e9345b594ddb2f6d8448548",
            "c061d9418ef54927b34ce6efdda8a103",
            "8733ea1029294657a71a9a767e2c77b2",
            "d52edaff2f76407985acfc72bea02001",
            "210e1ea22ddc433696318b3ed1d07444",
            "bb807ff89753473991d8dd11a54829bc",
            "66f3ce44256944e1ab46ff655378ac8e",
            "bb1c325531364aa58b70b83dbf95cb07",
            "aa785a96170944898482ca7b7223f354",
            "acc01bce596d40d3bc21f2449704683a",
            "97c97249454946a5a89644fe6afab6bc",
            "ad3c21206a694f83a91b6d1dd07b4387",
            "8c5843dbc9a545e79fc35318bcd284bc",
            "8264fa66d2f2421e8245bb87bcdbbc32",
            "bfbcd74165894daab1bd8e0461ba4bf9",
            "6642f2abf3924cc2ae24eec5e6429b77",
            "d2c57cbf548547049d05b59288795788",
            "452bff931cce4d059ff48738fe44337f",
            "20c1f78885434f5f8b91a9b9a175fd1a",
            "3b393f1e11864af2830e0f2bedeaba90",
            "5829f86a15414ed8b4f6efd241ee61ea",
            "fb2ad1f6054e48c58e92513dfe23651b",
            "77181dea2de249b094ada5cab9efe846",
            "1320b39d71cc47d6a3276f0a308949f6",
            "cf20b3c05370471f9d226698bc4bb9e1",
            "56c26a29c75f483fbe83c66a6e9fe2c9",
            "e46519c1031a48bea793ba936731c147",
            "bc573ec37e81447fa6d1f41b6e10cc8a",
            "ffea4a1f861c42da8f6764483d49153f",
            "3030c23b48f1472ab55666014bad9f1c",
            "a8646f7008f343ac9d382987cbf2c291",
            "b960086a2470489c8fe519b1248ec2fb",
            "399bc6a6d2d248a4a500c78598f76186",
            "3fd5666041c74b889ce7dc7f887e8293",
            "f2e2dafc22cb45c38ef8dd51392cd8c3",
            "7a379e899d814dd0a8da342ada71a0f9",
            "7b9769af325c46589d4bf004aabc63f3",
            "5c2e6ba8efd84782aa7e8c6556aaa5fd",
            "5d41bf92724b40dfa9ca10218b4cd86a",
            "d0faf413e7474c8e9744bbfd996d437f",
            "96959c969ef44154908e5012d672a08f",
            "6d417cf29f5c40d6bcd2b9fe6682471a"
          ]
        },
        "outputId": "45ae6ac2-64f7-436b-bbdc-fd38de7b09c5"
      },
      "outputs": [
        {
          "output_type": "display_data",
          "data": {
            "text/plain": [
              "tokenizer_config.json:   0%|          | 0.00/28.0 [00:00<?, ?B/s]"
            ],
            "application/vnd.jupyter.widget-view+json": {
              "version_major": 2,
              "version_minor": 0,
              "model_id": "18d3e00afc7f4b57aa53dd457da8c205"
            }
          },
          "metadata": {}
        },
        {
          "output_type": "display_data",
          "data": {
            "text/plain": [
              "config.json:   0%|          | 0.00/483 [00:00<?, ?B/s]"
            ],
            "application/vnd.jupyter.widget-view+json": {
              "version_major": 2,
              "version_minor": 0,
              "model_id": "773fe7fb065347dcbae245f0dfee4cc7"
            }
          },
          "metadata": {}
        },
        {
          "output_type": "display_data",
          "data": {
            "text/plain": [
              "vocab.txt:   0%|          | 0.00/232k [00:00<?, ?B/s]"
            ],
            "application/vnd.jupyter.widget-view+json": {
              "version_major": 2,
              "version_minor": 0,
              "model_id": "acc01bce596d40d3bc21f2449704683a"
            }
          },
          "metadata": {}
        },
        {
          "output_type": "display_data",
          "data": {
            "text/plain": [
              "tokenizer.json:   0%|          | 0.00/466k [00:00<?, ?B/s]"
            ],
            "application/vnd.jupyter.widget-view+json": {
              "version_major": 2,
              "version_minor": 0,
              "model_id": "5829f86a15414ed8b4f6efd241ee61ea"
            }
          },
          "metadata": {}
        },
        {
          "output_type": "display_data",
          "data": {
            "text/plain": [
              "model.safetensors:   0%|          | 0.00/268M [00:00<?, ?B/s]"
            ],
            "application/vnd.jupyter.widget-view+json": {
              "version_major": 2,
              "version_minor": 0,
              "model_id": "b960086a2470489c8fe519b1248ec2fb"
            }
          },
          "metadata": {}
        },
        {
          "output_type": "stream",
          "name": "stderr",
          "text": [
            "Some weights of DistilBertForSequenceClassification were not initialized from the model checkpoint at distilbert-base-uncased and are newly initialized: ['pre_classifier.weight', 'classifier.weight', 'classifier.bias', 'pre_classifier.bias']\n",
            "You should probably TRAIN this model on a down-stream task to be able to use it for predictions and inference.\n"
          ]
        }
      ],
      "source": [
        "# model_name_1 = \"bert-base-uncased\"\n",
        "model_name_1 = \"distilbert-base-uncased\"\n",
        "tokenizer = AutoTokenizer.from_pretrained(model_name_1)\n",
        "model_1 = AutoModelForSequenceClassification.from_pretrained(model_name_1, num_labels=3)"
      ]
    },
    {
      "cell_type": "code",
      "execution_count": null,
      "metadata": {
        "id": "Tw0WlGWtLGGL"
      },
      "outputs": [],
      "source": [
        "train_encodings = tokenize_data(train_df)\n",
        "valid_encodings = tokenize_data(validation_df)\n",
        "test_encodings = tokenize_data(testing_df)\n",
        "\n",
        "train_dataset = ContractNLIDataset(train_encodings, train_labels)\n",
        "valid_dataset = ContractNLIDataset(valid_encodings, valid_labels)\n",
        "test_dataset = ContractNLIDataset(test_encodings, test_labels)"
      ]
    },
    {
      "cell_type": "code",
      "execution_count": null,
      "metadata": {
        "id": "GonRY2nULF6D",
        "colab": {
          "base_uri": "https://localhost:8080/",
          "height": 314
        },
        "outputId": "ef2ca928-f0cd-47c1-f983-1ff417f1108e"
      },
      "outputs": [
        {
          "output_type": "stream",
          "name": "stderr",
          "text": [
            "You're using a DistilBertTokenizerFast tokenizer. Please note that with a fast tokenizer, using the `__call__` method is faster than using a method to encode the text followed by a call to the `pad` method to get a padded encoding.\n"
          ]
        },
        {
          "output_type": "display_data",
          "data": {
            "text/plain": [
              "<IPython.core.display.HTML object>"
            ],
            "text/html": [
              "\n",
              "    <div>\n",
              "      \n",
              "      <progress value='15' max='15' style='width:300px; height:20px; vertical-align: middle;'></progress>\n",
              "      [15/15 00:05, Epoch 3/3]\n",
              "    </div>\n",
              "    <table border=\"1\" class=\"dataframe\">\n",
              "  <thead>\n",
              " <tr style=\"text-align: left;\">\n",
              "      <th>Epoch</th>\n",
              "      <th>Training Loss</th>\n",
              "      <th>Validation Loss</th>\n",
              "      <th>Accuracy</th>\n",
              "      <th>Precision</th>\n",
              "      <th>Recall</th>\n",
              "      <th>F1</th>\n",
              "    </tr>\n",
              "  </thead>\n",
              "  <tbody>\n",
              "    <tr>\n",
              "      <td>1</td>\n",
              "      <td>No log</td>\n",
              "      <td>1.071838</td>\n",
              "      <td>0.100000</td>\n",
              "      <td>0.050000</td>\n",
              "      <td>0.500000</td>\n",
              "      <td>0.090909</td>\n",
              "    </tr>\n",
              "    <tr>\n",
              "      <td>2</td>\n",
              "      <td>1.094000</td>\n",
              "      <td>1.067238</td>\n",
              "      <td>0.100000</td>\n",
              "      <td>0.050000</td>\n",
              "      <td>0.500000</td>\n",
              "      <td>0.090909</td>\n",
              "    </tr>\n",
              "    <tr>\n",
              "      <td>3</td>\n",
              "      <td>1.094000</td>\n",
              "      <td>1.059748</td>\n",
              "      <td>0.100000</td>\n",
              "      <td>0.050000</td>\n",
              "      <td>0.500000</td>\n",
              "      <td>0.090909</td>\n",
              "    </tr>\n",
              "  </tbody>\n",
              "</table><p>"
            ]
          },
          "metadata": {}
        },
        {
          "output_type": "stream",
          "name": "stderr",
          "text": [
            "/usr/local/lib/python3.10/dist-packages/sklearn/metrics/_classification.py:1344: UndefinedMetricWarning: Precision is ill-defined and being set to 0.0 in labels with no predicted samples. Use `zero_division` parameter to control this behavior.\n",
            "  _warn_prf(average, modifier, msg_start, len(result))\n",
            "/usr/local/lib/python3.10/dist-packages/sklearn/metrics/_classification.py:1344: UndefinedMetricWarning: Precision is ill-defined and being set to 0.0 in labels with no predicted samples. Use `zero_division` parameter to control this behavior.\n",
            "  _warn_prf(average, modifier, msg_start, len(result))\n",
            "/usr/local/lib/python3.10/dist-packages/sklearn/metrics/_classification.py:1344: UndefinedMetricWarning: Precision is ill-defined and being set to 0.0 in labels with no predicted samples. Use `zero_division` parameter to control this behavior.\n",
            "  _warn_prf(average, modifier, msg_start, len(result))\n"
          ]
        }
      ],
      "source": [
        "trainer_1 = train(model_1)"
      ]
    },
    {
      "cell_type": "code",
      "execution_count": null,
      "metadata": {
        "id": "a8kj8naKLF2K",
        "colab": {
          "base_uri": "https://localhost:8080/",
          "height": 216
        },
        "outputId": "d01a85df-cc92-40f0-fbb4-2dec7a40b39b"
      },
      "outputs": [
        {
          "output_type": "display_data",
          "data": {
            "text/plain": [
              "<IPython.core.display.HTML object>"
            ],
            "text/html": []
          },
          "metadata": {}
        },
        {
          "output_type": "stream",
          "name": "stderr",
          "text": [
            "/usr/local/lib/python3.10/dist-packages/sklearn/metrics/_classification.py:1344: UndefinedMetricWarning: Precision is ill-defined and being set to 0.0 in labels with no predicted samples. Use `zero_division` parameter to control this behavior.\n",
            "  _warn_prf(average, modifier, msg_start, len(result))\n"
          ]
        },
        {
          "output_type": "stream",
          "name": "stdout",
          "text": [
            "Testing_result {'test_loss': 1.0942115783691406, 'test_accuracy': 0.4, 'test_precision': 0.13333333333333333, 'test_recall': 0.3333333333333333, 'test_f1': 0.1904761904761905, 'test_runtime': 0.1218, 'test_samples_per_second': 41.063, 'test_steps_per_second': 8.213}\n",
            "---------------------------------------\n",
            "0    1\n",
            "1    1\n",
            "2    1\n",
            "3    1\n",
            "4    1\n",
            "Name: pred_from_distilbert-base-uncased, dtype: int64\n"
          ]
        }
      ],
      "source": [
        "get_predictions_and_testing_result(trainer_1,model_name_1)"
      ]
    },
    {
      "cell_type": "code",
      "execution_count": null,
      "metadata": {
        "id": "31gkDd8I7pO8"
      },
      "outputs": [],
      "source": [
        "filename = model_name_1 + \"_result.csv\"\n",
        "testing_df.to_csv(directory_path+filename, index=False)"
      ]
    },
    {
      "cell_type": "markdown",
      "metadata": {
        "id": "wglMLApP4Xs7"
      },
      "source": [
        "#### **Q2 - 2**\n",
        "\n",
        "**RoBERTa (Robustly Optimized BERT approach): RoBERTa (Robustly Optimized BERT Pretraining Approach) is another variant of the BERT model that was trained with additional modifications to improve its performance. It incorporates techniques like dynamic masking, larger batch sizes, and longer training duration. The \"base\" variant represents the model's base size with a moderate number of parameters. RoBERTa has achieved state-of-the-art performance on several NLP benchmarks, including NLI.**"
      ]
    },
    {
      "cell_type": "code",
      "execution_count": null,
      "metadata": {
        "id": "M8ipYDK5LFu8"
      },
      "outputs": [],
      "source": [
        "model_name_2 = \"roberta-base\"\n",
        "tokenizer = AutoTokenizer.from_pretrained(model_name_2)\n",
        "model_2 = AutoModelForSequenceClassification.from_pretrained(model_name_2, num_labels=3)"
      ]
    },
    {
      "cell_type": "code",
      "execution_count": null,
      "metadata": {
        "id": "oE0WCLJc4h_U"
      },
      "outputs": [],
      "source": [
        "train_encodings = tokenize_data(train_df)\n",
        "valid_encodings = tokenize_data(validation_df)\n",
        "test_encodings = tokenize_data(testing_df)\n",
        "\n",
        "train_dataset = ContractNLIDataset(train_encodings, train_labels)\n",
        "valid_dataset = ContractNLIDataset(valid_encodings, valid_labels)\n",
        "test_dataset = ContractNLIDataset(test_encodings, test_labels)"
      ]
    },
    {
      "cell_type": "code",
      "execution_count": null,
      "metadata": {
        "id": "2jDPPI-04kQU"
      },
      "outputs": [],
      "source": [
        "trainer_2 = train(model_2)"
      ]
    },
    {
      "cell_type": "code",
      "execution_count": null,
      "metadata": {
        "id": "els_bLAS4nur"
      },
      "outputs": [],
      "source": [
        "get_predictions_and_testing_result(trainer_2,model_name_2)"
      ]
    },
    {
      "cell_type": "code",
      "execution_count": null,
      "metadata": {
        "id": "6HNsVLjq82zz"
      },
      "outputs": [],
      "source": [
        "filename = model_name_2 + \"_result.csv\"\n",
        "testing_df.to_csv(directory_path+filename, index=False)"
      ]
    },
    {
      "cell_type": "markdown",
      "metadata": {
        "id": "BocMbY7n5apT"
      },
      "source": [
        "#### **Q2 - 3**\n",
        "**DeBERTa is a variant of the transformer architecture that incorporates enhancements to improve the model's performance. It introduces disentangled self-attention and enhanced mask decoder mechanisms, among other modifications. The \"base\" variant refers to the model's base size with a moderate number of parameters. DeBERTa has demonstrated strong performance on a range of NLP tasks, including NLI.**"
      ]
    },
    {
      "cell_type": "code",
      "execution_count": null,
      "metadata": {
        "id": "ZGOOGdudTc3Y"
      },
      "outputs": [],
      "source": [
        "model_name = \"microsoft/deberta-base\"\n",
        "tokenizer = AutoTokenizer.from_pretrained(model_name)"
      ]
    },
    {
      "cell_type": "code",
      "execution_count": null,
      "metadata": {
        "id": "LD8eSR0Y5e57"
      },
      "outputs": [],
      "source": [
        "train_encodings = tokenize_data(train_df)\n",
        "valid_encodings = tokenize_data(validation_df)\n",
        "test_encodings = tokenize_data(testing_df)\n",
        "\n",
        "train_dataset = ContractNLIDataset(train_encodings, train_labels)\n",
        "valid_dataset = ContractNLIDataset(valid_encodings, valid_labels)\n",
        "test_dataset = ContractNLIDataset(test_encodings, test_labels)"
      ]
    },
    {
      "cell_type": "code",
      "execution_count": null,
      "metadata": {
        "id": "eh79drpATc3Z"
      },
      "outputs": [],
      "source": [
        "model = AutoModelForSequenceClassification.from_pretrained(model_name, num_labels=3)\n",
        "\n",
        "training_args = TrainingArguments(\n",
        "    output_dir=directory_path+'results',\n",
        "    num_train_epochs=3,\n",
        "    per_device_train_batch_size=8,\n",
        "    per_device_eval_batch_size=8,\n",
        "    warmup_steps=500,\n",
        "    weight_decay=0.01,\n",
        "    logging_dir=directory_path+'logs',\n",
        "    logging_steps=10,\n",
        "    evaluation_strategy=\"epoch\",\n",
        ")\n",
        "\n",
        "def compute_metrics(p):\n",
        "    preds = np.argmax(p.predictions, axis=1)\n",
        "    return {\"accuracy\": (preds == p.label_ids).mean()}\n",
        "\n",
        "trainer = Trainer(\n",
        "    model=model,\n",
        "    args=training_args,\n",
        "    train_dataset=train_dataset,\n",
        "    eval_dataset=valid_dataset,\n",
        "    tokenizer=tokenizer,\n",
        "    compute_metrics=compute_metrics,\n",
        ")\n",
        "\n",
        "trainer.train()"
      ]
    },
    {
      "cell_type": "markdown",
      "metadata": {
        "id": "k3wYvHerQRXx"
      },
      "source": [
        "I won't take the last model because it has a poor performance."
      ]
    },
    {
      "cell_type": "markdown",
      "metadata": {
        "id": "VdpwNhoUDh15"
      },
      "source": [
        "#### Why are these model selected?\n",
        "\n",
        "These models are often selected for NLI tasks because they excel at capturing contextual information, understanding relationships between sentences, and generating high-quality sentence representations. They have been extensively pre-trained on large-scale text corpora, enabling them to learn rich language representations that can be fine-tuned for specific downstream tasks like NLI."
      ]
    },
    {
      "cell_type": "markdown",
      "metadata": {
        "id": "b7D12rG8DtAx"
      },
      "source": [
        "### Q3 (20 points) Analyze the performance of your two models and perform error analysis. You should have a textual cell explaining how you design the methodology to perform error analysis with a goal of understanding what are the potential reasons behind the errors.\n"
      ]
    },
    {
      "cell_type": "markdown",
      "metadata": {
        "id": "eYeRc4mMOdLy"
      },
      "source": [
        "#### Analyze the performance of your two models"
      ]
    },
    {
      "cell_type": "markdown",
      "metadata": {
        "id": "R0IZ7mfyU7cZ"
      },
      "source": [
        "##### Validation result"
      ]
    },
    {
      "cell_type": "markdown",
      "metadata": {
        "id": "0593IezNPp1B"
      },
      "source": [
        "**Model one (bert-base-uncased) validation result as accuracy, precision, recall and F1:**\n",
        "![model1.JPG](data:image/jpeg;base64,/9j/4AAQSkZJRgABAQEAYABgAAD/4RDQRXhpZgAATU0AKgAAAAgABAE7AAIAAAADUEMAAIdpAAQAAAABAAAISpydAAEAAAAGAAAQwuocAAcAAAgMAAAAPgAAAAAc6gAAAAgAAAAAAAAAAAAAAAAAAAAAAAAAAAAAAAAAAAAAAAAAAAAAAAAAAAAAAAAAAAAAAAAAAAAAAAAAAAAAAAAAAAAAAAAAAAAAAAAAAAAAAAAAAAAAAAAAAAAAAAAAAAAAAAAAAAAAAAAAAAAAAAAAAAAAAAAAAAAAAAAAAAAAAAAAAAAAAAAAAAAAAAAAAAAAAAAAAAAAAAAAAAAAAAAAAAAAAAAAAAAAAAAAAAAAAAAAAAAAAAAAAAAAAAAAAAAAAAAAAAAAAAAAAAAAAAAAAAAAAAAAAAAAAAAAAAAAAAAAAAAAAAAAAAAAAAAAAAAAAAAAAAAAAAAAAAAAAAAAAAAAAAAAAAAAAAAAAAAAAAAAAAAAAAAAAAAAAAAAAAAAAAAAAAAAAAAAAAAAAAAAAAAAAAAAAAAAAAAAAAAAAAAAAAAAAAAAAAAAAAAAAAAAAAAAAAAAAAAAAAAAAAAAAAAAAAAAAAAAAAAAAAAAAAAAAAAAAAAAAAAAAAAAAAAAAAAAAAAAAAAAAAAAAAAAAAAAAAAAAAAAAAAAAAAAAAAAAAAAAAAAAAAAAAAAAAAAAAAAAAAAAAAAAAAAAAAAAAAAAAAAAAAAAAAAAAAAAAAAAAAAAAAAAAAAAAAAAAAAAAAAAAAAAAAAAAAAAAAAAAAAAAAAAAAAAAAAAAAAAAAAAAAAAAAAAAAAAAAAAAAAAAAAAAAAAAAAAAAAAAAAAAAAAAAAAAAAAAAAAAAAAAAAAAAAAAAAAAAAAAAAAAAAAAAAAAAAAAAAAAAAAAAAAAAAAAAAAAAAAAAAAAAAAAAAAAAAAAAAAAAAAAAAAAAAAAAAAAAAAAAAAAAAAAAAAAAAAAAAAAAAAAAAAAAAAAAAAAAAAAAAAAAAAAAAAAAAAAAAAAAAAAAAAAAAAAAAAAAAAAAAAAAAAAAAAAAAAAAAAAAAAAAAAAAAAAAAAAAAAAAAAAAAAAAAAAAAAAAAAAAAAAAAAAAAAAAAAAAAAAAAAAAAAAAAAAAAAAAAAAAAAAAAAAAAAAAAAAAAAAAAAAAAAAAAAAAAAAAAAAAAAAAAAAAAAAAAAAAAAAAAAAAAAAAAAAAAAAAAAAAAAAAAAAAAAAAAAAAAAAAAAAAAAAAAAAAAAAAAAAAAAAAAAAAAAAAAAAAAAAAAAAAAAAAAAAAAAAAAAAAAAAAAAAAAAAAAAAAAAAAAAAAAAAAAAAAAAAAAAAAAAAAAAAAAAAAAAAAAAAAAAAAAAAAAAAAAAAAAAAAAAAAAAAAAAAAAAAAAAAAAAAAAAAAAAAAAAAAAAAAAAAAAAAAAAAAAAAAAAAAAAAAAAAAAAAAAAAAAAAAAAAAAAAAAAAAAAAAAAAAAAAAAAAAAAAAAAAAAAAAAAAAAAAAAAAAAAAAAAAAAAAAAAAAAAAAAAAAAAAAAAAAAAAAAAAAAAAAAAAAAAAAAAAAAAAAAAAAAAAAAAAAAAAAAAAAAAAAAAAAAAAAAAAAAAAAAAAAAAAAAAAAAAAAAAAAAAAAAAAAAAAAAAAAAAAAAAAAAAAAAAAAAAAAAAAAAAAAAAAAAAAAAAAAAAAAAAAAAAAAAAAAAAAAAAAAAAAAAAAAAAAAAAAAAAAAAAAAAAAAAAAAAAAAAAAAAAAAAAAAAAAAAAAAAAAAAAAAAAAAAAAAAAAAAAAAAAAAAAAAAAAAAAAAAAAAAAAAAAAAAAAAAAAAAAAAAAAAAAAAAAAAAAAAAAAAAAAAAAAAAAAAAAAAAAAAAAAAAAAAAAAAAAAAAAAAAAAAAAAAAAAAAAAAAAAAAAAAAAAAAAAAAAAAAAAAAAAAAAAAAAAAAAAAAAAAAAAAAAAAAAAAAAAAAAAAAAAAAAAAAAAAAAAAAAAAAAAAAAAAAAAAAAAAAAAAAAAAAAAAAAAAAAAAAAAAAAAAAAAAAAAAAAAAAAAAAAAAAAAAAAAAAAAAAAAAAAAAAAAAAAAAAAAAAAAAAAAAAAAAAAAAAAAAAAAAAAAAAAAAAAAAAAAAAAAAAAAAAAAAAAAAAAAAAAAAAAAAAAAAAAAAAAAAAAAAAAAAAAAAAAAAAAAAAAAAAAAAAAAAAAAAAAAAAAAAAAAAAAAAAAAAAAAAAAAAAAAAAAAAAAAAAAAAAAAAAAAAAAAAAAAAAAAAAAAAAAAAAAAAAAAAAAAAAAAAAAAAAAAAAAAAAAAAAAAAAAAAAAAAAAAAAAAAAAAAAAAAAAAAAAAAAAAAAAAAAAAAAAAAAAAAAAAAAAAAAAAAAAAAAAAAAAAAAAAAAAAAAAAAAAAAAAAAAAAAAAAAAAAAAAAAAAAAAAAAAAAAAAAAAAAAAAAAAAAAAAAAAAAAAAAAAAAAAAAAAAAAAAAAAAAAAAAAAAAAAAAAAAAAAAAAAAAAAAAAAAAAAAAAAAAAAAAAAAAAAAAAAAAAAAAAAAAAAAAAAAAAAAAAAAAAAAAAAAAAAAAAAAAAAAAAAAAAAAAAAAAAAAAAAAAAAAAAAAAAAAAAAAAAAAAAAAAAAAAAAAAAAAAAAAAAAAAAAAAAAAAAAAAAAAAAAAAAAAAAAAAAAAAAAAAAAAAAAAAAAAAAAAAAAAAAAAAAAAAAAAAAAAAAAAAAAAAAAAAAAAAAAAAAAAAAAAAAAAAAAAAAAAAAAAAAAAAAAAAAAAAAAAAAAAAAAAAAAAAAAAAAAAAAAAAAAAAAAAAAAAAAAAAAAAAAAAAAAAAAAAAAAAAAAAAAAAAAAAAAAAAAAAAAFkAMAAgAAABQAABCYkAQAAgAAABQAABCskpEAAgAAAAM1NwAAkpIAAgAAAAM1NwAA6hwABwAACAwAAAiMAAAAABzqAAAACAAAAAAAAAAAAAAAAAAAAAAAAAAAAAAAAAAAAAAAAAAAAAAAAAAAAAAAAAAAAAAAAAAAAAAAAAAAAAAAAAAAAAAAAAAAAAAAAAAAAAAAAAAAAAAAAAAAAAAAAAAAAAAAAAAAAAAAAAAAAAAAAAAAAAAAAAAAAAAAAAAAAAAAAAAAAAAAAAAAAAAAAAAAAAAAAAAAAAAAAAAAAAAAAAAAAAAAAAAAAAAAAAAAAAAAAAAAAAAAAAAAAAAAAAAAAAAAAAAAAAAAAAAAAAAAAAAAAAAAAAAAAAAAAAAAAAAAAAAAAAAAAAAAAAAAAAAAAAAAAAAAAAAAAAAAAAAAAAAAAAAAAAAAAAAAAAAAAAAAAAAAAAAAAAAAAAAAAAAAAAAAAAAAAAAAAAAAAAAAAAAAAAAAAAAAAAAAAAAAAAAAAAAAAAAAAAAAAAAAAAAAAAAAAAAAAAAAAAAAAAAAAAAAAAAAAAAAAAAAAAAAAAAAAAAAAAAAAAAAAAAAAAAAAAAAAAAAAAAAAAAAAAAAAAAAAAAAAAAAAAAAAAAAAAAAAAAAAAAAAAAAAAAAAAAAAAAAAAAAAAAAAAAAAAAAAAAAAAAAAAAAAAAAAAAAAAAAAAAAAAAAAAAAAAAAAAAAAAAAAAAAAAAAAAAAAAAAAAAAAAAAAAAAAAAAAAAAAAAAAAAAAAAAAAAAAAAAAAAAAAAAAAAAAAAAAAAAAAAAAAAAAAAAAAAAAAAAAAAAAAAAAAAAAAAAAAAAAAAAAAAAAAAAAAAAAAAAAAAAAAAAAAAAAAAAAAAAAAAAAAAAAAAAAAAAAAAAAAAAAAAAAAAAAAAAAAAAAAAAAAAAAAAAAAAAAAAAAAAAAAAAAAAAAAAAAAAAAAAAAAAAAAAAAAAAAAAAAAAAAAAAAAAAAAAAAAAAAAAAAAAAAAAAAAAAAAAAAAAAAAAAAAAAAAAAAAAAAAAAAAAAAAAAAAAAAAAAAAAAAAAAAAAAAAAAAAAAAAAAAAAAAAAAAAAAAAAAAAAAAAAAAAAAAAAAAAAAAAAAAAAAAAAAAAAAAAAAAAAAAAAAAAAAAAAAAAAAAAAAAAAAAAAAAAAAAAAAAAAAAAAAAAAAAAAAAAAAAAAAAAAAAAAAAAAAAAAAAAAAAAAAAAAAAAAAAAAAAAAAAAAAAAAAAAAAAAAAAAAAAAAAAAAAAAAAAAAAAAAAAAAAAAAAAAAAAAAAAAAAAAAAAAAAAAAAAAAAAAAAAAAAAAAAAAAAAAAAAAAAAAAAAAAAAAAAAAAAAAAAAAAAAAAAAAAAAAAAAAAAAAAAAAAAAAAAAAAAAAAAAAAAAAAAAAAAAAAAAAAAAAAAAAAAAAAAAAAAAAAAAAAAAAAAAAAAAAAAAAAAAAAAAAAAAAAAAAAAAAAAAAAAAAAAAAAAAAAAAAAAAAAAAAAAAAAAAAAAAAAAAAAAAAAAAAAAAAAAAAAAAAAAAAAAAAAAAAAAAAAAAAAAAAAAAAAAAAAAAAAAAAAAAAAAAAAAAAAAAAAAAAAAAAAAAAAAAAAAAAAAAAAAAAAAAAAAAAAAAAAAAAAAAAAAAAAAAAAAAAAAAAAAAAAAAAAAAAAAAAAAAAAAAAAAAAAAAAAAAAAAAAAAAAAAAAAAAAAAAAAAAAAAAAAAAAAAAAAAAAAAAAAAAAAAAAAAAAAAAAAAAAAAAAAAAAAAAAAAAAAAAAAAAAAAAAAAAAAAAAAAAAAAAAAAAAAAAAAAAAAAAAAAAAAAAAAAAAAAAAAAAAAAAAAAAAAAAAAAAAAAAAAAAAAAAAAAAAAAAAAAAAAAAAAAAAAAAAAAAAAAAAAAAAAAAAAAAAAAAAAAAAAAAAAAAAAAAAAAAAAAAAAAAAAAAAAAAAAAAAAAAAAAAAAAAAAAAAAAAAAAAAAAAAAAAAAAAAAAAAAAAAAAAAAAAAAAAAAAAAAAAAAAAAAAAAAAAAAAAAAAAAAAAAAAAAAAAAAAAAAAAAAAAAAAAAAAAAAAAAAAAAAAAAAAAAAAAAAAAAAAAAAAAAAAAAAAAAAAAAAAAAAAAAAAAAAAAAAAAAAAAAAAAAAAAAAAAAAAAAAAAAAAAAAAAAAAAAAAAAAAAAAAAAAAAAAAAAAAAAAAAAAAAAAAAAAAAAAAAAAAAAAAAAAAAAAAAAAAAAAAAAAAAAAAAAAAAAAAAAAAAAAAAAAAAAAAAAAAAAAAAAAAAAAAAAAAAAAAAAAAAAAAAAAAAAAAAAAAAAAAAAAAAAAAAAAAAAAAAAAAAAAAAAAAAAAAAAAAAAAAAAAAAAAAAAAAAAAAAAAAAAAAAAAAAAAAAAAAAAAAAAAAAAAAAAAAAAAAAAAAAAAAAAAAAAAAAAAAAAAAAAAAAAAAAAAAAAAAAAAAAAAAAAAAAAAAAAAAAAAAAAAAAAAAAAAAAAAAAAAAAAAAAAAAAAAAAAAAAAAAAAAAAAAAAAAAAAAAAAAAAAAAAAAAAAAAAAAAAAAAAAAAAAAAAAAAAAAAAAAAAAAAAAAAAAAAAAAAAAAAAAAAAAAAAAAAAAAAAAAAAAAAAAAAAAAAAAAAAAAAAAAAAAAAAAAAAAAAAAAAAAAAAAAAAAAAAAAAAAAAAAAAAAAAAAAAAAAAAAAAAAAAAAAAAAAAAAAAAAAAAAAAAAAAAAAAAAAAAAAAAAAAAAAAAAAAAAAAAAAAAAAAAAAAAAAAAAAAAAAAAAAAAAAAAAAAAAAAAAAAAAAAAAAAAAAAAAAAAAAAMjAyMzowNzozMSAwNzozNzoyOQAyMDIzOjA3OjMxIDA3OjM3OjI5AAAAUABDAAAA/+ELFWh0dHA6Ly9ucy5hZG9iZS5jb20veGFwLzEuMC8APD94cGFja2V0IGJlZ2luPSfvu78nIGlkPSdXNU0wTXBDZWhpSHpyZVN6TlRjemtjOWQnPz4NCjx4OnhtcG1ldGEgeG1sbnM6eD0iYWRvYmU6bnM6bWV0YS8iPjxyZGY6UkRGIHhtbG5zOnJkZj0iaHR0cDovL3d3dy53My5vcmcvMTk5OS8wMi8yMi1yZGYtc3ludGF4LW5zIyI+PHJkZjpEZXNjcmlwdGlvbiByZGY6YWJvdXQ9InV1aWQ6ZmFmNWJkZDUtYmEzZC0xMWRhLWFkMzEtZDMzZDc1MTgyZjFiIiB4bWxuczpkYz0iaHR0cDovL3B1cmwub3JnL2RjL2VsZW1lbnRzLzEuMS8iLz48cmRmOkRlc2NyaXB0aW9uIHJkZjphYm91dD0idXVpZDpmYWY1YmRkNS1iYTNkLTExZGEtYWQzMS1kMzNkNzUxODJmMWIiIHhtbG5zOnhtcD0iaHR0cDovL25zLmFkb2JlLmNvbS94YXAvMS4wLyI+PHhtcDpDcmVhdGVEYXRlPjIwMjMtMDctMzFUMDc6Mzc6MjkuNTY5PC94bXA6Q3JlYXRlRGF0ZT48L3JkZjpEZXNjcmlwdGlvbj48cmRmOkRlc2NyaXB0aW9uIHJkZjphYm91dD0idXVpZDpmYWY1YmRkNS1iYTNkLTExZGEtYWQzMS1kMzNkNzUxODJmMWIiIHhtbG5zOmRjPSJodHRwOi8vcHVybC5vcmcvZGMvZWxlbWVudHMvMS4xLyI+PGRjOmNyZWF0b3I+PHJkZjpTZXEgeG1sbnM6cmRmPSJodHRwOi8vd3d3LnczLm9yZy8xOTk5LzAyLzIyLXJkZi1zeW50YXgtbnMjIj48cmRmOmxpPlBDPC9yZGY6bGk+PC9yZGY6U2VxPg0KCQkJPC9kYzpjcmVhdG9yPjwvcmRmOkRlc2NyaXB0aW9uPjwvcmRmOlJERj48L3g6eG1wbWV0YT4NCiAgICAgICAgICAgICAgICAgICAgICAgICAgICAgICAgICAgICAgICAgICAgICAgICAgICAgICAgICAgICAgICAgICAgICAgICAgICAgICAgICAgICAgICAgICAgICAgICAgICAKICAgICAgICAgICAgICAgICAgICAgICAgICAgICAgICAgICAgICAgICAgICAgICAgICAgICAgICAgICAgICAgICAgICAgICAgICAgICAgICAgICAgICAgICAgICAgICAgICAgIAogICAgICAgICAgICAgICAgICAgICAgICAgICAgICAgICAgICAgICAgICAgICAgICAgICAgICAgICAgICAgICAgICAgICAgICAgICAgICAgICAgICAgICAgICAgICAgICAgICAgCiAgICAgICAgICAgICAgICAgICAgICAgICAgICAgICAgICAgICAgICAgICAgICAgICAgICAgICAgICAgICAgICAgICAgICAgICAgICAgICAgICAgICAgICAgICAgICAgICAgICAKICAgICAgICAgICAgICAgICAgICAgICAgICAgICAgICAgICAgICAgICAgICAgICAgICAgICAgICAgICAgICAgICAgICAgICAgICAgICAgICAgICAgICAgICAgICAgICAgICAgIAogICAgICAgICAgICAgICAgICAgICAgICAgICAgICAgICAgICAgICAgICAgICAgICAgICAgICAgICAgICAgICAgICAgICAgICAgICAgICAgICAgICAgICAgICAgICAgICAgICAgCiAgICAgICAgICAgICAgICAgICAgICAgICAgICAgICAgICAgICAgICAgICAgICAgICAgICAgICAgICAgICAgICAgICAgICAgICAgICAgICAgICAgICAgICAgICAgICAgICAgICAKICAgICAgICAgICAgICAgICAgICAgICAgICAgICAgICAgICAgICAgICAgICAgICAgICAgICAgICAgICAgICAgICAgICAgICAgICAgICAgICAgICAgICAgICAgICAgICAgICAgIAogICAgICAgICAgICAgICAgICAgICAgICAgICAgICAgICAgICAgICAgICAgICAgICAgICAgICAgICAgICAgICAgICAgICAgICAgICAgICAgICAgICAgICAgICAgICAgICAgICAgCiAgICAgICAgICAgICAgICAgICAgICAgICAgICAgICAgICAgICAgICAgICAgICAgICAgICAgICAgICAgICAgICAgICAgICAgICAgICAgICAgICAgICAgICAgICAgICAgICAgICAKICAgICAgICAgICAgICAgICAgICAgICAgICAgICAgICAgICAgICAgICAgICAgICAgICAgICAgICAgICAgICAgICAgICAgICAgICAgICAgICAgICAgICAgICAgICAgICAgICAgIAogICAgICAgICAgICAgICAgICAgICAgICAgICAgICAgICAgICAgICAgICAgICAgICAgICAgICAgICAgICAgICAgICAgICAgICAgICAgICAgICAgICAgICAgICAgICAgICAgICAgCiAgICAgICAgICAgICAgICAgICAgICAgICAgICAgICAgICAgICAgICAgICAgICAgICAgICAgICAgICAgICAgICAgICAgICAgICAgICAgICAgICAgICAgICAgICAgICAgICAgICAKICAgICAgICAgICAgICAgICAgICAgICAgICAgICAgICAgICAgICAgICAgICAgICAgICAgICAgICAgICAgICAgICAgICAgICAgICAgICAgICAgICAgICAgICAgICAgICAgICAgIAogICAgICAgICAgICAgICAgICAgICAgICAgICAgICAgICAgICAgICAgICAgICAgICAgICAgICAgICAgICAgICAgICAgICAgICAgICAgICAgICAgICAgICAgICAgICAgICAgICAgCiAgICAgICAgICAgICAgICAgICAgICAgICAgICAgICAgICAgICAgICAgICAgICAgICAgICAgICAgICAgICAgICAgICAgICAgICAgICAgICAgICAgICAgICAgICAgICAgICAgICAKICAgICAgICAgICAgICAgICAgICAgICAgICAgICAgICAgICAgICAgICAgICAgICAgICAgICAgICAgICAgICAgICAgICAgICAgICAgICAgICAgICAgICAgICAgICAgICAgICAgIAogICAgICAgICAgICAgICAgICAgICAgICAgICAgICAgICAgICAgICAgICAgICAgICAgICAgICAgICAgICAgICAgICAgICAgICAgICAgICAgICAgICAgICAgICAgICAgICAgICAgCiAgICAgICAgICAgICAgICAgICAgICAgICAgICAgICAgICAgICAgICAgICAgICAgICAgICAgICAgICAgICAgICAgICAgICAgICAgICAgICAgICAgICAgICAgICAgICAgICAgICAKICAgICAgICAgICAgICAgICAgICAgICAgICAgICAgICAgICAgICAgICAgICAgICAgICAgICAgICAgICAgICAgICAgICAgICAgICAgICAgICAgICAgICAgICAgICAgICAgICAgIAogICAgICAgICAgICAgICAgICAgICAgICAgICAgPD94cGFja2V0IGVuZD0ndyc/Pv/bAEMABwUFBgUEBwYFBggHBwgKEQsKCQkKFQ8QDBEYFRoZGBUYFxseJyEbHSUdFxgiLiIlKCkrLCsaIC8zLyoyJyorKv/bAEMBBwgICgkKFAsLFCocGBwqKioqKioqKioqKioqKioqKioqKioqKioqKioqKioqKioqKioqKioqKioqKioqKioqKv/AABEIAJkCjAMBIgACEQEDEQH/xAAfAAABBQEBAQEBAQAAAAAAAAAAAQIDBAUGBwgJCgv/xAC1EAACAQMDAgQDBQUEBAAAAX0BAgMABBEFEiExQQYTUWEHInEUMoGRoQgjQrHBFVLR8CQzYnKCCQoWFxgZGiUmJygpKjQ1Njc4OTpDREVGR0hJSlNUVVZXWFlaY2RlZmdoaWpzdHV2d3h5eoOEhYaHiImKkpOUlZaXmJmaoqOkpaanqKmqsrO0tba3uLm6wsPExcbHyMnK0tPU1dbX2Nna4eLj5OXm5+jp6vHy8/T19vf4+fr/xAAfAQADAQEBAQEBAQEBAAAAAAAAAQIDBAUGBwgJCgv/xAC1EQACAQIEBAMEBwUEBAABAncAAQIDEQQFITEGEkFRB2FxEyIygQgUQpGhscEJIzNS8BVictEKFiQ04SXxFxgZGiYnKCkqNTY3ODk6Q0RFRkdISUpTVFVWV1hZWmNkZWZnaGlqc3R1dnd4eXqCg4SFhoeIiYqSk5SVlpeYmZqio6Slpqeoqaqys7S1tre4ubrCw8TFxsfIycrS09TV1tfY2dri4+Tl5ufo6ery8/T19vf4+fr/2gAMAwEAAhEDEQA/APpGiiigAorgPFOvX1t8R7TSBq2q2Gnvpb3LLpenLdSNKJQoJHkykLgnsBnHPrd1bxjqOm6ncaZpmj/2m9lpS6jLPc3X2cumXBXaIyd52cDAHJztwMq6tf1/C/8AkOzvb+tbf5nZUVw03xHa4tbu80DSVv7PT9Pi1C9ea68h0SRPMVUXY259gJIJUdBnnjRtvF1zrOtSWXhvTobqK2hgluri7umtwgmXeqoBG5dtnJztHIGeuKs72JurX/r+tTqKK81n8Y6l4e8T+KZ57Vr3S7XULOJ2lvCv2dZI41xEm1snLFiPkHuSTj0qktUmN6OwUUyeNpbeSOOZ4GdSqyxhSyEj7w3AjI68gj2rhvC15rDa14nbUtevtQg0W6MMNvLFbIsi+Sr5YpEpzlj0IHsaV0r37XHZ6W9DvKK5Dw741v8AXY9OupPDs1vYajYNdxXCT+ZsZcZjf5Qq5ydpLc45AqHQfH7a9rl9o9pDpNzeQ2Qu4JLDVvtNvJ8xXY8giBRgdvRW4OfrVne39f1oK+lztaK8+0XxbJpXw11nXbqC6upNOvbpZIZ77zySspBVZDGvyA/dBXgYFbGmeKdT1LUNW0ttIt7fVLCGGZIWviY5ElBwGkEeVYbTkBWHTBPWpvp8rh/X6HU0V55oPi+TSvhDba41te6hIlwYDFdXwlmcm5MX+tKKGxnjKjgAE96vf8J/cQW+rRX2kRpqenXttZi3huy8Ujz7PLJlKLtGXw3ynGOM1VtbL+tv80Gx2tFc/wCFvEF/r0mqx6hp1vZNp14bQmC8M6yMFDMQTGmB8wHrnOcYqv451i+0e10V9Nn8lrrWbS1mOxW3RO+GXkHGR3HNLqvO347B38r/AIHUUVh+IPEMmk32m6bp9ml5qWpyOtvFLP5MYVF3OzOFYgAY6KSSR9awbr4lra6DBeTafFb3LalJplwLq7MdtbTJnJecIcKccHbzkZxzR/X9feH9f19x3VFcbrfj9dG0/RJmTTHOrFgLt9SKWEe1d3/HyIznP8PyDOD0xz1Wn3P23Tba63QN50SybrabzYzkZ+R8DcvocDI7U7AWKKK8zvfFuu28OuaEl6v9urrcVpYSmJMrbzkOjbcYbagk5I/g5zSWrt/W6X6h0uemUVxuufEGHQfEtrpk66dKs11Dasi6mv2xDJgB/s+37mSOdwODnFRx+bZ/GxbWG8vTa3Oiy3MlvLdyyReZ56LuVGYqvHHygChated/wVwei/rq7HbUVx1pqd4fi1d6ffpLCo0nzoli1AyQNGJiocxGNdkh5yQzDGBz1rEbxdqev+KPB15Zwmy0W/vblYit4xkukWJwDJEFCgZXIG5u3ANG9vP/ADsD0v5f5XPTKK4u1+IS3HjOLw+ItMlluVn8k2mqieSJ4gDsnQJ+6JGehfBBHPWo/AWveJtZn1oazBYvBa6pc2yul0d0WwjEYUQqGUZ++SGPpQtfuv8AoD0++x3FFcP4d8QyW0/jG510TwnS5xJcRi+N1FGBArkQ5jQquP4SOuaZJ8RbyxsvtGq6FHbi40qbU7FYr3zDKsahjHJ8g8tsMp43jrzxyr6fK/4XGk27L0/Gx3dFcv4e8X3Or69JpWo6WlhMbCLUINl15xaJ2K4f5QFYYHALDnrxVzxtqN1pHgTW9R06Xybq1spZYZNobawUkHBBB59acvdV2KPvOyNyiue1LxL/AGH4Kt9Xuomu7iWOBI4lIQzTSlVUZ6KCzDJ7DPB6Vl3nj+40iw186zo3l32iwxXDQ2lyZ45YpOFcPsUgAht2U4CkjNNqza7BH3kmup2tFcZP4/S18E3PiB00y9WGdIf+JZqRuYU3FRukl8oFAN2W+UkDB5ziug8P6v8A23pK3nmadLudl3abe/a4ePSTauT6jHFFguadFFcH8QvEmsaZeRw+HrnynsLKXVb5BGjmWGN1Aj+YHG4eZyMH5etLqO1zvKK5q78VXE2twaT4csINQuJLIX0klxdGCFImOEwyxuWZjnjHQHmnXniTUG8SNoeiaXb3d3b2qXN3JdXjQRRByQiqwjcsx2segAAHPOKPIX9f1950dFchrnjz+xT4mB03zv7BtILn/X7fP83d8v3Ttxt685z2qC78fagup6xaaZ4bl1A6QbZp/KnO945UDEogQlnXJ+XuFJyDgEWrsH9fl/mjtqK43xD8QYfD2v29jOmnSRy3EMDR/wBpKLxTIQA4t9pyoyOSwOMnHroWfiS+1XxDfWWkabBJY6dcLbXd3cXbRN5m0MwjjEbbtoZeSy5J/Gha7f1t/mg2Oiorjk8eu9usI0sDVW1g6V9h+0dCDuMm/b93yv3nT2rsaN1f+u/6h1t/Xb9AorH8XX9zpfgvWb+xk8q5trKaWJ9obayoSDg5B5HeuF0/x3fafb6nfxaoPFOmWWjLezSkxL5NznmASRIF5XJwQWXA9aV1r5f8H/Idnp5/8D/M9Sorir74gT6Ppuo3+taFNaWtvbwz2somBS481tqozFQsbg43DLAA5zUNp8UbKTStauJoba4n0owgrpV6LuKczcRhJdq87sqQQMYzyKYju6KxJLnxA3h+6kuNM0+G9C/u4YtTcqVxyTJ5GVYc4AUjgc1zdh40XRvhFouuvFcXIuFhi36heFvL3tt3zzhOg7ts9OOc0f8AA/EO3z/A7+iuQ1jXry8+Gt9qtgLCc/Z5mlk0zWDtSNVbLRTiE5cY4BUAHvxyqeKZbXRPDFtYWrX2pazbqYI7u72DasQd3klCEnAxyEOSeg7Hf5fiHb5/gddRXDp8Qrm4GnW1noiyaleX9xp0tu95tjgmhUlj5mw7kwM5C5x2zxW/4U8QDxP4dh1MW/2Z2kkikh37wjo7I2GwMjK8HA47CgP6/r7jZooryfWvF2vReOdY07T9YuEng1Czt9OsWtI/sswkRWkSSYpkHbvIHmBjjAB6ULWVv6/rUHornrFFcDqHxVsLHxHcafss2gtL2OymL6gqXTSMQC0dvtJdFLLltwPDYBxzuWfiS+1XxDfWWkabBJY6dcLbXd3cXbRN5m0MwjjEbbtoZeSy5J/Gha7f1t/mgem50VFcbqfxBi0vxfZ6NMmmyLdXi2e2LU1a7iZlJV3twnCEgc784YHHao7TzbP41XNlFeXrWk2i/amt5ruWWMSmcgsquxC8DGFAA9KFrbzv+CuD0v5W/F2O2oritH820+L2sWEd3eyWh0uG5EE93LMiSNLIGKh2IXgAYGAMcCu1o6J/1vYOrQUUUUAFFee6pr18fide6RJrOsWVlBZW8sUWmaatzl3Zw28+RIVHyjqQOtaGs6l4gsviP4etheW8Wj3000JtY4t0k22Avud2+7hhwq9hkk5wBaq4dWu3/DnZUUUUAFFFFABRRRQAUUUUAFFFFABRRRQAUUVHJOkTYfdnGeEJ/kKAMPVfCaaj4ki1y21fUNNvorU2ga0ELK0ZYMQRLG/OQOR6Vjaj4Nv9X8cXc1xf31vpk2jxWcs1u8KtdESOXRsoWXIbOUC9eD6dn9ri/wCmn/fpv8KPtcX/AE0/79N/hR2/re/+Y7/193+Rzd78PtLupp/s1zeafb3dtHaXlraOgjuokG1VfcpYfL8uUKnHfpVlvB1tDrD6lo2oXujyzRRxTx2YiMcyxjCZWSN8EL8uVwcVt/a4v+mn/fpv8KPtcX/TT/v03+FAvIwNS8C6ZqkOsR3E92o1e4guJ9jqNrRbdoXKnA+QZznv0rpah+1xf9NP+/Tf4Ufa4v8App/36b/CjpYCasiy8NWdhPrMsMk7NrE3nXG5hhT5YT5eOBhR1zzWj9ri/wCmn/fpv8KPtcX/AE0/79N/hSaTHczLXwtYW3gtfC+6aWwWzNmWdx5jIV28kADOPaqGneBYNNvTfQ6xqb3wsP7PjuZDDmKIMCu1RGEyuOPl5yc5rovtcX/TT/v03+FH2uL/AKaf9+m/wp9b/wBf1qxdLf1/WiOWt/h1Zw+G9V0KbWNUubLVGeSUSmAMju252UrEOSexyB2ArTbwvCur6lqdnqF5Z3mowwwvLF5beWIs4Kh0YZO4g5B9sVrfa4v+mn/fpv8ACj7XF/00/wC/Tf4UAcvZfDuxs/CreH21XUrmxM6XCCUwho2WXzTgrGMgt1zn2xWf4z8DtdWmoz6VBNfS6rf2k99bloifLiwP3SyARscAHbJlTz7Cu4+1xf8ATT/v03+FH2uL/pp/36b/AAo/r8v8kBzPgLTNV0mzvrW+tmtNOWYHT7eaK2jmjXaN+8WwEWC+SMc8nNaniTw5b+JrG2t7i6ubQ2t1HdwzWxTeskZyp+dWBGexFaX2uL/pp/36b/Cj7XF/00/79N/hTbvr/WgLQxLvwiL6Kye61rUn1CwmaW21ICBZ49y7WTAiEZUjqCh7egp1v4TSw0hLDSdWv9PzK889xEsDyXMjnLM/mRsMk8/KB6DAAFbP2uL/AKaf9+m/wo+1xf8ATT/v03+FIDAt/BUOn+G7XQ9H1bUNOsoEdXEKwOZ95JYv5kTDkljhQo56YxjX0XSLTQNEtNK05WW1tIhFGHbccDuT61Y+1xf9NP8Av03+FH2uL/pp/wB+m/woAmrn7nwZpt144tfFUklyL22h8pYVdfJbAcB2XGSwEjAHPANbX2uL/pp/36b/AAo+1xf9NP8Av03+FHW4dLHMXPw6025vp521DUUhm1FNTNojxiMXClTvzs3nOzG1mI5OADgiw3g3f4wXxGdf1T7UkZhWLbbeWIS4cxY8nO3IHOd2P4q3/tcX/TT/AL9N/hR9ri/6af8Afpv8KFpa3T/hvy09Aev9fMwV8HAeMD4ibXdTe5MX2cwstv5Rh3l/KwIt2Mnrnd71UsPhvpmn3unTR3+pSQ6XNLLY2kkqeVbiQOGQAICV+fjcSRtABAyD1P2uL/pp/wB+m/wo+1xf9NP+/Tf4UdLBuczpHw807R77S7iK/wBQnGkCVbGGZ49kKSAhlwqAt1zliW4HNaGm+F4tI1W/u9O1G9hhv5nuJbL900QlYAM65QuDxnG7Gc8Vrfa4v+mn/fpv8KPtcX/TT/v03+FAHO6b4Ft7G71Wa61bUdTj1gEX0F4sHlzHYEz8kSkfKMcED2zUKfDnTjZy297qOpXwOnvp1u9y8Za0gcYYRlUGSQF+Z9x+Uc9c9R9ri/6af9+m/wAKPtcX/TT/AL9N/hRYNjMsvDFlY+IF1eGWdrhdPTTwrMuzy0bcDjGd2T1zj2q3rekwa9oN7pN48iQXsDwSNEQGCsMEgkEZ/A1Y+1xf9NP+/Tf4Ufa4v+mn/fpv8KHqrMFpsYD+C4rrQJdI1TWNS1C2ZYxCZvIR7ZozlHjaOJfmBAOWz0+uZrTwotkt/NDq+oHU78p52puIDNtThVC+X5YAGeNncnrzWz9ri/6af9+m/wAKPtcX/TT/AL9N/hRuGxh2Hg9NMt7/AOw6xqMV7qNwLi5vwsBldgoXG0xeWBgdkz71b8O+G7Tw1a3MVpLNPJeXL3dzPPt3yyvjLEIqqOABhVA49cmtH7XF/wBNP+/Tf4Ufa4v+mn/fpv8ACjYCaue1DwLoGr6zd6nrNjFqU9zCkCi8iSVbdV3f6sFflJLEk884rb+1xf8ATT/v03+FH2uL/pp/36b/AApNXHexzcHgG0sV059L1bU7C60+yFgt3C0LPNADlVcPGyHBHBCg+9W73wmlxrK6tZ6tqGm6gbcW089r5J+0IDld6yRsuQScEAH5iOlbP2uL/pp/36b/AAo+1xf9NP8Av03+FVd3uI5nX/h7p3iG6v5rnUNSt11K2S3vIraVFWcJu2McoSCC2cAgHAyCMg62meHLTSda1PU7eSZptSEImWRgVXyk2LtwARx1yT+FaH2uL/pp/wB+m/wo+1xf9NP+/Tf4Utg3OYvfh1pt7e3Uz6hqMcN1fR6jJaRyRiP7QmzD52biPkHylivJIAOCL8fhSO01+51TTNUv7D7ZKk13aQ+U0M7qMbiHjZlJAAOxlzj15rY+1xf9NP8Av03+FH2uL/pp/wB+m/woWm39f1ZfcD13OT0jw3Lc/EbUPFV9YT2AEK21tbzTIxkcDDzlUZlBKhUHOcKcgcV2VQ/a4v8App/36b/Cj7XF/wBNP+/Tf4UbKwdbkOr6ZDrWi3mmXTSJDeQPBI0ZAYKwIJGQRnn0qtqfh601bwpP4fuJJltJrb7MzxsBIFxjIJBGfwq/9ri/6af9+m/wo+1xf9NP+/Tf4UrJpruO708ilqugWes+HZNGvPN+zvGqB0fbIhXBV1PZgQCD6iqlx4UTUtBvNJ13Vb/VoLoD5rjyY3iIOQUMUacggHJzyK2PtcX/AE0/79N/hR9ri/6af9+m/wAKb1EtLW6GYuhXg0mayk8SarK8pGLp0tvNjXuoxCFIPclSfcVU0nwe+h+GoNF0zxFq0MNuQIZSts0kaAY2cwkEd8kFvfHFb32uL/pp/wB+m/wo+1xf9NP+/Tf4UAc6vgOzh8K3Wg2mpahbQ3ssst5PH5PmXBlzvB3RlVBz/Aq4wMY5oHga3GmaXbDV9SFzpDf6DfjyRPCmzYU/1exlKjBDKc8HOQK6L7XF/wBNP+/Tf4Ufa4v+mn/fpv8ACj+vu2D+vv3MKz8D6XYzaXNDJcmXTbia6EjOpNxNKpWR5Pl5J3E8bQOMcDFaHh7QLXw1pI06xkmkhEsku6ZgWy7lz0A4yxxV37XF/wBNP+/Tf4Ufa4v+mn/fpv8ACgP6/r7yauY1DwDpepHWWmnvEfV5oJ5HjdQ0MkIGxo8rwflHXNdD9ri/6af9+m/wo+1xf9NP+/Tf4UAY0XhRbTWrjUNN1jUbEXcyz3VrCIWinkACliHjZlLBQDtK9Ox5pY/Ckdpr9zqmmapf2H2yVJru0h8poZ3UY3EPGzKSAAdjLnHrzWx9ri/6af8Afpv8KPtcX/TT/v03+FC0A5j/AIV1pv29Z/t+oeTHqf8AasdoHjEaXGcluE3MDkjDMcA8Yqyvg7b4w/4SM69qjXRj8gxFbfy/J37/ACseTnGT1zu/2q3vtcX/AE0/79N/hR9ri/6af9+m/wAKFpa3T/hvy0B638/+H/PUwbXwd9m8Wy+If7e1SW5mjEMkTrb+W0SsWWPAiBABY8g7vUmukqH7XF/00/79N/hR9ri/6af9+m/wo6WDrcmoqH7XF/00/wC/Tf4Ufa4v+mn/AH6b/CgClb6Da2/ie811JJjdXlvHbyIWGwLGWIIGM5+Y55rP1nwg2s65aao2v6paSWLs9rFbrbbIWZNjEb4WJyCfvE9eMVu/a4v+mn/fpv8ACj7XF/00/wC/Tf4UbATD86Kh+1xf9NP+/Tf4Ufa4v+mn/fpv8KAJqKh+1xf9NP8Av03+FH2uL/pp/wB+m/woAmoqH7XF/wBNP+/Tf4Ufa4v+mn/fpv8ACgCaimxyLKuUzjOOVI/nTqACiiigAooooAKhl+8PpU1Qy/eH0oAZRRRQAUUUUAFFcp4gfV4PF/h9l1FYtOmvjF9khjKtL/o8jZkfPIBXhQAO5ycY6ujpcHowooooAKKKKACiiigAorgZp7p7DUPEv2+6W6s9WaCKFbpxAIUnEJjMQOwllDHcQWBYYPAx0/iaKwGh3F5qst5FbWMb3Dm0vJbdsKpJ5jZSfoaTdlcdnzcpr0Vxdpo8WleAXuvE19qrGJZNQn26rcq8OVz5QcSBiqjCgEnJGeprNaw1HTNC0SyuLvVbu41C7kubqxh1CX7QyeWW8qOZ3BVYzszmRM4PJLbTXVoXS56NRXEQT6zcfD66Fhqv2e5tZLlJZbiNpp4I0LlYssR+9C7BvO4Hr8+QxdA8+syeGtLu726S3m0g3twYLqSGWZ1ESjMiENj94xODycZpbtpf1o3+gm7fj+DS/U7WiuA0qe61+/s9G1C/uvs1ol7ve3u5IZbhobgQxlpIyrcLkkZ5JBPSuk8IXs974cja7mM8sE89sZiQTIIpnjDHAHJCAn3zTtpcezt20+Zt0UUUgCiiigAooooAKKKKACiuS1C3m1vxLqttJqF3aR6dZxNbC0unh2yybyZHCkB8bFwrArweDk0XmtXd58J49Wjuksb280+J1mGSFkkVQAuFJyS2BhTyRxR0b/rr/kPqjraK4rQbYXV5qmk3x1extzDBOlnealK1yhywaQTpIx2Hao2rIcYOQN3K+FSunaLf+IJLq/ntb6TNjaz3s1wREDtjC+YzHfITu/4Eo7ZILc7SivOba/1kafrdrfajJ9pn8QQWbSK5H2eOWOAukR/hwGYKRzk7uvNO1ee60qfUtBsb+9eIyWMkCNdySXLiWR1khSVsuCwiJDFht3H5kAyHZ2Xy/G3+Yd/L/hv0PRKK4C3/ALXudF1TTNOW9M0eowhbO71F0uLW3ZUZg9wCzYYhyGRpCA2ASRtG/wCE5PLhvdPmt7i2vLSYCeObUJb1TuUFWSWX5ipHbC4IbjuQDoKKKxPF97cWHhmeSym8iaSSG3WYYzH5sqRlhnjIDkjPcUho26K5vSIW0jxZc6TBc3U9nJZJdIt3dSXDxvvZGw8hLYIC8ZwCDjqay/EUepQavqGr31jdyaRZIjB7fW5rZhGq7nZYYztkIJbO8qSFwM8UaaC11R3FFcJrn2+31a/1zULK8k0a08t1kt9ant2EQUFnW3jIV8EsTvIYgYAPAJqa6jZ67e61q1leNpUNzH5csOtzRFItqDcLaMhHXdktuIYjd8pAAItQeiud3RXG69qt9N4p0NLG4eHTo9UFtN5ZI+0yGGUsp9VTaPYsT3Sk1TVL658b6B9kuXi0wX8ts6IcC6cW8rMT6qrKAB/eDegoWv8AX9dwen3f5/5HZ0V5zZ312Nehv5bq/wDKm1iSA37XLmykiLOiQLDn5XyFXfsUFgcSHIDejULVXB6OwUUUUAFFcDfTXRsNY8Sf2hdJc6dqDRwQpdOsAijdVMbRZ2MWG75ipb5hgjAx0viqDUrrRfs+jxPLNJPGHCXRtiI9wLfvF+ZRgYJXLYPANK+ife34h1a7GzRXnE+oXFvHb+H1ttVguXvyt5DbanNdyyqITIohuJGVlVsKCSU24bpncZbq836Raadp8+tB/wC1TDc6bNdn7aQI2kMKzhjx919xlxtyN/Raf9f19/8AWgf1/X9fqehUV59p1xcanJYaFcX95FCby7+0RfapFuokjCtHA8wIYkCRSWVjuAHzMDk2/N1lvCWr2unaoIZNMubiD7ZOpnlMKrvUAkj5wGC7m3fdyQxqXJJN+V/lp/mNLVLzt89f8jtqK8/ub+8vY/DmnumrXkcmlC8mj064MM1w4EajdNvTaBuZjlxuOOvQ9X4bube60C3e0uLqeNN0ZN4czIysVKOe7KQVyck4zk9To1Zv+vIiMrpP+u5q0UVwerzXVxD4q1gX9zDPoblbKKG6dIlEcCSnzIwdrlixB3A8Yxip6l2b2O8orD8SJqV74bCaPC73E8kOVjujbkIXUv8AvB8yjbkErlgDwCcVn6L9uFhqOlWO7TtWt5EMjXt5PqUYVxkOjSMrMMAjaduGB4I5J3FdaeZ1lFcBYX1/c+CfDtrcajcNLqWotbXN35pSZkDTOQGGCpIjC5XBAPGOMSXEGrEajoOkm5vYre/hIMupyRSRwvHvZWuMmTG8dRubDY6Cl/X5f5/mC2Xpf8/8ju6K5LS9VNlpNxp9vbzx6tHd/ZPs9xfS3g81lDhxLIdzRhCHPTgEYB641pNqE3hXRjqd3rF1Yi7ukv57DzTcOVkcR58n94EyOdnT5R93NNgejUVz3g2/mvdLu0m+0bLS9kt4Gus+a0QwU355JAbHzfNx83zZroaACiuI1UXOpXnia5/tG6tZNFRVslgunjjRxCJi8iKQJMlgCHDDC9Bk56ZtWSHw/FqU6HMkKOsScl3YDai+pJIA+tHT+uuw7a/1/XU0aK86t59fk0XxKlxd3k9xFrEaz/Y8tJDbmKBpUgA5GAzY2/MeSPmNVLvX7iG6k0TS/wC2hp9zPapE83nfbMSCdpEQy/vFz5AUM5G3cWBCgEOz/L8bf5i/4P4HqFFcrozTy6bqFjotxfWF/DKoaDW2N21oGAOQRIS4IyR+8YAkjjG0ZNrPqtz8ONKlku9RuVN4w1Ge13NdPAJJAduz5uoQHZ8wXO3tSDr956BRXmk+rXM0UulWUuq/ZBqkEcEEkssV7cxGEyPEsjkSIcqWzIynaCCwBFdV4OuJJNOu4JpZy9tdvGILqRpJ7ZSAyxyOSdxw2dwZgQRhm60LW/8AXb/MW1v67/5f1rbp4vun60+mRfdP1p9AwooooAKKKKACoZfvD6VNUUoJbgE8UAR0Uu1v7p/Kja390/lQAlFLtb+6fyo2t/dP5UAUb/SoNRurC4maRXsLg3EQQgBm2MmDx0w56Y5xV2l2t/dP5UbW/un8qAEopdrf3T+VG1v7p/KgBKKXa390/lRtb+6fyoASil2t/dP5UbW/un8qAMCXwlay6k1x9svEtZLlbuXT1ZPIkmXBDnK7x8yq2AwUkZIOTm7qOjR6rpc9he3Nw8U0ockbAQocNsGFxt4xzk4J571pbW/un8qNrf3T+VHSwFHV9Lh1rTJLC6eRIZGQv5ZAJCsGxyDwcYPsTUWr6LHqzW0y3VzY3dqxaC6tSu9Nwwww6spBHYqex6gGtPa390/lRtb+6fyoAyrPQLWy0S401ZZ5RdeYbi4kYGWV3zucnGM89gAMAAAACoZ/DEElpp0dpe3djcabF5NvdweWZQm0KVO9GUg7VJyvUAjFbe1v7p/Kja390/lR/X3AYD+ErVbayXT7280+5sldEvIDG0rq5zIG8xGVtzAMfl6jIxWppunwaVpsNjaBhFCuAXYszHqSSepJJJPqat7W/un8qNrf3T+VACUUu1v7p/Kja390/lQAlFLtb+6fyo2t/dP5UAJRS7W/un8qNrf3T+VACUUu1v7p/Kja390/lQBiat4Zh1S8e6jv73T5Jofs9ybNkH2iIEkKxZWIxubDLtYbjz0xNd6Ba3unS6fO8v2F4o447dCqiAocqyEDcGyFPJIG0YA5zq7W/un8qNrf3T+VHSwdbmHa+GY4RfSXWpX1/d3sH2d7u4MYkjjwcKgRFVeWJ+7knrnAxbOhaZLocGkXdlBeWMMaRrDdRLIpCABcgjBPFaO1v7p/Kja390/lQBzNt4A8P2VtqUNhZpaDUJ0nLW8aRmB0C7DHheArLvAORuLHvipT4QtpLWYXOoX1xeyzJP8A2g7IJkeMYQqFQIAoz8u3By2QcnPQ7W/un8qNrf3T+VAHOf8ACG2jW0nn319NfyXC3P8AaTtH56yINqEYQIAFJG3ZtIJyDk50tJ0hNKim/wBJnvLi4k8ye6uSvmStgAZ2qqgAAAAADj1yTo7W/un8qNrf3T+VACVV1LTrfVtNnsb1S0E67W2sVI9CCOQQcEEdCKt7W/un8qNrf3T+VAGNY+HzZNczPqt9dXtwERr2cQ+YqISVQBYwgGS38OfmPPTEF74Rtby+upRe3sFtfMr31lEyeTdEALlsoWGVVVIVlBA5756Da390/lRtb+6fyo63A5+78I2t1e3Egvb2G0vJFlu7CJk8m5YADLZUuMhVBCsoIHIOTkl8I2st9LKL69js57gXM+nI6eRLKCDuOV3gEqpKhgpI5Byc9Btb+6fyo2t/dP5ULQDnL7wH4Zv9Str+TRrGO6guvtRlitYw0z4YfOduWGW3fUA9qLjwF4Zn1ez1NdGsYLq0uDch4bWNTK5Vh8525bBbcOfvAHtXR7W/un8qNrf3T+VC02B67nOp4OtEvI3+3XrWMV0buPTWZPs6y5LbvubzhyWClyoOMDgY6Gl2t/dP5UbW/un8qOlg63Eopdrf3T+VG1v7p/KgDAn8JWs+pSXH228jtpp0uZ7CNkEE0q4Idvl3jlVJAYKdvIOTm3qWhx6pb7Li7uVkjuBcW08ewPauBgbPlwRyeGDZ3EHI4rU2t/dP5UbW/un8qOlgMBfCduLQhr+9a/M/2n+0yY/PEm3YDwmzGz5duzbjtnmmf8Idai2G2/vl1AXJu/7TDR+eZSuwnGzy8bPl27NuO2ea6La390/lRtb+6fyoA50eDrVLRBFfXsd+ty11/aYaM3DSsNrE5QoQVwu3ZtAAwBgYv2uhW1poculrLNIk4k86aRgZJGkyXcnGMkkngADoAAAK09rf3T+VG1v7p/Khq6swWjuYk3hqFrSwjs767sZ7CAW8N3bmMyeXgAqwdGQg7VPK9Rxir2k6Xb6NpyWdpvZFLOzyNueR2JZnY9yWJJ7c8Yq7tb+6fyo2t/dP5U7t6iSSVkJWFf8AhO1v76eY3l3bwXhQ3tpCUEV2VwBvypYZACnay5AAOa3trf3T+VG1v7p/KkMy9S0SPVYXjuLu5UiZJ7d4yitauoGCh2885JD7gckHjin6To6aUk7G6uL25uX8ye6uSvmSEAADCqqgAAABQB1PUknR2t/dP5UbW/un8qNgMMeFbJfD8OkxzXMa28vnwXCsvmxSby4YHGOCSMEEEcEEE1CfB1q1oA1/fG/F19sGp7o/PEu3Zuxs8vHl/Jt2Yx2zzXRbW/un8qNrf3T+VG2wGEnhDRpLIwatZw6yzTNPJNqUEcrySEAFj8oUHAC/KAAABUNl4LsdJ0ePT9BubrSAk7ziayEaszMTkMpQowwQBuU4Crjpmuj2t/dP5UbW/un8qAKOkaVBoumpZ2rSOAzO8srZeV2JZnY92JJJ6DngAcVdpdrf3T+VG1v7p/KgDB1TwpbapeTzG9vLWO8RYr23t2QR3aLkAPuUkcEqShUkcZ4GL91pFnqEE1tqkMV/aSFSLW6hjeJNvTAK8888556Yq/tb+6fyo2t/dP5UdLAc5Y+B9H0mHU00WNtLfUZVlaWxVIWhKhQoTauNoK52sGBLNkEEinp4RtRaTrNfXs97PMtwdRd0E6yIMIV2qEAUcbdu0gnIO5s9Btb+6fyo2t/dP5UAZmkaLHpLXMpuri9u7pg091cld8m0YUYRVUADgAKO56kmoYfDkVr4fj0qyvr21WJzJHcQyKJVYuX7rtYZJGGUgjqK2drf3T+VG1v7p/KgDnf+ENtPsar9tvft63RvBqe5PtHnbdm77mzGw7Nuzbjt3rR0fR4tHgmVJprqe4lM1xc3BUyTOQBk7QFGAAAAAAAOK0drf3T+VG1v7p/KgCWL7p+tPpkQIXkY5p9ABRRRQAUUUUAFFFFABRRRQAUUUUAFFcV4mtri11ATQavfTa1eXKDS7SGd44oo1K798QbY6AbizuM/MAMHbXa0dLh1CiiigAooooAKKKKACivPp57p9P1HxP8A2hdLd2erNBFAt24txDHOITGYgdhLKGO4gsCwweAB1PieLTxoVxe6tNeRW1jG9w7Wl7NbNhVJPMTKTx2PFK9lcdve5TYorz+z0zULPS9A0i/1G/DaxdyT3u6/maWNRE0ggjlLb1UFUGQ2Ttb+8avadqt3aRanotrPJc3cGpGysXnkMzqhijlLOx5YRiQ8scnCgnLDNNWbX9dP8xLVXR2VFcJpSte/D3SL/X9furewtoJJb6UXDxSTkEhS0yMrKBycD7xIHQYMemjUdUuNF0bVrm/t7WS2u7wKLqWC6kjWVFgWR1IfISQFuck43ZOaW7sv6/qwdLnf0V57pM914h1Cz0XUL+6+zWiXu97e7khmuGhuBDGWkjKtwuSRnkkE9K6bwfe3F94bja8mM80E89qZmIJkEUzxhjgDkhAT75p20uGzs+mnzNyiiikAUUUUAFFFFABRRRQAUVyOo202ueJtWtZNRvLSLTbKJrYWl08O2WTzCZHCkB8bFwrArweDk1HqHiO9k+Fdhq8btDd6hBaK0kCb2jM7IrMigHJG8kDHXHFG6+78dvyDqdlRXHaJa2Vy9/pFyfEdhJ5ccz2t/qjtIFycSxzxyswBIwVEmBt+6M5aLwloseo6NfX9xf6qbHU5Q9pE2rXRaGBDhGEhk3gvjecEDBA7cgHbUVxHhTRYtQ0W+1C5v9WNhqUvmWkTavdEwwISEYSGTeC/LnBAwQO3LfC+j2974au9Vv8AUNXFhqD/AGq2jfV7rNvbqDsIfzN43L87c4+YD+EUPTf+v6/QDuaK880zS9Yl8DG6019RuZtYuorhLe51WZWtbUsCE81mZ0yg+YrlsscDgCui8IyeVDfafNb3NteWk4E8c2ozXyncoKsksvzFSOxC4IbjuXbe4rnQ0UVh+Mb25sPC88llN5E8ssNuswxmLzZUjLDPGQHJGe4pFLVm5RXNaPC2j+LrrSILq6ns5LJLpFu7qS4eN97I2HkLNtIC8ZwCDjqaz/FujR32tWFlY32q2t/qUxeWWDVbmNYYIwDIyxrIEBPyoPlxl8845N7W6/8ADC7/ANdLna0V59q810bDxRr41C6iuNDmZbOKO7kSEJFEjlZIwdrlyzAlgTgjGMA1b1q3nttYtnt9XvrjXL28SS0tY53SGG2DL5geEEoUCbsuwyWYAEHaA1rbz/UP+D+G521Feb6lqF/pd5qF5dnW21ePUVFuqiYWP2UyqqgY/cnKE53fvNxOP4aSC/u/+EgOovd35ibWmtxqH2p/sJi3mIW/kZ4fI27/AC9u4Z8znBS1a8/+B/n+YPS/l/wf8vyPSaK82Oo32mX6T3P9tvrL6ukE6yiYWX2aScIuz/liRsZSNv7zPX+KvSaFrG/9dP8AMOtgooooAKK5jVbdta8YLpNxeXdvZ29h9p2Wd1JbvJIzlQS0ZDEKFPGcZbkHAxFbeILyD4Vz61Ky3N5Z2c7GRsYleLcu44A6lM8DvSv7t/67foNK8uX+un+Z1lFcDpMs1i0kMP8AwkX9q3GnyvbjU7kPFqMigHeis7CFgSPkIi4flfl+Wz4cjvNJ1H+zr+2uINTurJpbaSfWrm/hk2FQ25ZMCNgWUkKCME4anbW39df8ib3V/wCuh2tFcZ4ePiGR/E9q+sQ3GoQ6giRXE9uTDEphiYhYg4IADHA3deSSck1rCXXrj4WtLbayVvI2u/PvriLzJWVJJR8gyFVuBg4IUdF6ClJqMebyv+FykrySO8orkjZXmq+EtFuZLnUriKOxSSa0sbgwT3chRcHzvMQjHzEjcNxPJ4wdLwddz3nhOye+uftN2itFcP3EiMVZW4GWBGCcYJBI4NW1ZtdiIy5oqXc26KK4HWJrq4h8WayNQuYZ9BcrZRQ3TpEojgSU+ZGDtcsXIO4HjGMVPUuzex31Fct4z1O4h0fTIbX7Up1S8jt5PsRPnbCjOVQ8bS2zbuyNoYtlcZGBd6r9nsotHsT4ggmudTSC5sri5827gQwtJsjm3txJ5f3zIQu5vmTb8pr/AF8v8xdE/K/5/wCR6RRXn/20G0tdFs7nWLFrnV0tbuC/uy9zaoYmlKJMGYkOEGGDsRvIBUjC6FlqE+jTaxpFtLJeyQ3McenJdTvK+ZYw21nYlmVSHYkkkLx2FH9fl/mG39ev+R2FFeX2epapL4b0fTbm61TUJLrVL9LmS0kKXNwkM0u1FcMojBIXJ3KAo2gjIrStriPU7jTdBt73V7e3Nzc/bYLm8ZbuJo1VhB5yMWI/eK+Q7EjA3EcUdWv6/r+uwPT+v6/r5276isHwnPM1nfWc88lz/Z9/LaxzSyF3ZBhlDMeSQGC5OSduSScmt6jpcAorhtWFzqd54ouhqV3ayaIirYrBdPHGjiATF5EUgSZLAEOGGF4Ayc6HibWLlfBlpcWrTQS6hJbQs9upaSNZWUNsAH3sEgHsee1H/A/HYb03/q251NFcGhuW0XV9L0ODXIdTzAW0/U9S3SRxu2DIlx5khVWVX+65KlThQes+m2dxcQahoBkvtKvoXhnuSuqT33mwOTxFNKQyFtjqSApUgkdmoF0O1oritB1i407TdVtZUujdw3YjsdNv7gy3CeYgKI8u59wLb23Bn2rkE/KQF8M6rfWfhS+e9uH1PURql3bQeYxHnSCZgqjrtXjtwqg9hR10/rbT8Q6X8/8AP/I7SivNbaXWJvC6Lf32qXdvFr91FqU1gJDcNCskgUII/nVN4QER8heBxmuk8GajJeLq1t/pZtrG8EVqb3f53lmGNwH3/PnLn7/zYxnmhar5X/L/ADB6O39df8vyOmooooAKKKKACiiigAoopC4U8mgBaKb5i+v6UeYvr+lADqKb5i+v6UeYvr+lAHOt4QdfEF5q9r4i1W1nvCvmKiWrqFUfKil4WYKOTjPUk9STXSU3zF9f0o8xfX9KNlYOtx1FN8xfX9KPMX1/SgB1FN8xfX9KPMX1/SgB1FN8xfX9KPMX1/SgDCl8I2supvcfbbxLSS5W7l05WTyJJlwQ5yu8fMqtgMFJGSDk5u6loseraVPp99dXEkM8quSNgIUOG2DC428Y5ycE855rQ8xfX9KPMX1/SjpYChrGjRaxDCGnmtbi2lE1vdW+3zIXwQSu5WU5VmUggggmqSeC9Ckslg1XT7fWHErzNPqUEczvI+NzcrgZwBhQAAAAAAK3PMX1/SjzF9f0oA5MfDrTYNN0ux0u+vNMh0yVp4hax2+JJT0kdXiZWYdjjj64rRn8MtcQ2rya3qI1C0LiPUlWATbX+8hHleWVOB/B/CD15rb8xfX9KPMX1/SgDCfwhapbWK6fe3mn3Nkrol7AY2ldXO6QN5iMrbmAY/L1GRitXTNOt9J02CxswwhhXALsWZj1LEnqSSST6mrHmL6/pR5i+v6UAOopvmL6/pR5i+v6UAOopvmL6/pR5i+v6UAOopvmL6/pR5i+v6UAOopvmL6/pR5i+v6UAY2reF4dUvXuo7+90+WaD7PcmzZB9piBJCsWRiMbmwy7WG489MWbjQrW6sZLCVpPsTRRxx26kKsGw5VkYDcGztOSTjaMY5zoeYvr+lHmL6/pR0DrcxbXwvHD9tku9Tv7+7vLf7M13cGMSRx84VAiKg5YnO3JPUnAAvppUEWgrpELSR26232ZWUjeq7doIOMZx7Vb8xfX9KPMX1/Sk0mmu/8AX6hs7/1/WhSOj2//AAjh0WJ5Yrb7J9kV0I3qmzbkEjGce1NvNDtrzwzNoReWK1ltTaFoiA6oV28EgjOPar/mL6/pR5i+v6U3q231BaWt0M/VNDttUsILZpJbZrWRZbaeAgSQOowGXII6EjBBBBIIp2kaQmkwzf6TcXlxcSeZPdXJXzJWwAM7VVQAAAAABx65JveYvr+lHmL6/pQA6qup6dbavpk9heqWgnXa21irD0II5BBwQR0Iqx5i+v6UeYvr+lAGRYeHTYtczvq1/dX1yERr2cQ+YsaElUAWMIBkt/Dn5jz0xcOlQHXhq5aQ3C2xtlUkbFUsGJxjOSQO/YVb8xfX9KPMX1/SjrcOljCvfCNpe6hPOby8gt7t0kvLGFkEN064AZ8oXGQqghWUEKAQecxQ+D3ttcvdUtfEWqwy30wlnQJaspC8LGC0JcIBwBu4yT1JJ6LzF9f0o8xfX9KNg3MW58Lx3mqLcXWp6hNarcLcjTnkRoPMXBU8rvwCAwXftyOlQr4Ls1vQwvr77ALs3o0vcn2fzi2/d9zfjed+3ft3du1dB5i+v6UeYvr+lC02Axf+EWjfV47y61PUbqCGc3MFjPKjQxSnPzA7d5xkkKzlVzwBhcblN8xfX9KPMX1/SjyDrcdRTfMX1/SjzF9f0oAy9W8Prqd3DeW+oXmmXkUbRfabPy9zRsQShEiMpGQDnGQRwRk5kh0O0g02PTU3nTktTam0fDI6kYyxI3E4yPvc5OcnmtDzF9f0o8xfX9KOlg63OeXwTZTeYur3t9q0JtpLSKG8kTbDE4AZVKKpJIAG5izcdeTm3pXh1dNvPtdzqV9qlysPkRS3pjzDHkEquxFHJC5JyTtHPFa3mL6/pR5i+v6UXAp2OkwaffajdQvIz6hOJ5Q5BCsI1TC8dMIOuec1FaaDa2WgS6RFJMbeXztzMRvHmszNzjHVjjj061o+Yvr+lHmL6/pSaTVmO9ncxbjwtA9vpy2V/eafc6bB9nhvLfyzKYsAFG3oykHapPy9VGMVoaTpdto2mx2VmHKIWZnkbc8jsSzOx7sWJJ+tWvMX1/SjzF9f0qrtkpJKyHVg6h4StdQvric3l5bwXhQ3tnCyCK7K4A35UsMgBTtZcgAHNbnmL6/pR5i+v6UhmfqOipqcMkdxd3KnzVmt3jKK1o6jAMZ2885JD7gckHKnFUE8HWv2eYzX19PqEsy3H9pu0YnSRFKoVCoEACkjbs2kE5Byc7/mL6/pR5i+v6UAYA8HWhsZ45r69mvZ7hLptRdkE4lQAIwwoQbQANoXaRnIOTl8Xg3R3s5IdYto9ceWc3Es+pwRSs8m0KGwFCjCgKNqjgfUnc8xfX9KPMX1/Sj+v6/roBzdn4C0jS9JSy0fzdNeK7ku4rq1WNJI3ctn+Day7WKAMpG0DuARIPBlotqvlX99HqC3LXZ1RTGbhpWXYxIKGPBQBduzbgDABANdB5i+v6UeYvr+lAFTSdLh0fT1tYJJZfnaSSaZgXldmLM7EADJJJwAAOgAAAq7TfMX1/SjzF9f0oAw9V8JW2q3lxMb69tI7yNYr63t2QR3iLkAPuUkcEqShUkHBPAxevtHi1C1ntrmaYxSFGiVSqm2ZMFWQgZyGAbnPPtxV7zF9f0o8xfX9KOgHPnwZaTQXX2+/vr29uTE32+Vo1miMR3RbAiKg2sSfu8kndkcUp8H20lrMLrUL65vpZY5v7SkaMTxvH/qyu1AgC8/LtwdzZB3HO/5i+v6UeYvr+lAGHF4N0h7eZNZgXXZbiUTTTapDHKzso2r8oUIuF4AVR1J6kkxWHgDwxYabNYDRbG4tZrp7oxT2sTKHYkjA24woJVfQcV0PmL6/pR5i+v6UAc7Y+B9M0jS5rPQZbjSDLdtd+dYiONlZiTtxsKMgBKhWVgBjuARq6Po8Oi2bwwyzTySytNPcTsDJNI3VmIAHoMAAAAAAAVd8xfX9KPMX1/SgB1FIGDDiloAKKKKACiiigAqGX7w+lTVDL94fSgBlFFFABRRRQAUVwXi7TbOD7Z4ht/JuprO4Sa7vmmDXGnRxbCYoFC8ZXcSpZfvkndnFd6DkAjoaOlw6hRRRQAUUUUAFFFFABRXnE9rbyaXqfiKSNDrdvrTRwXZj/exqtwIkiU9QjJwVHB3k4yTW142imvr7RNMWzjv7e5nkeW0nkCQzlIyyLIcH5M/NgKxJUcEZpX0TH1aOtorzuJdPvZdM8PSabDY2iatNBfaYr+bbPItuZlRcgAxnKvt2qMj7vWnpZaJDa6pBra79G0rVWjtNOMe+GYvDGwiEWD5mHdgiDgHGBwMP/h/y/zEtf69f8j0GiuDuNIs7D4embXtCsbuaB5W0+wvIUmFsZZMRQAnIGMop28DGBwBTLTwnpen6poXhe6t4LrT47G5u5LaWBTFPcb4gZCmNvHmPhcYGRjoKdtbf1tcOlzv6K830W0ttb1Wx0fWYo77TrSO/wDs1rdRiSN/LuhEjENncUQ7Qe26up8FSSP4XiSR2kWC4uIImfJJjjmdE5PJ+VV570W0v/XYNnbsb9FFFIAooooAKKKKACiiigAorjNR0vT9f8Wa1FrcUdyljYQG1WVQfs2/zS0qHqrEoPmHI2DB4pmo6lfz/CTTrmQzNd30NlHcGI+XIwleNXwSRtYhiMkjBPWhXf4fjf8AyDqdtRXnbWNva2eqaBBpGkeHry7igwsV0Ws543l2YI2J+8PKkbctlRuP8Nmz1Cy8DR6vaXdnoli8EcEy3FhbLZQzGVmRFkUsdpDKeSxGDnjkUBqd3RXnXgs6Fq1t4qttQvdP16AakLmdpGSeNx9niJfbyAu5WA7DbgdKzodEhtvC9hcado0ER8U6lG9zZQotuht/Ld4oWwMKmFXfwSdz8MTinb9Px/p/cH/B/D+vxPVqK4KDXdN8K6ZqNkbPTvDl6txHEIhcg2SvImUkUkIAu1SWG1SSp6kgm38Mrqzn8P38djqMeoCLVLvMyzLIzAysVZiP7w5z3zxSWr/ry/zB6K/9df8AI7KiisDxtLJF4TuBFK8PmywQSSISGWOSZEcgjkfKzcjp1oGtzforl9H0+z0Txpd6do1tDZ2UlhFcSWtvGEjSTe6hwo4BYDB9dg9KoeLPDGha74j0/TpdH09rm9c3V7dm0QzGCLb8u/GQWYouc527sexvbzFtc7eiuP8AEdhInjHwzdtfXDRf2gY4rMFVhjH2aXJwBlm46knA4AGTnCGw3epeItb0CC7jttVkibUWudl1bxxy7E8lQpIQAAkb0LZf5SCNwtf69P8AMb0V/wCuv+R6bRXmniHxRpd9420VTrllHHYauLf7J9qQOX8qUPI65yAG2ouQOd3XctF5YXeiXbXT6K39qy6zGRrpliPnQyXCgRA7vMwI2CbCoQBSQeASR1t5v/L/ADBq2n9df8j0uivOILa3XSLPxHHHG2ty66IpLwR/vXQ3ZhaIkclBHxtPA2g4yM16PR0v/XT/ADF1CiiigAorzm/tLabS9d8QvGkmtWWqMltdFMywiORVSJT1CsOCo4PmNnOTW54686eDSNOjthdQ39+Ip7dpPLWZRFJIEduyFkXdwcrkYbOClqk+9vxDq12v+F/8jqqK8xuERpbXw3a+Hra1/wCJkftmlw3P+hzH7OZEwxUYjJALKI8kqflbJJuHT4NU0lfD9jY6PpMlvqm26066JubViIvMxFH8m9fmR9oCAEMSMjl/1+X+YHoVFedf2V/a1lD4egs/Dti2nanIs9u9nm1usQ7g6WwYbv8AWoSpb5WGctgZd/Zf9tabY6HDaeHrH7BfTrNZy2m+2nKLjzI7cFdwzICQW+Vj1bHJ/wAP8tP8w2/r1/yPQ6K4S003T9X0iCwm0zSmudNe4ij0XcsNjcOrhWm8vYxwM5HDbS5BycNW54JkLeEbSF5pJpbUvaytJ13xuUYA5OVBXAJOSAM80eaA36KK871m0try28Z6vdpHJqWkyEWFw0eZLTZbxyIIz1XLsScdc4OaOv8AX9dR2ueiUVyfjZ7m40nSbJLb7SuoX0cNzb7/AC1lTy3cozHohZFDcElcgBicHn76O0XTJPD0OjW+m3japbLJpltKXsrnKmQLnChY2WNt2E6g/K+fmP8AO35f5i6X8r/n/kemUVwGnWGlx6Pq9hrwj0yx0+/W4uNPhZfsiI0akRDj54mY7iu1CWJG3H3qVxppOi2dlHpq21pqmsiWw0O4jEcJiWIuY5l58tWMbS7QrYYgFScgH/A/T+vkH9fn/XzPTKK8t8mSY2vhxdNhmiTVJ/tGkmQJaKRCJY4t2DmEbg+AmSR9wAEDUjh8Ntocses6etlbaTfPDNo8b+fbSzsqlFjjK/vAQ6lECr8zfdyKP6/L/MDvqKxPCVjcad4dihuofs2ZJJIrXOfssTOWSLIJHyqQMDgYwOAK26bAKK4HWLCy1W78X3mqJG9xpcaixndMtZAW4lEkZP3W3sTuGCdoB6CtLxVc3c3gqyUpI0l9Naw3EcbeWzLI6h0ySNuclT7E96W/4fjt/wAEb038/wADrKK4vSNP0RP7V0XVvDWl6eIo4ru4tICJ7N0O4LIFZFAYFGB+QH5V5PGKfhzwtosnhc3U9tBpg8QXEdy1pCqW6SR9YrYqBypT7ygZYl88Eij+v6/H7hf1/X9dT0CivPLHWYPCGm6vY3b6fo9z9sRba380CytTLHldjEJ8vyu7DC87gByCZ/Agh1XwjqVlpGvuWXVLoNe20scsu0zMQ2SGXLLznHfI7UbvT+tv8w6X8/8AP/I7yiuD8PabZaj8PdIsdQmEoNxMY7S4nAW+dXlIjk3Al143EYP3cnIBFa3gdTa2GoabIiQy2V9IrW0JzDbhwJFjiOASgVx2XnIAAwKFrcXRM6yL7p+tPpkX3T9afQMKKKKACiiigAqGX7w+lTVHIhZuB2oAiop3lt6frR5ben60ANop3lt6frR5ben60AY134W0i+1I311bO8rMjSILiRYpWTG1niDBHIwMFlJ4HoK16d5ben60eW3p+tADaKd5ben60eW3p+tADaKd5ben60eW3p+tADaKd5ben60eW3p+tAGPJ4Z0mXV/7Se3f7R5glZRcSCJ5AMB2iDbGcADDFSRgc8DE17odjqFqbe7WZ1M3nq4uZFkjf1RwwZOpHykcEjoSK0vLb0/Wjy29P1oDzMb/hF9J/sn+zhbyCDzfP3rcSCbzM58zzt3mb/9rdnHGcVBP4L0O4t7OJoLlBZSPLA8N/PFIHf77l1cMzHJyzEnk+proPLb0/Wjy29P1oAy10DTxp8VlKtxcQwzpcJ9pu5ZmEisGU73YscMAcE446U/VNGstYSJb5Jd0LFopYJ5IJEJGDh42VhkcEZ571o+W3p+tHlt6frQBj3HhjSriwtLMwSQxWYxbta3MkEkYxggSRsGwe/PPU5rQs7S3sLOG0soVht4UCRxoMBVHQVY8tvT9aPLb0/WgBtFO8tvT9aPLb0/WgBtFO8tvT9aPLb0/WgBtFO8tvT9aPLb0/WgBtFO8tvT9aPLb0/WgDJ1Xw3petTLLqEMjOqGJjFcSReYh5KOEYb1/wBlsjk8cmrM2l2dxHPHPF5sM8Qhkhd2Me0ZwAmdq9eoAJ4z0GLvlt6frR5ben60dLAYcXhLRo7O6t2tpLhbxVWaS6uZZ5WC8qBI7FxtPK4I2nkYPNXNL0ay0eOVbJZd0zb5JJ7iSeRzjAy8jMxwBgDPFaHlt6frR5ben60AZx0TTzBqUPkEJqjM12BIw8wlBGTnOV+VQOMdM9afdaTZXumDT7mDdbKFCqGKlNuNpVgQVYEAhgQQQCDmr3lt6frR5ben60AZ+l6PZaNDJHYRuDK++WSaZ5pJGxjLO5LNwABknAAHSpbHT7XTY5Y7KLy1lmedxuJy7sWY8nuSTjpVvy29P1o8tvT9aAG1Dd2kF9ZzWl5Ck1vMhSSNxlXUjBBFWPLb0/Wjy29P1oAybLw5p2nwTx2ous3DKZZpL2aSZtv3R5rOXwP7uccnjk5t/YLb+1P7R8r/AEryfI8zcfubt2MdOtW/Lb0/Wjy29P1o63DyKl1p9tez2s1zFvks5fOgO4jY+1lzweeGYc+tUbjwtpF1qRvp7Z2laRZXjFxIsMjrja7xBtjsML8zKT8q88DGz5ben60eW3p+tAFS70+1vpLWS6i8xrSbz4TuI2PtZc8HnhmGDxzVGPwvpEer/wBpJbP54laZVNxIYkkYENIsRbYrnJywXPJ55NbPlt6frR5ben60AZC+GdKTWP7TW3k+0eYZgpuJDEshGDIIt2wOQT8wXPJ55NatO8tvT9aPLb0/WjyAbRTvLb0/Wjy29P1oAx5/DGk3OrDUZrdzPvWVlE8gid1+67RBtjMMDDFSRtXngYsXej2d9azW92kksc0glOZ33I4xgo2cxkYBG0jB5HNaHlt6frR5ben60eQGKnhXSE017JbeTZJL5zSm5lM5k6B/OLeZuA4DbsgcdOKQ+FNHOmCx+zSCNZvPEouZROJf+ennbvM3Y43bs446cVt+W3p+tHlt6frQBiv4U0d9Nhsvs0iRwSNNHLHcypMsjZ3P5wYSbmycndk5Oc5pZPC2kSabb2QtpIorVi8MkNxJHKjNnc3mqwfLZO47stk5zWz5ben60eW3p+tAGNL4W0mXT7WzEE0MdoSYXt7qWGVc/e/eIwc7s5bJO48nJrQsbG202xis7GFYbeFdqIvQD+p7k9Sas+W3p+tHlt6frQA2sq98NaVqGoi9ureRpvk3hbiRI5dpyvmRqwWTB6bgcVr+W3p+tHlt6frQBn3mj2V/BcQ3iSSx3DK7Bpn+RlxtZOf3ZBAIKYIPPXmqi+FNHXTZbL7NI6SyiZ5ZLmV5zIMbX84sZNwwADuyAMDFbflt6frR5ben60Ac/J4L0OXTVsXguPKW5F3vF9OJWmHAdpQ+9iOMZY4wPQVKfCmlvp5s5hezR+aJlefUbiSWJxwGSVnLocZHykdT6mtvy29P1o8tvT9aAMUeFdIGlDTxbyCETGcSC4kEwlPWTzt3mb+SN27ODjOOKgm8E6FNDaxtBdIbSV5opYr+eOTzHGGdpFcM7EcZYk4yK6Hy29P1o8tvT9aAKmn2EOm2gt7d7h0BJzc3Mk78/wC3IzN+tWad5ben60eW3p+tAGPqPhnStVvRdX1vI0u1UfZcSRrMqnIWRVYLIoJPDgjk+pq3c6ZaXkNzFdRtNFcgCRHkYrx02jOEPAOVxzz15q75ben60eW3p+tHSwdbmRbeGdLtbG8tUhmdL5ClzJPdSyyyqV24MrsXwATjnjJxirF3pFjfaWNPuYN1soUKquylNpBUqwIZSCAQQQQRkGr/AJben60eW3p+tAFDS9IstGgeKwjdfMfzJJJZXlkkbGMs7ksxwAOScAAdBUljp9rpscsdlF5ayzPO43E5d2LMeT3JJx0q35ben60eW3p+tAGS/hvS30ePS/s7paxP5kYjnkR433FtyyBg6nJPII4JHSrOm6XaaRafZrCIohcuxd2kd2PVmdiWZj6kk1d8tvT9aPLb0/WjYCSL7p+tPpsalV59adQAUUUUAFFFFABRRRQAUUUUAFFFFABRRRQAUUUUAFFFFABRRRQAUUUUAFFFFABRRRQAUUUUAFFFFABRRRQAUUUUAFFFFABRRRQAUUUUAFFFFABRRRQAUUUUAFFFFABRRRQAUUUUAFFFFABRRRQAUUUUAFFFFABRRRQAUUUUAFFFFABRRRQAUUUUAFFFFABRRRQAUUUUAFFFFABRRRQAUUUUAFFFFABRRRQAUUUUAMmJELEHBqhcXi2tu89xN5caDLMT0q9P/qW/z3rkvGn/ACBYv+vgf+gtQBv3FxJDayyKxJRCwyT2FYP/AAkl76R/k3+NbN7/AMg+4/65N/KuPoA1/wDhJL30j/Jv8aP+EkvfSP8AJv8AGsiigDX/AOEkvfSP8m/xo/4SS99I/wAm/wAayKKANf8A4SS99I/yb/Gj/hJL30j/ACb/ABrIooA1/wDhJL30j/Jv8aP+EkvfSP8AJv8AGsiigDX/AOEkvfSP8m/xo/4SS99I/wAm/wAayKKANf8A4SS99I/yb/Gj/hJL30j/ACb/ABrIooA1/wDhJL30j/Jv8aP+EkvfSP8AJv8AGsiigDX/AOEkvfSP8m/xo/4SS99I/wAm/wAayKKANf8A4SS99I/yb/Gj/hJL30j/ACb/ABrIooA1/wDhJL30j/Jv8aP+EkvfSP8AJv8AGsiigDX/AOEkvfSP8m/xo/4SS99I/wAm/wAayKKANf8A4SS99I/yb/Gj/hJL30j/ACb/ABrIooA1/wDhJL30j/Jv8aP+EkvfSP8AJv8AGsiigDX/AOEkvfSP8m/xo/4SS99I/wAm/wAayKKANf8A4SS99I/yb/Gj/hJL30j/ACb/ABrIooA1/wDhJL30j/Jv8aP+EkvfSP8AJv8AGsiigDX/AOEkvfSP8m/xo/4SS99I/wAm/wAayKKANf8A4SS99I/yb/Gj/hJL30j/ACb/ABrIooA1/wDhJL30j/Jv8aP+EkvfSP8AJv8AGsiigDX/AOEkvfSP8m/xo/4SS99I/wAm/wAayKKANf8A4SS99I/yb/Gj/hJL30j/ACb/ABrIooA1/wDhJL30j/Jv8aP+EkvfSP8AJv8AGsiigDX/AOEkvfSP8m/xo/4SS99I/wAm/wAayKKANf8A4SS99I/yb/Gj/hJL30j/ACb/ABrIooA1/wDhJL30j/Jv8aP+EkvfSP8AJv8AGsiigDX/AOEkvfSP8m/xo/4SS99I/wAm/wAayKKANf8A4SS99I/yb/Gj/hJL30j/ACb/ABrIooA1/wDhJL30j/Jv8aP+EkvfSP8AJv8AGsiigDX/AOEkvfSP8m/xo/4SS99I/wAm/wAayKKANf8A4SS99I/yb/Gj/hJL30j/ACb/ABrIooA1/wDhJL30j/Jv8aP+EkvfSP8AJv8AGsiigDX/AOEkvfSP8m/xo/4SS99I/wAm/wAayKKANf8A4SS99I/yb/Gj/hJL30j/ACb/ABrIooA1/wDhJL30j/Jv8aP+EkvfSP8AJv8AGsiigDX/AOEkvfSP8m/xo/4SS99I/wAm/wAayKKANf8A4SS99I/yb/Gj/hJL30j/ACb/ABrIooA1/wDhJL30j/Jv8aP+EkvfSP8AJv8AGsiigDX/AOEkvfSP8m/xo/4SS99I/wAm/wAayKKANf8A4SS99I/yb/Gj/hJL30j/ACb/ABrIooA//9k=)"
      ]
    },
    {
      "cell_type": "markdown",
      "metadata": {
        "id": "v5uK49a9QMeq"
      },
      "source": [
        "**Model two (roberta-base) validation result as accuracy, precision, recall and F1:**![model2.JPG](data:image/jpeg;base64,/9j/4AAQSkZJRgABAQEAYABgAAD/4RDQRXhpZgAATU0AKgAAAAgABAE7AAIAAAADUEMAAIdpAAQAAAABAAAISpydAAEAAAAGAAAQwuocAAcAAAgMAAAAPgAAAAAc6gAAAAgAAAAAAAAAAAAAAAAAAAAAAAAAAAAAAAAAAAAAAAAAAAAAAAAAAAAAAAAAAAAAAAAAAAAAAAAAAAAAAAAAAAAAAAAAAAAAAAAAAAAAAAAAAAAAAAAAAAAAAAAAAAAAAAAAAAAAAAAAAAAAAAAAAAAAAAAAAAAAAAAAAAAAAAAAAAAAAAAAAAAAAAAAAAAAAAAAAAAAAAAAAAAAAAAAAAAAAAAAAAAAAAAAAAAAAAAAAAAAAAAAAAAAAAAAAAAAAAAAAAAAAAAAAAAAAAAAAAAAAAAAAAAAAAAAAAAAAAAAAAAAAAAAAAAAAAAAAAAAAAAAAAAAAAAAAAAAAAAAAAAAAAAAAAAAAAAAAAAAAAAAAAAAAAAAAAAAAAAAAAAAAAAAAAAAAAAAAAAAAAAAAAAAAAAAAAAAAAAAAAAAAAAAAAAAAAAAAAAAAAAAAAAAAAAAAAAAAAAAAAAAAAAAAAAAAAAAAAAAAAAAAAAAAAAAAAAAAAAAAAAAAAAAAAAAAAAAAAAAAAAAAAAAAAAAAAAAAAAAAAAAAAAAAAAAAAAAAAAAAAAAAAAAAAAAAAAAAAAAAAAAAAAAAAAAAAAAAAAAAAAAAAAAAAAAAAAAAAAAAAAAAAAAAAAAAAAAAAAAAAAAAAAAAAAAAAAAAAAAAAAAAAAAAAAAAAAAAAAAAAAAAAAAAAAAAAAAAAAAAAAAAAAAAAAAAAAAAAAAAAAAAAAAAAAAAAAAAAAAAAAAAAAAAAAAAAAAAAAAAAAAAAAAAAAAAAAAAAAAAAAAAAAAAAAAAAAAAAAAAAAAAAAAAAAAAAAAAAAAAAAAAAAAAAAAAAAAAAAAAAAAAAAAAAAAAAAAAAAAAAAAAAAAAAAAAAAAAAAAAAAAAAAAAAAAAAAAAAAAAAAAAAAAAAAAAAAAAAAAAAAAAAAAAAAAAAAAAAAAAAAAAAAAAAAAAAAAAAAAAAAAAAAAAAAAAAAAAAAAAAAAAAAAAAAAAAAAAAAAAAAAAAAAAAAAAAAAAAAAAAAAAAAAAAAAAAAAAAAAAAAAAAAAAAAAAAAAAAAAAAAAAAAAAAAAAAAAAAAAAAAAAAAAAAAAAAAAAAAAAAAAAAAAAAAAAAAAAAAAAAAAAAAAAAAAAAAAAAAAAAAAAAAAAAAAAAAAAAAAAAAAAAAAAAAAAAAAAAAAAAAAAAAAAAAAAAAAAAAAAAAAAAAAAAAAAAAAAAAAAAAAAAAAAAAAAAAAAAAAAAAAAAAAAAAAAAAAAAAAAAAAAAAAAAAAAAAAAAAAAAAAAAAAAAAAAAAAAAAAAAAAAAAAAAAAAAAAAAAAAAAAAAAAAAAAAAAAAAAAAAAAAAAAAAAAAAAAAAAAAAAAAAAAAAAAAAAAAAAAAAAAAAAAAAAAAAAAAAAAAAAAAAAAAAAAAAAAAAAAAAAAAAAAAAAAAAAAAAAAAAAAAAAAAAAAAAAAAAAAAAAAAAAAAAAAAAAAAAAAAAAAAAAAAAAAAAAAAAAAAAAAAAAAAAAAAAAAAAAAAAAAAAAAAAAAAAAAAAAAAAAAAAAAAAAAAAAAAAAAAAAAAAAAAAAAAAAAAAAAAAAAAAAAAAAAAAAAAAAAAAAAAAAAAAAAAAAAAAAAAAAAAAAAAAAAAAAAAAAAAAAAAAAAAAAAAAAAAAAAAAAAAAAAAAAAAAAAAAAAAAAAAAAAAAAAAAAAAAAAAAAAAAAAAAAAAAAAAAAAAAAAAAAAAAAAAAAAAAAAAAAAAAAAAAAAAAAAAAAAAAAAAAAAAAAAAAAAAAAAAAAAAAAAAAAAAAAAAAAAAAAAAAAAAAAAAAAAAAAAAAAAAAAAAAAAAAAAAAAAAAAAAAAAAAAAAAAAAAAAAAAAAAAAAAAAAAAAAAAAAAAAAAAAAAAAAAAAAAAAAAAAAAAAAAAAAAAAAAAAAAAAAAAAAAAAAAAAAAAAAAAAAAAAAAAAAAAAAAAAAAAAAAAAAAAAAAAAAAAAAAAAAAAAAAAAAAAAAAAAAAAAAAAAAAAAAAAAAAAAAAAAAAAAAAAAAAAAAAAAAAAAAAAAAAAAAAAAAAAAAAAAAAAAAAAAAAAAAAAAAAAAAAAAAAAAAAAAAAAAAAAAAAAAAAAAAAAAAAAAAAAAAAAAAAAAAAAAAAAAAAAAAAAAAAAAAAAAAAAAAAAAAAAAAAAAAAAAAAAAAAAAAAAAAAAAAAAAAAAAAAAAAAAAAAAAAAAAAAAAAAAAAAAAAAAAAAAAAAAAAAAAAAAAAAAAAAAAAAAAAAAAAAAAAAAAAAAAAAAAAAAAAAAAAAAAAAAAAAAAAAAAAAAAAAAAAAAAAAAAAAAAAAAAAAAAAAAAAAAAAAAAAAAAAAAAAAAAAAAAAAAAAAAAAAAAAAAAAAAAAAAAAAAAAAAAAAAAAAAAAAAAAAAAAAAAAAAAAAAAAAAAAAAAAAAAAAAAAAAAAAAAAAAAAAAAAAAAAAAAAAAAAAAAAAAAAAAAAAAAAAAAAAAAAAAAAAAAAAAAAAAAAAAAAAAAAAAAAAAAAAAAAAAAAAAAAAAAAAAAAAAAAAAAAAAAAAAAAAAAAAAAAAAAAAAAAAAAAAAAAAAAAAAAAAAAAAAAAAAAAAAAAAAAAAAAAAAAAAAAAAAAAAAAAAAAAAAAAAAAAAAAAAAAAAAAAAAAAAAAAAAAAAAAAAAAAAAAAAAAAAAAAAAAAAAAAAAAAAAAAAAAAAAAAAAAAAAAAAAAAAAAAAAAAAAAAAAAAAAAAAAFkAMAAgAAABQAABCYkAQAAgAAABQAABCskpEAAgAAAAMzMgAAkpIAAgAAAAMzMgAA6hwABwAACAwAAAiMAAAAABzqAAAACAAAAAAAAAAAAAAAAAAAAAAAAAAAAAAAAAAAAAAAAAAAAAAAAAAAAAAAAAAAAAAAAAAAAAAAAAAAAAAAAAAAAAAAAAAAAAAAAAAAAAAAAAAAAAAAAAAAAAAAAAAAAAAAAAAAAAAAAAAAAAAAAAAAAAAAAAAAAAAAAAAAAAAAAAAAAAAAAAAAAAAAAAAAAAAAAAAAAAAAAAAAAAAAAAAAAAAAAAAAAAAAAAAAAAAAAAAAAAAAAAAAAAAAAAAAAAAAAAAAAAAAAAAAAAAAAAAAAAAAAAAAAAAAAAAAAAAAAAAAAAAAAAAAAAAAAAAAAAAAAAAAAAAAAAAAAAAAAAAAAAAAAAAAAAAAAAAAAAAAAAAAAAAAAAAAAAAAAAAAAAAAAAAAAAAAAAAAAAAAAAAAAAAAAAAAAAAAAAAAAAAAAAAAAAAAAAAAAAAAAAAAAAAAAAAAAAAAAAAAAAAAAAAAAAAAAAAAAAAAAAAAAAAAAAAAAAAAAAAAAAAAAAAAAAAAAAAAAAAAAAAAAAAAAAAAAAAAAAAAAAAAAAAAAAAAAAAAAAAAAAAAAAAAAAAAAAAAAAAAAAAAAAAAAAAAAAAAAAAAAAAAAAAAAAAAAAAAAAAAAAAAAAAAAAAAAAAAAAAAAAAAAAAAAAAAAAAAAAAAAAAAAAAAAAAAAAAAAAAAAAAAAAAAAAAAAAAAAAAAAAAAAAAAAAAAAAAAAAAAAAAAAAAAAAAAAAAAAAAAAAAAAAAAAAAAAAAAAAAAAAAAAAAAAAAAAAAAAAAAAAAAAAAAAAAAAAAAAAAAAAAAAAAAAAAAAAAAAAAAAAAAAAAAAAAAAAAAAAAAAAAAAAAAAAAAAAAAAAAAAAAAAAAAAAAAAAAAAAAAAAAAAAAAAAAAAAAAAAAAAAAAAAAAAAAAAAAAAAAAAAAAAAAAAAAAAAAAAAAAAAAAAAAAAAAAAAAAAAAAAAAAAAAAAAAAAAAAAAAAAAAAAAAAAAAAAAAAAAAAAAAAAAAAAAAAAAAAAAAAAAAAAAAAAAAAAAAAAAAAAAAAAAAAAAAAAAAAAAAAAAAAAAAAAAAAAAAAAAAAAAAAAAAAAAAAAAAAAAAAAAAAAAAAAAAAAAAAAAAAAAAAAAAAAAAAAAAAAAAAAAAAAAAAAAAAAAAAAAAAAAAAAAAAAAAAAAAAAAAAAAAAAAAAAAAAAAAAAAAAAAAAAAAAAAAAAAAAAAAAAAAAAAAAAAAAAAAAAAAAAAAAAAAAAAAAAAAAAAAAAAAAAAAAAAAAAAAAAAAAAAAAAAAAAAAAAAAAAAAAAAAAAAAAAAAAAAAAAAAAAAAAAAAAAAAAAAAAAAAAAAAAAAAAAAAAAAAAAAAAAAAAAAAAAAAAAAAAAAAAAAAAAAAAAAAAAAAAAAAAAAAAAAAAAAAAAAAAAAAAAAAAAAAAAAAAAAAAAAAAAAAAAAAAAAAAAAAAAAAAAAAAAAAAAAAAAAAAAAAAAAAAAAAAAAAAAAAAAAAAAAAAAAAAAAAAAAAAAAAAAAAAAAAAAAAAAAAAAAAAAAAAAAAAAAAAAAAAAAAAAAAAAAAAAAAAAAAAAAAAAAAAAAAAAAAAAAAAAAAAAAAAAAAAAAAAAAAAAAAAAAAAAAAAAAAAAAAAAAAAAAAAAAAAAAAAAAAAAAAAAAAAAAAAAAAAAAAAAAAAAAAAAAAAAAAAAAAAAAAAAAAAAAAAAAAAAAAAAAAAAAAAAAAAAAAAAAAAAAAAAAAAAAAAAAAAAAAAAAAAAAAAAAAAAAAAAAAAAAAAAAAAAAAAAAAAAAAAAAAAAAAAAAAAAAAAAAAAAAAAAAAAAAAAAAAAAAAAAAAAAAAAAAAAAAAAAAAAAAAAAAAAAAAAAAAAAAAAAAAAAAAAAAAAAAAAAAAAAAAAAAAAAAAAAAAAAAAAAAAAAAAAAAAAAAAAAAAAAAAAAAAAAAAAAAAAAAAAAAAAAAAAAAAAAAAAAAAAAAAAAAAAAAAAAAAAAAAAAAAAAAAAAAAAAAAAAAAAAAAAAAAAAAAAAAAAAAAAAAAAAAAAAAAAAAAAAAAAAAAAAAAAAAAAAAAAAAAAAAAAAAAAAAAAAAAAAAAAAAAAAAAAAAAAAAAAAAAAAAAAAAAAAAAAAAAAAAAAAAAAAAAAAAAAAAAAAAAAAAAAAAAAAAAAAAAAAAAAAAAAAAAAAAAAAAAAAAAAAAAAAAAAAAAAAAAAAAAAAAAAAAAAAAAAAAAAAAAAAAAAAAAAAAAAAAAAAAAAAAAAAAAAAAAAAAAAAAAAAAAAAAAAAAAAAAAAAAAAAAAAAAAAAAAAAAAAAAAAAAAAAAAAAAAAAAAAAAAAAAAAAAAAAAAAAAAAAAAAAAAAAAAAAAAAAAAAAAAAAAAAAAAAAAAAAAAAAAAAAAAAAAAAAAAAAAAAAAAAAAAAAAAAAAAAAAAAAAAAAAAAAAAAAAAAAAAAAAAAAAAAAAAAAAAAAAAAAAAAAAAAAAAAAAAAAAAAAAAAAAAAAAAAAAAAAAAAAAAAAAAAAAAAAAAAAAAAAAAAAAAAAAAAAAAAAAAAAAAAAAAAAAAAAAAAAAAAAAAAAAAAAAAAAAAAAAAAAAAAAAAAAAAAAAAAAAAAAAAAAAAAAAAAAAAAAAAAAAAAAAAAAAAAAAAAAAAAAAAAAAAAAAAAAAAAAAAAAAAAAAAAAAAAAAAAAAAAAAAAAAAAAAAAAAAAAAAAAAAAAAAAAAAAAAAAAAAAAAAAAAAAMjAyMzowNzozMSAwNzozODowMgAyMDIzOjA3OjMxIDA3OjM4OjAyAAAAUABDAAAA/+ELFWh0dHA6Ly9ucy5hZG9iZS5jb20veGFwLzEuMC8APD94cGFja2V0IGJlZ2luPSfvu78nIGlkPSdXNU0wTXBDZWhpSHpyZVN6TlRjemtjOWQnPz4NCjx4OnhtcG1ldGEgeG1sbnM6eD0iYWRvYmU6bnM6bWV0YS8iPjxyZGY6UkRGIHhtbG5zOnJkZj0iaHR0cDovL3d3dy53My5vcmcvMTk5OS8wMi8yMi1yZGYtc3ludGF4LW5zIyI+PHJkZjpEZXNjcmlwdGlvbiByZGY6YWJvdXQ9InV1aWQ6ZmFmNWJkZDUtYmEzZC0xMWRhLWFkMzEtZDMzZDc1MTgyZjFiIiB4bWxuczpkYz0iaHR0cDovL3B1cmwub3JnL2RjL2VsZW1lbnRzLzEuMS8iLz48cmRmOkRlc2NyaXB0aW9uIHJkZjphYm91dD0idXVpZDpmYWY1YmRkNS1iYTNkLTExZGEtYWQzMS1kMzNkNzUxODJmMWIiIHhtbG5zOnhtcD0iaHR0cDovL25zLmFkb2JlLmNvbS94YXAvMS4wLyI+PHhtcDpDcmVhdGVEYXRlPjIwMjMtMDctMzFUMDc6Mzg6MDIuMzIwPC94bXA6Q3JlYXRlRGF0ZT48L3JkZjpEZXNjcmlwdGlvbj48cmRmOkRlc2NyaXB0aW9uIHJkZjphYm91dD0idXVpZDpmYWY1YmRkNS1iYTNkLTExZGEtYWQzMS1kMzNkNzUxODJmMWIiIHhtbG5zOmRjPSJodHRwOi8vcHVybC5vcmcvZGMvZWxlbWVudHMvMS4xLyI+PGRjOmNyZWF0b3I+PHJkZjpTZXEgeG1sbnM6cmRmPSJodHRwOi8vd3d3LnczLm9yZy8xOTk5LzAyLzIyLXJkZi1zeW50YXgtbnMjIj48cmRmOmxpPlBDPC9yZGY6bGk+PC9yZGY6U2VxPg0KCQkJPC9kYzpjcmVhdG9yPjwvcmRmOkRlc2NyaXB0aW9uPjwvcmRmOlJERj48L3g6eG1wbWV0YT4NCiAgICAgICAgICAgICAgICAgICAgICAgICAgICAgICAgICAgICAgICAgICAgICAgICAgICAgICAgICAgICAgICAgICAgICAgICAgICAgICAgICAgICAgICAgICAgICAgICAgICAKICAgICAgICAgICAgICAgICAgICAgICAgICAgICAgICAgICAgICAgICAgICAgICAgICAgICAgICAgICAgICAgICAgICAgICAgICAgICAgICAgICAgICAgICAgICAgICAgICAgIAogICAgICAgICAgICAgICAgICAgICAgICAgICAgICAgICAgICAgICAgICAgICAgICAgICAgICAgICAgICAgICAgICAgICAgICAgICAgICAgICAgICAgICAgICAgICAgICAgICAgCiAgICAgICAgICAgICAgICAgICAgICAgICAgICAgICAgICAgICAgICAgICAgICAgICAgICAgICAgICAgICAgICAgICAgICAgICAgICAgICAgICAgICAgICAgICAgICAgICAgICAKICAgICAgICAgICAgICAgICAgICAgICAgICAgICAgICAgICAgICAgICAgICAgICAgICAgICAgICAgICAgICAgICAgICAgICAgICAgICAgICAgICAgICAgICAgICAgICAgICAgIAogICAgICAgICAgICAgICAgICAgICAgICAgICAgICAgICAgICAgICAgICAgICAgICAgICAgICAgICAgICAgICAgICAgICAgICAgICAgICAgICAgICAgICAgICAgICAgICAgICAgCiAgICAgICAgICAgICAgICAgICAgICAgICAgICAgICAgICAgICAgICAgICAgICAgICAgICAgICAgICAgICAgICAgICAgICAgICAgICAgICAgICAgICAgICAgICAgICAgICAgICAKICAgICAgICAgICAgICAgICAgICAgICAgICAgICAgICAgICAgICAgICAgICAgICAgICAgICAgICAgICAgICAgICAgICAgICAgICAgICAgICAgICAgICAgICAgICAgICAgICAgIAogICAgICAgICAgICAgICAgICAgICAgICAgICAgICAgICAgICAgICAgICAgICAgICAgICAgICAgICAgICAgICAgICAgICAgICAgICAgICAgICAgICAgICAgICAgICAgICAgICAgCiAgICAgICAgICAgICAgICAgICAgICAgICAgICAgICAgICAgICAgICAgICAgICAgICAgICAgICAgICAgICAgICAgICAgICAgICAgICAgICAgICAgICAgICAgICAgICAgICAgICAKICAgICAgICAgICAgICAgICAgICAgICAgICAgICAgICAgICAgICAgICAgICAgICAgICAgICAgICAgICAgICAgICAgICAgICAgICAgICAgICAgICAgICAgICAgICAgICAgICAgIAogICAgICAgICAgICAgICAgICAgICAgICAgICAgICAgICAgICAgICAgICAgICAgICAgICAgICAgICAgICAgICAgICAgICAgICAgICAgICAgICAgICAgICAgICAgICAgICAgICAgCiAgICAgICAgICAgICAgICAgICAgICAgICAgICAgICAgICAgICAgICAgICAgICAgICAgICAgICAgICAgICAgICAgICAgICAgICAgICAgICAgICAgICAgICAgICAgICAgICAgICAKICAgICAgICAgICAgICAgICAgICAgICAgICAgICAgICAgICAgICAgICAgICAgICAgICAgICAgICAgICAgICAgICAgICAgICAgICAgICAgICAgICAgICAgICAgICAgICAgICAgIAogICAgICAgICAgICAgICAgICAgICAgICAgICAgICAgICAgICAgICAgICAgICAgICAgICAgICAgICAgICAgICAgICAgICAgICAgICAgICAgICAgICAgICAgICAgICAgICAgICAgCiAgICAgICAgICAgICAgICAgICAgICAgICAgICAgICAgICAgICAgICAgICAgICAgICAgICAgICAgICAgICAgICAgICAgICAgICAgICAgICAgICAgICAgICAgICAgICAgICAgICAKICAgICAgICAgICAgICAgICAgICAgICAgICAgICAgICAgICAgICAgICAgICAgICAgICAgICAgICAgICAgICAgICAgICAgICAgICAgICAgICAgICAgICAgICAgICAgICAgICAgIAogICAgICAgICAgICAgICAgICAgICAgICAgICAgICAgICAgICAgICAgICAgICAgICAgICAgICAgICAgICAgICAgICAgICAgICAgICAgICAgICAgICAgICAgICAgICAgICAgICAgCiAgICAgICAgICAgICAgICAgICAgICAgICAgICAgICAgICAgICAgICAgICAgICAgICAgICAgICAgICAgICAgICAgICAgICAgICAgICAgICAgICAgICAgICAgICAgICAgICAgICAKICAgICAgICAgICAgICAgICAgICAgICAgICAgICAgICAgICAgICAgICAgICAgICAgICAgICAgICAgICAgICAgICAgICAgICAgICAgICAgICAgICAgICAgICAgICAgICAgICAgIAogICAgICAgICAgICAgICAgICAgICAgICAgICAgPD94cGFja2V0IGVuZD0ndyc/Pv/bAEMABwUFBgUEBwYFBggHBwgKEQsKCQkKFQ8QDBEYFRoZGBUYFxseJyEbHSUdFxgiLiIlKCkrLCsaIC8zLyoyJyorKv/bAEMBBwgICgkKFAsLFCocGBwqKioqKioqKioqKioqKioqKioqKioqKioqKioqKioqKioqKioqKioqKioqKioqKioqKv/AABEIAIoCpgMBIgACEQEDEQH/xAAfAAABBQEBAQEBAQAAAAAAAAAAAQIDBAUGBwgJCgv/xAC1EAACAQMDAgQDBQUEBAAAAX0BAgMABBEFEiExQQYTUWEHInEUMoGRoQgjQrHBFVLR8CQzYnKCCQoWFxgZGiUmJygpKjQ1Njc4OTpDREVGR0hJSlNUVVZXWFlaY2RlZmdoaWpzdHV2d3h5eoOEhYaHiImKkpOUlZaXmJmaoqOkpaanqKmqsrO0tba3uLm6wsPExcbHyMnK0tPU1dbX2Nna4eLj5OXm5+jp6vHy8/T19vf4+fr/xAAfAQADAQEBAQEBAQEBAAAAAAAAAQIDBAUGBwgJCgv/xAC1EQACAQIEBAMEBwUEBAABAncAAQIDEQQFITEGEkFRB2FxEyIygQgUQpGhscEJIzNS8BVictEKFiQ04SXxFxgZGiYnKCkqNTY3ODk6Q0RFRkdISUpTVFVWV1hZWmNkZWZnaGlqc3R1dnd4eXqCg4SFhoeIiYqSk5SVlpeYmZqio6Slpqeoqaqys7S1tre4ubrCw8TFxsfIycrS09TV1tfY2dri4+Tl5ufo6ery8/T19vf4+fr/2gAMAwEAAhEDEQA/APpGiiigAorgtE8aXeq+L9S0251zQbEWepvaRadJCTdXMagHcpM45OSOEI+U1ow/ETTpr9IG0/UYrd9RbTPt0saCEXALAJ9/cQSvDBSOQCQcgC1tbr/wP8wel/L+v0Osorl7Xx7p11fWsa2d9HZXly9pa6lIiC3nlXPyj5t4yVYAlQDjg9M2tJ8Ux695sml6devp48wR6m3lCCUocHaN/mEZBAOzBx1xzSvpcOtjeorhPAfjt9Y07Q7PWYLwahqFo80d5LFGkVy0ZG8KFO4Y3d0AOCQT37uqasAUVna42ox6TLLo9xa288QMha6tmmVlAJxhXQg9Oc/hXMaP42urb4f6f4n8VvBJHqP2fZFp1myGEykLg7pGL4JHIwfY0lr+H4g9P67HcUVz9l4tj1CDUBbaRqTXun3At5bArGJSxUMCCX2BSpzksPTrgHJ1jxx9o8A6rq2lW+pWk1m89vcssMEkthJHnczI8oRwMA4Vmzke+E3ZXGkdtRXO33iyDSbbRUltb3ULrVl226W0SbpHEe85BYBcjPfA7nHNY3iPxz5nw3k1/RBqFpGSQ9zHbwTPZlJQrB43lUNkgr8pbrn0NU1Z2FH3reZ3dFYOteK4NF1Gw0/+z76/u7+KSSGK0RDkR7d2S7KF4bOSccYznANL/hYWnTaZp13ptjqGotqFo94ltbpGJI4kwHZt7qowSFwGJJ6ZpX0v/X9aMFqdXRVDQ9Wj17QbPVYIJreG8hWaOOfbvCsMqTtJHIweves2TX7pfiVD4eEcP2STSnvS+0+ZvEqoBnOMYJ7Z96dmpcvX/LX9A3VzoaK5vWvG1no15eW4sL++/s+Bbi/ktEQraRnJBbc6k8AnCBjgdOmXv4xtZNdTStLsrvVLg28d07WzQqscTnCufMkQkcZ+UNj8RSWuwPTf+v6udDRWCfFcMvii40Kw068vriz8r7XLC0KpbeYMqWDyKxGOflVvTrxW9R0uAUVT1iW9t9DvptKSOS9jt3e3SVSVaQKSoIBBwT7iuX0rxvca3feGI9PhhaLUtOk1C/OGYwqoVQq4PXzGI5z900b/ANev+TD+vy/zO0orn7TxPHqGuSaFPY6jpN89q1xA1wsR8yMNtLptZwCCRw4B5HHWs7wTq2qXNv4kj1G6uNWk0zVZra3LJCkrosaEL8oRMkk8nHXqBQtfuv8AjYP6/U7GiuL0HxlGnhnXNX126uzHp+ozQvHPaxpJDggCECJ3DkFgobOWJpmh+K9VvvGfiG3vdPvoLeytLWS306RITNuffnBRiPmwPvPgd9ozR/X4XDv/AF1sdvRXHX/j118P+IZ7HRr1NU0SMmayufJzHmLekjFZdrJjrtbdweM4q1pfiXUtS8EJq0uhX0V09tHII4zbkyFlBLxgzY2jOcOwOB0pPRN9v1HbVLudPRXIaR4whh+Hujaxfz3WpTX6xxQ7bZIpruV8gARhtik4J+9tGCcinSfETT4YlWXTNTW9N+NPaw8qNpkmKF1Bw5XayjhgxHPJABIpqzt/X9ar7yVqrnW0Vl+HtftvEenSXVrDNbmG4ktpoJwu+KRGKsp2sy+/BIwRVPxNr91o2qeHra1jhdNT1EWkxkUkqnlu2VwRg5Udc0uqXf8AUffy/Q6CisfWvEcOj3tnYx2d3qN/eh2htLQJvKIAWcl2VQoyo5bJLDGazf8AhYWmS2ekSWNpe3lzq7SJb2SLHHMGi/1qt5jqoKkYI3Zz0yOaAOqorA1HxbHp99p+n/2XfXOp38LTJYxNAJEVcbss8ioSMgYVj3IyBmt1GLxqzIyEgEq2Mr7HGR+VADqKK4tfGd8fiKNKMNt/Yz3DWCT7W8w3SwiYjOdu3BZcYzkdaOtg6XO0orDsvFEWp6xPZaZp17dwW07W89+nlCCORRll+Zw7Y4BKqRn6HBpnimPWdSmg0zTb64s4Z3t31IeUsHmJ94AFxI2G+XIQjPfHNC1A3KK5mz8d6Zero5igux/a91cWsG5F+Vod+4t83AOw4xnt0qDRPiNpeu3GlpbWeoRRaqsv2W4miURs8ed8fDE7gAT0wcEA5BANw2Otorn7bxfbSa42lX9he6XMbZ7qJ7wRhJokIDMCjsVxkHDBTg9OtQQeN4rjQLrXIdE1ZtMgt2uYrjZD/pUa9408zfyPmG5V4/AUX0v/AF/WgdbHT0Vj2/iaxu9atNNs1lnkurL7cJYwDHHESApY5yCxPAAOdp9K2KBXuFFc54v1nUtKbRrfR2tY5tS1BbRpLqFpVjUo7ZCq6En5R3rJ0z4hlLZIdbtGlvH1WfS4pNOTMdw8algyhmyoONuCThgcnHIFr/Xp/mhvT+vX/Jnc0VysPxAsLq1szZ6dqNxfXc80CaaiRidGhJEu4s4jAXA5385GM5qQeO9Mm07S7jT7e7v7jVS4trKBFExKZ8zdvZVXYQQcsBngZ4oA6aiuR8Y+I73StCsbqO31HTfPuYFmmSG3n+z7pFXy3Uyj727buTdjk1o6t4ph03XLfRrfT7zUtQnga4EFq0KlY1YLuJlkQHk9ASeOgoA3aK5XxZr91peqaBbxfbbSG81CGGS4jggljl3bv3DbpA6ZxneqnGO/Spta8bWejXl5biwv77+z4FuL+S0RCtpGckFtzqTwCcIGOB06ZOlw62OkorkNU+JGlaZcXifY9Qu4bG3hurm5t40MUcMv3Xyzgn6AFvQHBrrlYOoZTkEZB9aAFopsjFInYdVUkV5r4J+Iuq6/cac99LpV3bXNpPPeiwidG0soflEpMjj5gDgEKeCecUf1/X3AemUVzOk+OtO1W4hRrW8sYrq2e7s7i8RFS6hXG51wxKjBU4cKcEHHXFrQ/E669bG8ttK1CLT2jMsF5Mse24XPBRFcycjkbkGRQBuUVz9j4lXVtWu9Bms9R0XUVtBcJ54hZjGxKeYhRpFyGHRvbg81neCL7VNY0nX7bUdWuJZrTVrmygvPKhWVETAU4CBCwznlce1H+V/xsD0++34XOxorlfh7qmoaroN4+rXj3s1vqd1arM6IjMkchVchFVc4HYCuqo6XAKKKKACiuD8GeM7vxHqU0d5rWhJJHdXMI0mGEi6Kxuyq2TMewBPyf41o+GPEetar4r1zTNbsLWxSyjtpbeKKQySKsofiRvulvk6KMDOMt1oWqT+Yd/I6uiiigAooooAKKKKACiiigAooooAKKKKACiiigAooooAKKKjNzArENNGCDgguOKAOa0Xwxq2ha1qU9pq9k9jqWoPfTW8unuZVLBQVWQTADhRyUNYPhrwlqWoPP/bE/wBm0228Q3N/FZGzZJZmErGNjIzYKZO4AIM4HNehfarf/nvF/wB9ij7Vb/8APeL/AL7FC0t5K35f5A9U/P8A4P8Amcfpvw9axbTbOXVBNo2k3jXljaLblJVclioeXeQ6rvbA2gnjJODm/wCG/DGoeG7UaXb6rbz6NEZPIgks2+0RqxJCmUSbSAT/AHM4/Ouh+1W//PeL/vsUfarf/nvF/wB9ijpb+v689w63OU0fwF/ZU/hiT+0vN/sC2nt8eRt8/wAwAZ+8duMdOc12FRfarf8A57xf99ij7Vb/APPeL/vsU73ALqD7TZzQbtvmxsm7GcZGM1yz+BN3gHSPDX9o4/s2S2f7T5H+s8lw2Nu7jO3HU4966n7Vb/8APeL/AL7FH2q3/wCe8X/fYpdb+n4bBv8Aj+Ji+L/DJ8U6bbWouYohBcpcGO5tzPBPtz8kke5d65IOM9QKwYvhvc2XgnVvDmmataW8OrTzSTOdO+WNJVAKRosihcEcdQBxjvXcfarf/nvF/wB9ij7Vb/8APeL/AL7FKys13/4H+QdU+39fqc9H4Vu5Ljw3cahqUMs2hvIcwWhjWdWiMYGDI20gHJOTnHQVkXfw6vpfh/L4UtNbt4oLmWaS4nlsGdiHl8wBQJVC4zjJ3Z9q7j7Vb/8APeL/AL7FH2q3/wCe8X/fYpvV3YLS1un9fqYbeG7q51rSdU1DUIZLjT7a4gcQWpjSXzdvIBdiuAvTJzntXnur+DrjRX0LSHkvZbKx0ueA30FhdzLMzygtGY7SRXXgD77FT6ZBr177Vb/894v++xR9qt/+e8X/AH2KX9fn/mwWit/XT/IzfCkl7L4S0xtU0+PTbr7OoktIxhYsDAAGTtGAOM5HQ9Koar4Z1K48ZQeItH1W1tJ47FrJorqxadWUuH3fLKhByAO9dD9qt/8AnvF/32KPtVv/AM94v++xVN3lzCWiscnqfga7vb3VJrXWI7RNcto7fVU+xlzJtUoWiPmDyyVJHIcDg465h8T/AA6TxHDbWYm062tLaOKKGb+zi97AqEH93ceaNp4/uH3zXZfarf8A57xf99ij7Vb/APPeL/vsUth/1/X3HJeJPAbeJdbtry5n02FLaeGWOePTT9uURsG2i48zgE5/g6HpnmuyqL7Vb/8APeL/AL7FH2q3/wCe8X/fYo2Vg63Ja4zw38PE8O3GuSJqcjjUg8dr5UXlNYxM8j7EbJzhpSc8dBXXfarf/nvF/wB9ij7Vb/8APeL/AL7FK1x3OF8M/DJvDOrQana32nrdQac9iv2fS/JSQnaVlkxIWd8qdxLfNkY24JOn4b8L614fl1iR9asLk6ncSXnGmunlzsFGf9ecoAv3eCc/eFdP9qt/+e8X/fYo+1W//PeL/vsVV3/Xrf8AMRw0Xw4vpPD2u6TqWuW8serXT3yyW9g0TQXBdXB5lYMgKj5eD70+7+Hd9qX9uzajr6yXWswW8MjQ2flxIImY7dnmEsjKdrKWyfm5wQB232q3/wCe8X/fYo+1W/8Az3i/77FLpYDkND+HNtpMHiCGSe3EWuwrFNBYWa2sUOEZD5ahmwCGzzk5ycnNaOm6HruneE00gaxp8s0EKQQXLaa4AjVQvzoJvmYgdQVHtW99qt/+e8X/AH2KPtVv/wA94v8AvsUPVNPqC0OMs/h9d2/g3StFl1mF7jRbiO4067jsioQp2kQyHfkFgcFevGCM1PF4Cc38GpXmqCbUP7WXUrmRLcpHIViMSxohclAFI5JY5B9eOs+1W/8Az3i/77FH2q3/AOe8X/fYp3d7/wBdP8kKytb+uv8AmzK8M+Hf+Ect9Qi+1faftuoT3ufL2bPMbO3qc49e/pUPirw5c6/JpM9hfxWVxpd6LuNprYzo52Mu0qHQ/wAWevatv7Vb/wDPeL/vsUfarf8A57xf99il28rfhsPv53/Hc5y98Mard6hpmsJq9nFrViksLTDT2NvNFJglTEZtwIKqQQ/Y8YOBTuPh8D4UtdChl0y6hjaSWeTV9MN2ZJZCS0iASIIzlm6ZxkenPX/arf8A57xf99ij7Vb/APPeL/vsUmk1Yd9bnF6l8OmvfB2n+HFutNuLazs/swn1PTDczKdu3fGwlTyzjpwcYHPFdfpdgNL0ez09JpZ1tYEhEszZdwqgZY9ycVL9qt/+e8X/AH2KPtVv/wA94v8AvsVV3r5k20S7EtcH/wAKutxbRSrqt1/aiar/AGobrzJfJaTzd5/0fzNgypKZ645rt/tVv/z3i/77FH2q3/57xf8AfYpLR3Q91YwNI8N6hoWq3Z03VYDpd5ePeSWlxZs8qM/LhJRIAAW5GUOMmjQfDeo+HruaGx1W3k0eW6luRazWbNNGZCWZVlEgGN5JGUJwcZ71v/arf/nvF/32KPtVv/z3i/77FC0B6nFab8Obmw1PSpW1wS2Wk3txdWtsLMKxE3mbld953EFxggKMA5ByCNzwz4YPhzwXB4fF88xhjkT7VGnlt8zMcgZOCN3r2rZ+1W//AD3i/wC+xR9qt/8AnvF/32KVtOUd3e5wfh34VQ6LqdveXF5aSmLT5bCUWmni3Nyr7f3kj72ZpODlicHIwBzna0TSb/wpoYstR1KPUtHsrfyYYo9Mka52DhQxR28zC8YWMZ68V0X2q3/57xf99ij7Vb/894v++xTf9fj/AJsXW/8AX9aHG/DLwzNomjz3l6JxNePtt47lAslvaISIImHYhTkg8gtg8iu3qL7Vb/8APeL/AL7FH2q3/wCe8X/fYpgY/ijwtbeKf7Mjv/Ke3sb1bqSCaASpOAjLsIJx/FnPPTpTNR8J211eeH5LForC30S5M8dtDAAjAxsm0AEBR82eh6dK2/tVv/z3i/77FH2q3/57xf8AfYpf53B6/kc54v8ABMHim9029P2H7Tp5kCpqFiLuCRHGGVoyy85CkEMMY75qOXwXLGui3Gk3VhpmoaT5qp9m07baOkv318gSAjJAPD9RnnNdP9qt/wDnvF/32KPtVv8A894v++xRsG5zXinwxrPifQrfTm1mxttskc08g0528x43V12jzhtXK8glj7ioPFngq78X6bHZ6jcaK/8Ao5jeeXR2kljdvvPCxm/ddsD5uRyT0rrPtVv/AM94v++xR9qt/wDnvF/32KA2dzlvEXhDU9Xj0aCx1q3toNInhuY/tVk1xJLLGCAXcSoCCDyMZz3pmp+Bru9vdUmtdYjtE1y2jt9VT7GXMm1ShaI+YPLJUkchwODjrnrPtVv/AM94v++xR9qt/wDnvF/32KN9wWlrHH6j8OYryz1+1t9QNvDq9hbWMamHf9nWEMAc7huyG9uneuyhj8qFI852KFz64FN+1W//AD3i/wC+xR9qt/8AnvF/32KOtw/r+vuHuu+NlzjcCM1xGk/DWPSodGjXUvM+w2M+n3f+j7ftsEhLBT83y7WOR97qfWu0+1W//PeL/vsUfarf/nvF/wB9ilZf18/82Bx3hn4c2/h6M27po00Atmtlng0gQXjIRj55xIdx28EhRk81b0vwrq1h4Zk8Py69HJp62b2lrLFZtFdQjG1GMgkKsVXjhFzgHium+1W//PeL/vsUfarf/nvF/wB9im9U0+v9fqC0d0cV4Z+HDeGNWfU7K706K6OnfYVS10vyYchgVlZRIWZuPmy2T6jFXvDXhbW/D0erD+2rC4bUbmW8U/2Y6CKaQgnjzzuQY+7wf9qun+1W/wDz3i/77FH2q3/57xf99ind/wBfeKySt/XY5/wd4a1Hwxb3lveapa30Nzcy3QEVk0DLJI5ZuTK4K88DAPua6WovtVv/AM94v++xR9qt/wDnvF/32KQyWiovtVv/AM94v++xR9qt/wDnvF/32KAMrwt4e/4RnSJbH7V9p8y7nud/l7MeZIX24yemcZ7+1UNH8Na1YeL77W7zWbC5XUI4o7iCLTXiOIwwTaxnbBy/OQc44xXSfarf/nvF/wB9ij7Vb/8APeL/AL7FC0Dv5ktFRfarf/nvF/32KPtVv/z3i/77FAEtFRfarf8A57xf99ij7Vb/APPeL/vsUAS0VF9qt/8AnvF/32KPtVv/AM94v++xQBLRSAhlBUggjII70tABRRRQAUUUUAFFFFABRRRQAVXb7x+tWKrt94/WgBKKKKACiiigAormdE1TW7nxnqllrC20EEVnBNb20Db9m55ASzkDLHYOAMDgDPJPTUdLg9HYKKKKACiiigAooqlrWof2ToN/qPl+Z9jtpJ9mcbtqlsfpSbsrjSbdkXaK5bTJtX0/WdNg1TU5NRTU7Z3cPFGgt5kCtiPYoOwhmGGLEbV565TxmNSt7ZZtJ12+tLy6kS1s7WKO3MTStnDNviZsAZZsHopxim9HYS1VzqqK4rXLrXLS/htUn1+S2tbFZLi90y1tT5j5IZm85SCQFzsiBPzdOlP12+1KPR5dcsfEAisUto302OCKOQ38jDKiTcmTvYqoWMqeTzyMAdbHZUVyHiW51yws7nVTqosViWNbDT4Ujk+1zED93IXQsSz/ACARsOOc56Q6lqusvHr+q297JaQ6EcLYrHGyXOyJZZN7FS3O7aNrLjGeaA3t5na0Vw+oazq72uua7a30lvbaNJiOwWONkuUSNZJC5K7wx3MBtZQMA88124O5QR3Gadna4ri0UUUhhRRRQAUUUUAFFFFABRXExavq4t7fxBJfyG1uNUFmdN8uMxpE0/kKwbaH352uSWI5Ix0xd8W63LZanpumQ31xYC6WWaSe0tvtE5WPaNkcex8sS4JOxsKrcDqDp/XqB1NFcFd+IJEh0dJ/Fq2WmTrOZdZaCKGR5EYBIG81THG+CxYFQSYyAq8gRyeKr6/sNJxfXNlFJcXcVxPp9os1zJ5LlFKwlHO1urEIdpwOAc0Aeg0V56/im9uotHs59Ums2ltJLq4uNMtlup59r+WqpGqSD1ZyFO0gDjNaV7dapPoFpfWmvzNYpblnu9MsBNc3MucIPKKOAvXdgA7v7gBFHS/9f1oC1dv6/rU7CivPp/Fl1fS2FvPqs+mEaZFe3DaPai9eV5CwwoEcuI12NltvVlG4d+30uf7TpNrP9rhvfMiVvtMC7UmyPvKMnAPXqadgLVFFYOu3N7LrWmaNp95JYfa0mnmuoURpFSMKNqh1ZQS0i8lTwD3OQgN6isPQtTuH0O7bUmM8+nzzQSShQpmEZOHwOASuCcYGc4AFYfhbXJ9XuLKa48RXBmv4Gl+xNYBbb5l3BbeYxjeyAjPzyZw2QOxvt/XYNtzuKK4mM67B4mvI7DXb/VLfS7RnuLe6itgJ7h1JjiBjiUjA+Y8/xJ71U0fxbJ9os0i8RRa5Le2srzxskcaWMyR7wp2qDGPvArIS3y5yNrZV1a/9f1oPrY9BorhvCGvX91qECX+pz3Szaebm5W9t44BDKCufIwq+ZF8zZcGReE+fnmJ/Gep28/ia9lEQtLSwtrnT4JQEC+Y0qh5G64bYrH0XA65zTVhLX+v67nfUVzHhe+ea9mt5fEN3qciwqzw32ni1cHOPMi+RN0Z6dH7fN69PSFe4UUVV1O8/s7Sbu92b/s0Dy7c43bVJx+lJtJXZSTbsi1RXKaXc6xY6npA1TUpL9NXhcyRNDGq20oQSARlVB2Y3jDFjwvPXMHiTX5E8SnSl1S90yG3tFuZG0+y+1Tyl2ZR8vlyYRdh3Hb1ZRkd29HYS95XR2VFchqlzqX9jf2u3iiG00yCxSVLqyhjb7XMc8srq42H5AqodxLEZ6U3xT4k1Ww8HrJZxpa6w1kLqcMu9bUADdwcgncdqg+552mnbWwHY0Vy3jPX73TLEQ6O6LdqYpZ5GUMIYjKqdP7zEkDPYMf4aZ4qn1nTobzU01cWkUOxdOsoY43+2ynpHJvQtln+UCNgcc5z0QbnWUVyfizxBqFjJp9vpW2J/ttot9Iyhtkcsyp5Y7bmyeewB6Eg11lPpf5f194BRTJZPKheQjIRS2PXFcfpGqauo8PanqF/JcRa8dslkY4wlqXiaVNhVQxwE2nczZzniktQOzorjvE2vyReJo9ITU73TY4rQXcr6fZfariXczKoCeXJhBtJZtvUoMjPMWp6nrE8elrpdzql9A9k0817odvbATNlQp/0jKAY3HapLcjtmj+vz/wAhtWdv6/rU7aiuQjv7zxBfW1jouu3Nvax6ZHdm+SCIzXDOzKu5XjKrjy2LAIpyQPlwQcoeK7y+nsjqeuR+HUfT0lhRI4z9uud7LIgMituClVwiYc+Z16UPTf8Ar+rC/r8v8z0SiuHn1fVtQ8Kw+JX1caLZnToriKGCJJGlnYZKOJEJK52qqoVY5POcYTV9W1z7cHmTXdPs4LGGa5fS7e2dInbcZNxmVmfaAOIgxGDkcrTas2n0D+vy/wAzuaKjgljnto5oZBLHIgZJAchwRkH8akPApPTcFqFFcVperau9vomuXN/JLbaxOI308xRiO3SQMYyjBd5YYUHcxByxAHAFrxVrcttrVjpUV/daeksElzLNZWv2m4cKVUJHHsfPLZY7DgL2zkH9fr+QPT+vkdXRXJT3GpXOgWN3aeIJWsEidri+0+x8y7nbcFRRD5bgdW34UEMvAUZAoTa14g1DTdDa3TUy81m814+ix2zESAqApafMY/jyoJbPTIBo/r+vuA7yiuOg1C88RXtvY6Nrt1b20WmpdNfLBCZp3d2RQyvHtXHlvuARTkgfLggodR1XU/DdvrN5rSaBYx2XmXEtskbOZwSGz5qMojGOAPmJPUY5HpuNau39f1qdlRXATeI9Re8sU1zWF8Ms+mQ3EcIijzeXLE74/wB4rZ24UeWmH+fr0rrfD2qNrfhrTtTeMRPeW0czIOillBIp238v+D/kI2l+6PpS0i/dH0paQBRRRQAUUUUAFFFFABRRRQAVXb7x+tWKrt94/WgBKKKKACiiigDNh0jyvE13q/n5+0WsVv5Wz7uxnbdnPOfM6Y7VpUUUB1uFFFFABRRRQAVBe2cOoWFxZ3Sb4LiJopF9VYYI/I1PRSaurMabTujndO8OajbXUNxqGrQ3sljatbWB+xmPZuxl5fnPmNhFGV2D73AzxfutIa91jSr+4nU/2eJG8sR8PI6bA45+XALjHP3uvrp0VV7iMTVNI1a4vpZ9J1v7FHcQiGaKa3M4XGcPF86hHwxySGBwvHHOW/g/U4NXtrnS9VsUtLC2S3sLW9095xahV2l1KzoC7DjcRkDgYyc9fRSWgHLXnhzXLjxINXi1jTWMUYS2hutMklFscYdkxOoDNk8kZxxnGcuv/CdxdTX8cGoxQWGrFW1GA2pZpCFCMY33jZuRQDlW6cYrp6KNgOYvvCEtzNfwW2oRwaTqjrJfWjW293ICqwSTeAisqKCCrdyCCeOn6dKKKOlgCiiigAooooAKKKKACiiigDmIvCM0dzHbnUI20aG9N9HZ/Zj5gk3mQKZS5BQSEsBsB4Azgc3b/R7+5mtr62v7eDU7XzUjma1Z4midgSjR+YCeFTkMOVz0JWtqijpYOtznbfw/q2naeqaVrUUd3JPLPdSXFl5kUzyHJIQOrLg/d+c8ddx5qFPCE9gunT6NqSw6hZxzRvPd2/nJcCZxJIWRXQhi6hgQwA5GD26iigDl7fwldaZFbTaNqkcWooJRcT3Vr5sdx5j+Y5MauhU7ySuG4BIOeoW38LajpVpbpoWt+TMqy/aPtduZopmkkMjSCNXTa25mwQcYOCDgEdPRQBzEHhG40iOE+G9TS1uFtxbzyXlt9oWYBmcNtV0w+53OQcfMRt6Y2tG0uLRdGtdOt3eSO3jCB5Mbm9ScYGSeeKu0UAFZOs6PPf3Vnfaddx2eoWRcRSzQGaNkcYdGQMpIOFPDAgqO2QdaigDI0vRZNOsFtXuI7gTNLLes0JBnkkOSVw3yDJIwd3GBnjJo2Xha6hu9NW91RLmw0klrGFbbZIDsMa+ZJvIfCsRwq5OCa6WijqBmaTo/9mLqBNwZJb67kuXlVNpXdgKOc52qqjPfHTtWYfCl3qUkn/CTaquoR/Y5bSFLe2+z4WQYd3+dgzkADICgc4XnjpqKVla3yHdp3Ry0fg+e9kRfEmpJqFvBavaQRW9u1sdrgBmdhISzFVAyuwcnjpiOP4fWEeo6pcfbdQaPULOO12SXs0rRFWY7w0jtk5YEZHy7Tj7xrraKYvIwtO0K+TW11bW9RhvbqG2a2gFtamBFRmVmLAu5ZiUXnIAx05rdoooAKiubeK8tJra4XfFMjRuvqpGCPyqWik0mrMNjnNM8NX1pd2suoapFerp0DQWCi08soGAG+Q7zvfaoGVCDluORia80XUmvV1HS9StrXUJLdbe6eWzaWKUKSQQgkUqQWbHzHhiCDwRu0U3qC02ONbwTqNvcaZ/Z2sWptNMhC29vqFg04WXJJn+SWMFznA4+XnGMmrOveBrXxDYXP2y7uIdRurdYZri1uZ4omK9D5Il2kZJ4OevU11NFAHK618P9M1azmjjudRtppREGlGo3LBhHtxuTzQGOFxuPOeetF34Y1h/Ea6nZ6xYmOCJYrOG/sJLg23y4ZgwnXLtzliN2OM4znqqKAOV1vwDYa0TKbq9triS7hup2ivbhY5GjZCcRiUKpIQAMOV4I5FdSBtUAZ4GOTmloo6WDzEZQ6FWGVYYI9RXN6X4UnsZ9OiudRjuNO0nd/Z9uLbY8fylF3vvIfahKjCr1ycmulooAwrrRdUa7i1HT9TtbfUjbi3uXksmkhmUEsCI/MDKQS2PnIwxyDwRVh8LahpVrbReHtbNuYrcwyC9tzcRyEsX8wIroFfczcjjBAxwMdPRQHW5zJ8J3Fg1rL4c1GOyuIbT7HJJd232gTIDuDEB0w4Ysc5x8zZB4w+Tw5qVppltpuga0LG0jthbOs9oJn/66IwZdshyclgy5wdvXPR0UdLAclc+ENQTUrCXStUsorLTbdIbKzvbB51gZRjzAVmTL44yQcDOMZObl/oWs3Uk32bX1gjvIViu42tTIFIGGaDMmIiQf4g4yAcdc9DRRvuG2xHbW8VpaxW9uuyKFBGijsoGAPyqSiih67glZWRzGn+Ep7O4sYJdRjl0nTZWmsrQW22RGIYKHk3kMqh2AAVTwuScc3b3R9Qmntr+z1C2t9UhieFpXtGeGSNiCQY/MBBBUEHf69c1tUUBuc1B4Y1DTLW2/sbWRFdI0zXDXNuZYLhpX3u3lK6bSG+6Q3AJBz1psHhbUNKtrddB1swSokgn+2W5nimaRzI0nlq6bX3M2CDjBxg4GOnooA5geErnT/s0vh7U0tLqO1NrNLd2vniddxfeVVkw+9mOQcfO3y9MV7rwZeq+lRaXqlqljpcKrDa39i1wrSg8TNtljBcdsg4OSOenX0UAYd/pniC7gRLbXre2MkHlXONP3DPeSL95lG5/iMg4HHXOpYWUOm6dbWNou2C2iWKNSc4VRgfoKsUUAWF+6PpS0i/dH0paACiiigAooooAKKKKACiiigAooooAKKKKACiimvv8ALbywpfB2hjgE9s0AOorktOuNZsfFFhp+oax/adxdW0k9/bLFGsdnjG1oyqhgpbKAOWLDnPymutoAKKKKACiiigAooqjreo/2RoGoal5fm/Y7aSfZnG7YpbH6Um7K40m3ZF6iuV0ufWNO1rTLfVdTk1JNUtXd1eGNBbzIFbEexQdhDMMMWI2rz1zQ8QeIpf8AhJryw/tq80i30+3jdjY2Iunkd8nfKPLfZEoUc/LklvmGKb0dhLVXO5orgPE3iHUba/ZbfWJIYYdLW6hk061jmS4mJbmbcH8qHCrhiyLgt+844s+JtR16y086vFqBt4kt42traztxPHPLgs/2iQowjh4A3hkAG4lumD+v6+4P6/L/ADO2orz7xN4k1O01i++zanJbR2lrDNaxW8MctvM53FhcylT5KHCgMWiBBJDEg4t6pq2ssniHVrS/ktoNBbEdmkcTR3eyJZXLsylhkPtG1lxjPNAb7HbUVwuo61rD2mu69aX8lva6LJiOwWKJkuUSNJJC5K7wx3MBtZQNqnnnPcqdygjuM07aXFcWiiikMKKKKACiiigAooooAKK4jVdX1hYfEGt21/JBbaFKUSwWOJo7pI0V5C5Zd4Y7mA2soGFJzyK6nVLeS7sP3GqXWl7T5jT2yxFtoByD5iOuO/TPHWjpcOti9RXA2V74kHghtQW91PUZdSu4zZeVbW5uIbVmGD/q1j3MoLZcbV3AHoSYp/E9xa2FvpzarqsF9PfmC5kv7aB7u1URGTbHHAhSRmAG3Af7x6ldoP6/L/MP6/r7j0OiuTtpzeeF5rr/AIS+/SKykkea8FnDDcIijJSZJIiAw68Ihxt47mDT5/Flt4E+2GdL/UbkvOjajsj+xwlSUDCKMCRgAuRhcsx5AFJuyb7DSu0u52dFcLq/iDxFB8N9O1XTfsxlksYZ7u8mPzKWCZ2RhdrElj1IC+h6V3VU1Z2IjJNXCiisDXrq+m1vS9F0+8ksPtiTTzXUKI0ipEFG1Q6soJaReSp4B7nIRRv0VhaDqly+hXbamxnuNOnnt5JQoUzCMnD4HAJXBOMDOcACsLwp4gm1S5srm68RTSS30DTGwlsAlqQV3BYJ9i72QEAnfJkBuB/CXX6/5Bsd1RXn3hXXtV1PULKK71a4kkv7WaS4je3ijit3G3abSTbiZRk8gyjG0kjOGvaa2sJ4q1ER6/qGp6dpUGyeK4gtyZrllDhF8qFD8qFSeTkuB2OR6bjsdnRXnFt4o1LRdIub7Xp9aW+Gmvcw2mqRWkdvKwA3FDEu9dpI+WQhtrZwSDi1F4judM0nVLlNeuNYu7axMy2t/p/2UNJnAeIhELQ5OCfn/h+b1bTTsTdWud7RXNaZLqel+KIdI1LVJtVju7F7lJp4okaJ43RWUeWqjafMUgEEjB5OeOlo6XGFFFVdUvf7N0i8vtm/7NA82zON21ScfpUtqKuxpNuyLVFclpV1rNjqmjjVdTkv01iBzJE0MaLbTBBIBGVUHZjeMMXPC89cweJfEEkfic6Smq32lw29mtzI+nWP2qeUuzKvy+XJhF2Hc23qyjI7t6Owo+8ro7SivPb7xRJcX4tB4lntre20+GdrzSNPFyblpNx8wrsl2RAJnPHLfe450vGHiS+07wmX0S6gnvzafajdxx5iWMYzIBkj5icKCT1J52mnYVzsKK4TxF4iubLXdQin8QLo5tLZJdPsvJjY6kxUk53qWkG4bNkRVh6/MtO1641e807TLvQ/EGoWN7rXlLaWixWzww7k3u7boS5CqGYjdyeARkUlrt/X9f8ADj2/r+u53NFcPqWp60sPiDU7bUpYYfD52paiKIrebIUlkMhK7hu3bRsK4xnmu2jcSxJIvAZQwz70dLh/X+Y6imSyeVC8hGQilseuBXG6RqusKPDup6hfyXEWvnbJZGKIR2heJpU8tlUMcBNp3M2c54oWrA7WiuM8T+IJIvFEejpqd7pkUVmLuV9OsvtVxLuZlUBPLkwi7SWbZ1KDIzzNez6hNosOpN4rhstJhsRM+pWUUW64k/vFZFdVTGOAcknGRjlX0v8A11/yHZ3t/X9anW0VxmoXviGXw3Zanc3NzpIFiss8GnWX2m4e5YDCFCj4jHOcc5PLKAcx61d6vP4UsNWstcubXUb6GCGCzsDbSW8lxJ33vE7FQSSSG+6px7tpr8v6/rsJa2O3orj5P7fu9QudMt9clt5NJsIXa5S3hP224cNkyKyEKnyDhNp+Y8jArLufEur6mltqMY1+x0ttLt7yWXTLa1dYy4ZnLGdWZ9oC/LEGI5yOVo/r8/8AIFqv68v8z0Sio7eWOe2imhkEsciBkkByHBGQfxqQnAoem4LUKK4jStX1h7fQ9eutQkmttZnEb6eYohHbpIrGMowUOWG1QdzEHcxAHAFrxXrktrrljpMWoXWnJLBJcyzWNr9puHClVCRx7JM8vljsOAvbOQf1+v5A9P6+R1tFchcXOpXXh+xu7TxDM2npE7XF/p9gJbud9wVFEPluB1bfhQQy8BRkBkd5rGp+GbLVb7XodEs47EzXlxaCJ384cEHzFdFQAHIHO7jIxyPQFqdlRXFWWoa/4imsrF72bQ500mK9unt4Iy7SyMyqu2RXCqNjErjPIG4YOWat4v1JfhsNQsUjj1mawlm4GUgMSEySYOcqCMAHOSyg8Zol7qbY4rmaSO4orkPFGta9p+gWF3pi2yxu9qLq5lbL/vJUQqke3GTu5YkY7A9uvptWbRKd1cKKKKQwooooAKKKKACiiigAooooAKKKTcPUfnQAtFJuX1H50bl9R+dAC02UO0LiJgkhUhWZdwU9iRkZ+maXcvqPzo3L6j86NwOZ8MeHNZ0GVvtmr6ffrOxkuphp0kdxcPjhmkM7DjgABcADAAGK6ek3L6j86Ny+o/OgBaKTcvqPzo3L6j86AFopNy+o/OjcvqPzoAWoL2zh1HT7iyu03wXMTRSr/eVhgj8jU25fUfnRuX1H50mk1ZjTad0c5pvhvUba7hudR1aG9ksbVrawP2Mx7N2MvL+8PmNhFGV2D73AzxJqGganJeTXWk6tBZS3kCw3glszMrlQQHjHmLsbDEc7xwvHBzv7l9R+dG5fUfnTeu4lpscp/wAIZc6bGI/DGrJp8bWEVhKLm1+0nZEpVHQ712uAxySGU8fLwcvl8I3lvYjTdD1prPTHs47OS3uIDcMiIuzdExcBGK8HKuMgHHXPUbl9R+dG5fUfnQ9b36/1+oLTY5O58FXEa3ltomqJYWOowxw3cUlr50m1IxFmJ94CEooHzK4yAcdcuuvBbsb2007UI7XStSCC+tXtzI77UWM+XJvGzciKpyrdMjBrqty+o/OjcvqPzo63DpY5e/8AB8t1Nf29tqEcGk6pIsl9aNbF3chVVgkm8BFZUUEFG/iIIJ46kcdKTcvqPzo3L6j86OlgFopNy+o/OjcvqPzoAWik3L6j86Ny+o/OgBaKTcvqPzo3L6j86AFopNy+o/OjcvqPzoA5jUfCE95cahDBqMcOlarIst/atbF5HOFVgkm8BFZUUEFW/iIIJ41NX0q61fQtU01r1LcXkbQwyxQkNCjKFOfm+Y53HI29QMcZOnuX1H50bl9R+dHSwdbmdqelTXOn28Ol3r6dNaurwuqloztGNjoCN6EHlcjsQQQDWUPCl2f9Pk1SI659p+0C7FqRCPkMYTyd+dmwnjfnPOe1dNuX1H50bl9R+dAeRzEng+S50DVbK81BZLrWJ1lvZ0t9sbAbFKLHuJCmNAvLE8knPSujuoPtNlNbg7PMjZM4zjIx0qTcvqPzo3L6j86TV1ZjTs7mFc+GPtHgSPw59r27LWK3+0eVnOzbztz329M963qTcvqPzo3L6j86ptt3ZKSSshayNa0ae/urK/027js9Qsi4ilmgM0bI4AdGQMpIOFPDAgqOoyDrbl9R+dG5fUfnSGZOlaJJpunravcx3CzPLLfO0JBnkkO4lcN8i5JGDu4wM8ZObB4PuDJYQalqiXWm6WGFnAlsY5eYzGPMk3kPhGYfKqZOCa6jcvqPzo3L6j86NwOY0vwld2l3pX9oarHeWWiqwsIUtPKkB2GNWlfeQ5CFh8qoCWJx0xoab4fFjpF/ZSXcryX1xcTSXEOYpFMrEjaQSQVUhQc/wjp0rX3L6j86Ny+o/Oh67gtNjmD4RutRVo/E2rLqEaWr21v5FsYGUOAGkcl23SYUYICgc/Lzwk3g6fV5Jm8T6ml9uspLKIWlsbbYkhUuxy77n+RcEbQMfd5rqNy+o/OjcvqPzoDYw9K0K+g1b+09c1GHULuO2+ywNBaeQqIWDMSC7ksxVcnIHyjAHOd2k3L6j86Ny+o/OgBaiuraK8s5ra4XfDNG0ci+qkYI/I1JuX1H50bl9R+dJpNWYJ21Oc0vwzfWl5aTajqsV6um27QWCi08soGAG+U7zvfaoGVCDluORia80TU2vl1HStTtbTUJLZLe6eayaWKUKSVIQSKVILNj5iMMQQeCN3cvqPzo3L6j86b13BabHLQeDrrSLaOPw3qyWrG1S2uHvLX7R5oXcQ4Cum1/nb1Xp8vFV9Q+GekXfh9tOtri/tZPscdms6304BVBhS8aOqP1PUdzXY7l9R+dG5fUfnQBz+q+H9TvLY2FjrhtdNlgW3nilgM8wQcMY5i4IZlOCzhznke9w6En9v6fqCS7YbC0ktorbbwC5T5857BMdP4jzWpuX1H50bl9R+dHW/8AX9agczqXhGe8utRS11GO307V2VtRtmti7yEKEby33gJuRVU5VumRiumVQqhVGABgAdqNy+o/OjcvqPzo6WAGUOhVhlWGCPUVzOleEp7CfTornUY7nTtI3f2dbi12SR/KUXzJN5D7UYqMKvXJya6bcvqPzo3L6j86AMK70TVWvItR0/VLS21M24t7l5LFpIZlBLAiPzQykEtj5yMM2QeCMmXwPqEX9lRadrFqbTTULJb6hYNOrzlixnOyWMFgT8oIIU8jnGOz3L6j86Ny+o/OgNzDvNJ12R4bmx1yC3vPs/k3Aks3kt3Och0i80bGBJ53NkHBzgYbb+FILT+wYoLlzb6NvZUkUM0zshQOSMAEbmPA78Yre3L6j86Ny+o/OgDA1Xw7e3GqXF7o2qR6e97bLbXfmWxm3Kpba0fzqEcb25IYHjI45gn8KX0MBstD1o2OnSWsdq9vLbmYxIi7MwneojYr1yrjIBx1z025fUfnRuX1H50dLDvrcZbW8VpaxW1uuyKFBGij+FQMAflUlJuX1H50bl9R+dD13JSsrI5jT/CE9ncWMEupRzaRpkzTWVoLXbIjEMFDybyGVA7AAIp4XJOObt9o2oz3FrqFnqNtb6pBE8LSvaNJDJGxBIMfmBgQVBB3+vXNbW5fUfnRuX1H50D3OZt/C2oaZaW39i60IbpGma4a6t2lguGlfzHbylkTaQ33SG4BIOetUZfAuoR/2bHYazbG1sS87W9/YNOk908hkadgksYyGJKrghScjkAjtNy+o/OjcvqPzoA5670DVpLyHUrHVrS21U2v2W5lawZ4Zk3blIj80FSpJx85HzHIPGKmofDnSbzQG06Ke+t5Rp/2FLiO9mQFcNhnjR1WTliSCOcmus3L6j86Ny+o/Ola6t/X9ajTadzEv/DKXfhWDRI7qSNYXt2E0paVj5UiPyWbJzsxkk4z3xW5Sbl9R+dG5fUfnVN3dxLRWQtFFFIAooooAKKKKACiiigAooooAKrt94/WrFV2+8frQAlFFFABRRSNkqdpAOOCRnFAC0VxenQ3uieL7C0vL3UJRdQyJPdXk5eK/uNoceTFvYQ7QJDjCDAwA2MjtKA6hRRRQAUUUUAFFFZ3iC/k0rwzqeoQBTLaWksyBuhKoSM/lSbsrjinJ2Ro0VyOmW82i69o8S6jeXi6naSG6+1XTzB5UCsJEDEhOrAqgVfmHHApPFFjrF3rXm29jcXWnW9oGxDrU1gWfcxYKIvvttC43lV568nDlo7Cj7yujr6K4C+vhf3kN80mv/2bPp0U2knTxPt8wgkmYp/F/q/9d8mM/wC1VFtU1C+09dV1c61FcS6VBc6cNNEot1lMW59+z5M78cTfJtx/tUPS7fT/AIP+Q0rtL+un+Z6bRXnv2m98QWWtapNfXVlcaZaQvaR29y8UcUht1nLOgIEmWcDD7hhcYGTltxfXep6R4h8Qm+uLe40lQ1nDBdOkSbbeOYh0BCvuLkHcDxjGKdtWu2/oJapW67HolFefaldXU+meJPEf265huNHkP2SGK6dIVSOJJCrxg7HLFmBLAnBGMYFegKdyg+ozRbS4rp7f1YWiiikMKKKKACiiigAooooAKK4CK4uk0618TNf3LXc+sC2eH7U/2cwtc+QIxESUBC4O4AMWHXkitLxdeXD65pWkxRalNDPFNcyw6ZN5M03llAE8zcmxf3m4neudoGTnBN1/Xa4HW0VyEOql/DCWWiXN6b2Rpos3zB57MISJC553FOFBJbcSuWYHJh022vtY+H/h28uLrUrpV02KWe2s7kw3F5I0a4Jm8xCMfMSNw3E8njBOjfa343/yA7WivNxfX2pWXh61uLi/1KVYLj7bZ6bdNbXDyRsseWk3RjCHcrAuu4kEBu11Gju/CNhquv8AiC8a1gtzC8dlNNBJLc79nLJskdwRsCbRls5GcYBnd0VwniJ/E9v8OLa4k1FbK6htY2vmSPdNI+VG0OCFTqdxCnPbb1ru6b0JTuFFFc54g8y+8R6RozXM9va3MdxcT/Zrh4ZJPL2BV3oQwGZNxwRnaB0yChnR0Vh+FpppdLurW5ne4+xXk1qkzuWdkVvl3N1LBSASeSRk8msjTNHjPjyX+z77VFs9JjCzJNqtzOs88i5ClZJGGEQg9OS49ORWYd/I7OiuS0iXWYvG+swanfi9I0+3mht4U8uKIl5htUEnJO0ZYnn2AAFDw+up6PcW0et2N4upXto/kudbmu0klVdzK8bkRxMeo2blGGAYDGTpcbVnb+un+Z3lFcFotrq1jIlhqAutP1bULFxb3zatPqEayADcXhkIRHBIYBdy8MN2OsF1fzaHFrj+HL69uraxs/JnuLueW7VbwuANm8sSVBJdV4ztGM5FD0/r+v6aF0v/AF/X/BPRKK5Pww0Fnq72DHXre5e28xYdXu/tAuVVgDMh3vtOWAK5X7w+XpjrKYrhRRVPWLx9P0O+vIgGkt7eSVQ3QlVJH8qmT5U2ykruxcorjdLin0jVtBP9o3d2dWgkF2Li6eVXkEYkEiKxITkMNqbVww44GI/EV1Pe+LpNNNtrN1bWdkk/2fSLk27O0juNzyeZHwojwF3c7idpxkVJWdiYvmV0dtRXnEuqf21e+XC3iHVNPtNOgkjbTpzbSsX37pZWDxbmAQDYMnO75fTQ1swT6LFrH9valcRz2kcekw2czwSTTspIfCFRIzfKdrLtUKSQBupPT+v6/r52a1O3orzi8v7271XUhrKa440mGGOR9FuDDHbsYVkkmYb1805bhMSYCcr83zaHiZD9m/tC31u9nvr1UTQra1meJTJtyCyIdsoJ+Zi67Qo6AZyf1/l94Hb0VxXiW3ubW4+0DVryXWryVE0mztppI4o9oXdujVtsiA7md3HCkDg7c9r9aOgBRTJ5DFbySAZKKWx9BXDaNLc20PhXV3v7m4uNdIW9SS6d4m8yB5QY4ySqbSgA2gcdc0LX+u4f19253lFcV4ku7i78Xrpf2bWLq2trFbo2+k3Jt3kd3Zdzy+ZGAFCcLvyxfODt4z769bVZtMi0661nVrRdMaQxWd01rchy4VZpWBjBxtdduc5B+RuSFf8Ar7/8htWdv61t/mei0Vw908V14W0/Wdc1+7ktvsMaLHpskts9xdNxuXYVdmY4VYyowc5Geiarb3cHh+21DxTq18l2LKKCGy06d4Xe9IOceWw81mO0BSNq7WOMEmm9L+X9f16oS1/r+v6TO5ori/E7+IrfQdJnfUo7QpPZLepbxnfPI0yK6h84VOegGT0yBkGDxNLdQ6zqUt4+uJ5Vqr6SdPEogDhSWMhT5N24DIm+Tbj/AGqJWirvz/AcVc7uiqmlXUl9o1ldzoEknt45XUfwllBI/WrZ4FOS5W0+hMXzJNBRXA6RPdLp/hzxE9/dS3Or3CrdRPdO0JSVWIVIydibCFwVAOFOSckm/wCKrq4n8R2GlJDqdxbm2lupINLnMEszBlVQZd6BVG5jjeMnHXoV5fL8L/kN6b/1rb8zr6K4fUZNOm8CxajFc6xcywZtbaN9Snt5WnaTy1il8p13EPhSxycAnJ6lviTT9b0D4b+Rp+vTBrK1Zrq8m3y3M7ZB+WRm+QElueSBgDHWmB3VFc34p029uoDdQSalcJDAVisNNufsztMTxI0nmJkAfwk45JwxwBzt3f3esf2Qoub/AFYf2R508Wj3D2b+cSFE7fMnyZVxszuzn5Gwds3/AK+//L+tbH9fl/n/AFpf0aivNLq/vtXFmUvL/VGj0SOZ/wCybiS18qdyR58gym5SUOEwzDa37s5rv9HuvtuiWN19ojuvOt0czxjCyEqDuA7A+lVbfy/4P+Qr/wBfd/mai/dH0paRfuj6UtIYUUUUAFFFFABRRRQAUUUUAFV2+8frVioGU7jwevpQA2il2t/dP5UbW/un8qAEpHRZEZHUMrDBBGQRTtrf3T+VG1v7p/KgDA03wlbadd2srX17eRWClbG3uXQx2gI2/LtUMxC/KC5YgZ55Od6l2t/dP5UbW/un8qAEopdrf3T+VG1v7p/KgBKKXa390/lRtb+6fyoASmTQx3FvJBOiyRSKUdGGQwIwQak2t/dP5UbW/un8qNwMHTvC0enTCX+1NQunitzbWjXDRsbSM4yEwg3H5U5feflHPXK6h4XjvrtrmLVNQspZoFt7prV41+0oM43ZQ7T8zfMm0/N14GN3a390/lRtb+6fyoeu4bbGFqPhaK+hS3t9S1DTrQQC2ktbOVRHJEOAuGVinBI3IVbB68DCal4Vg1FfIGo39pYtEsE1hbyIIZo1/gIZSUBHynYVJHXtW9tb+6fyo2t/dP5UAYGpeErTULmZ0vLyzhuo1hvLa2KCO6ReArblJX5SVyhUkcZ4GC+8JWl7eTSi7u7a3utn2yzgKCK62gAb8qWHACnay5AAOa39rf3T+VG1v7p/KgDAvfCVre38832y7gt7t0ku7KEoIbp1wAz5UuOFUEKyghQCDznepdrf3T+VG1v7p/KgBKKXa390/lRtb+6fyoASil2t/dP5UbW/un8qAEopdrf3T+VG1v7p/KgBKKXa390/lRtb+6fyoAwIvCVrFqSzreXn2RLk3aadlBAkxJJcYXf94lsFiu45xwMWL3QftqwudSvIb23dzDexCISornJTBQoVxgYKn7qn7wzWvtb+6fyo2t/dP5UdLB1uc8PA/h+WwW21HTbfU3Bdzc38CTSs7nLvkrgEnnAAA4AAAAqO38EWFhpemWmjXNzpcmmQmGG6tVi8xkYDeHDIyNuKhidudwzxXS7W/un8qNrf3T+VAHO/8IdaQw2n9mX17p1zarIou4GRpJRI26Tf5iMrbmAYnbkHpgcVWfwHbJPp0thq+pWLadE6Q+X5EmXckySnzYn/AHjEnLcHk9MnPV7W/un8qNrf3T+VAGXfaImp+Hn0nULu5nWRAslwdiyPgg5+VQueOygVp0u1v7p/Kja390/lQAlZur6LHqpt5VurixurVy0F1bFN6ZGGGHVlII6gg9j1AI09rf3T+VG1v7p/KgDO03R49KtoILW5nKRl3l37Sbh3O5nc7c5LEn5do56YwA/TtLg0xrtoGkdry5a5lMhB+ZgBgYA4AAA+lXtrf3T+VG1v7p/KjrcDNfQ7SXVLy+m3yNe2qWk0TEbDGpc9MZyfMbPPpVC08HWkIKX17e6nAts1pDBeOhWCJhhlG1VLEgAbnLNgdeTnodrf3T+VG1v7p/Kgd3uc5H4PRYJo5da1WZzata20zyRh7ONuD5ZVB82AvzNub5Rz1yuneEIrHS30u41S+vtNa3NuLOaO3jRFPcGKJGB98989ea6La390/lRtb+6fyoEY2meHVsNR+33Wo3up3awmCKW8MeYoyQSqiNFHJCkkgk4HNbFLtb+6fyo2t/dP5UAJTZY0mieKVQ8bqVZWGQwPUU/a390/lRtb+6fyo3AwdL8Kw6ZcJKNRvrr7PA1vZpcMhW0jOMhMIC33VGX3HC9eTmS+8PG7kiuINVv7K9WEQSXdt5W+dBzhw0bJ1JIIUEZOMAkVtbW/un8qNrf3T+VG4HOt4OtIoIYtIvr7SRHbrbO1o6EzRjOAxkV+Rub5hhvmPNQv4HgTUre80zV9R002totnbxW6wOkMY7L5sTkE4GTnJwM9BXUbW/un8qNrf3T+VAHP33hRL15GGrajbfaIlhvRA0a/bABjL5Q7WwSC0ew4PXhcQv4MC6w+o6frmpae7QJbpHAls6RRIOETzIWKjuRnk/QV021v7p/Kja390/lQBzT+EJP7cutVtvEerW1zdKiPsS1cBVGAq74WKrnJwDjJJ710lLtb+6fyo2t/dP5UdLAIQCMEZBrC03wpbabeQSpeXk0FoGFlZysnlWm7g7MKGOASo3M2ASBit7a390/lRtb+6fyoAxbzw6100E8WsahaX0UXkveweT5kyZzh1aMoeeQQoI5wQCQazeDLSGO3GkX19pMkNv8AZjNaOjPLHkthvMRwTuLHdgNljzzXR7W/un8qNrf3T+VFgOYm8EW/2rT59O1bUdN/s62+z20cAgkVAfvN+9jc7z0LZyR9Tl114QkudWt9T/4SPVo7uC2+zrIqWrcZyzANCQrNxkqBnAHaul2t/dP5UbW/un8qAM2+0aPU9Jhsb65nlEUkMpm+UPI0bq4Jwu3kqM4A6nGKrax4bXWpXE2qajBazoI7mzhkXyrhAeVO5Sy5BIOwqSOtbe1v7p/Kja390/lQA1VVECIAqqMAAcAUtLtb+6fyo2t/dP5UAYFl4StbLUIZkvLyS2tZHltbCRk8m2d85ZcKHPDMAGYgBjgDAxYvdBN4LaVdTvba+t1ZFvoRF5pViCykMhQg4X+HsMYrX2t/dP5UbW/un8qAMSPwvYxWGn2iPP5djdfbAS4LTS/MSzkjnLMW4xzjGBxV3V9Lh1rR7nTrppEhuUMbtGQGA9sgj9KvbW/un8qNrf3T+VAGNqnh5dQvFvLXUbzTLvyfIeez8vdJHnIVvMRhwckEAEZODyary+D7RFt/7Ivb3R5ILYWgks2RmeIHIVvNV8kEk7vvZJ55NdDtb+6fyo2t/dP5Uf1/X9dwObk8FWcaxjSb+/0jbaraSGzdCZolyVDGRW5BZvmGG+Y89K3LKzt9PsYLOziEVvbxrHFGOiqBgCrG1v7p/Kja390/lQBOv3R9KWkX7o+lLQAUUUUAFFFFABRRRQAUUUUAFFFFABRRRQAUUUUAFFFFABRRRQAUUUUAFFFFABRRRQAUUUUAFFFFABRRRQAUUUUAFFFFABRRRQAUUUUAFFFFABRRRQAUUUUAFFFFABRRRQAUUUUAFFFFABRRRQAUUUUAFFFFABRRRQAUUUUAFFFFABRRRQAUUUUAFFFFABRRRQAUUUUAFFFFABRRRQAUUUUAFFFFABRRRQAUUUUAFFFFABRRRQAUUUUAFFFFAH//2Q==)"
      ]
    },
    {
      "cell_type": "markdown",
      "metadata": {
        "id": "4_XGDE5DRB_S"
      },
      "source": [
        "NOTE: These generated during training.\n",
        "\n",
        "**When comparing the RoBERTa base model and the BERT base-uncased model, some key observations can be made:**\n",
        "\n",
        "- Training Loss: Both models show a decreasing trend in training loss from epoch 1 to epoch 3. This suggests that both models are effectively learning from the training data and improving their performance.\n",
        "\n",
        "- Validation Loss: The RoBERTa base model exhibits a consistent decrease in validation loss from epoch 1 to epoch 3. On the other hand, the BERT base-uncased model shows a decrease in validation loss from epoch 1 to epoch 2, followed by a slight increase in epoch 3. This indicates that the RoBERTa model may have better generalization and continues to improve as training progresses, while the BERT model may start to plateau or slightly degrade in later epochs.\n",
        "\n",
        "- Accuracy: The RoBERTa base model achieves higher validation accuracy compared to the BERT base-uncased model across all epochs. This implies that the RoBERTa model has a better overall ability to correctly classify instances in the validation set.\n",
        "\n",
        "- Precision, Recall, and F1-Score: The RoBERTa base model consistently outperforms the BERT base-uncased model in terms of precision, recall, and F1-score across all epochs. This suggests that the RoBERTa model is better at correctly identifying positive instances (precision), capturing true positive instances (recall), and achieving a balance between precision and recall (F1-score) compared to the BERT model.\n",
        "\n",
        "Overall, based on the provided results, the RoBERTa base model demonstrates better performance than the BERT base-uncased model. It achieves lower validation loss, higher accuracy, and better precision, recall, and F1-score."
      ]
    },
    {
      "cell_type": "markdown",
      "metadata": {
        "id": "ZeAdkwhVVBKq"
      },
      "source": [
        "##### Testing result"
      ]
    },
    {
      "cell_type": "markdown",
      "metadata": {
        "id": "XL0vFSBeUSPi"
      },
      "source": [
        "**Model one (bert-base-uncased) testing result as accuracy, precision, recall and F1:**\n",
        "\n",
        "    'test_loss': 0.6754987835884094,\n",
        "    'test_accuracy': 0.7015781922525107,\n",
        "    'test_precision': 0.6492318091432884,\n",
        "    'test_recall': 0.6498228280997836,\n",
        "    'test_f1': 0.6489539417555102,\n",
        "\n",
        "**Model two (roberta-base) testing result as accuracy, precision, recall and F1:**\n",
        "\n",
        "    'test_loss': 0.6856693029403687,\n",
        "    'test_accuracy': 0.6987087517934003,\n",
        "    'test_precision': 0.6423563015453785,\n",
        "    'test_recall': 0.6468585736556138,\n",
        "    'test_f1': 0.6442863387082455,\n",
        "\n",
        "\n",
        "**Comparison between the models:**\n",
        "\n",
        "- Accuracy: The BERT model has a slightly higher accuracy compared to the RoBERTa model (0.702 vs. 0.699).\n",
        "- Precision: The BERT model has a slightly higher precision compared to the RoBERTa model (0.649 vs. 0.642).\n",
        "- Recall: The RoBERTa model has a slightly higher recall compared to the BERT model (0.647 vs. 0.650).\n",
        "- F1-Score: The F1-scores for both models are relatively close, with the BERT model having a slightly higher score (0.649 vs. 0.644).\n",
        "\n",
        "\n",
        "Overall, there is not a significant difference in performance between the two models based on the provided testing results. However, the BERT base-uncased model tends to have slightly higher accuracy, precision, and F1-score, while the RoBERTa base model has a slightly higher recall."
      ]
    },
    {
      "cell_type": "markdown",
      "metadata": {
        "id": "dSfNlyl4WpsD"
      },
      "source": [
        "#### Error of Analysis:"
      ]
    },
    {
      "cell_type": "code",
      "execution_count": null,
      "metadata": {
        "id": "eYbuCxlVLFgF"
      },
      "outputs": [],
      "source": [
        "# I generated this files during getting testing result from function for further use\n",
        "bert_pred_df = pd.read_csv(directory_path+\"bert-base-uncased_result.csv\")\n",
        "roberta__pred_df = pd.read_csv(directory_path+\"roberta-base_result.csv\")"
      ]
    },
    {
      "cell_type": "code",
      "execution_count": null,
      "metadata": {
        "id": "3u0jfybXTc3a"
      },
      "outputs": [],
      "source": [
        "# Identify Incorrect Predictions\n",
        "bert_misclass = bert_pred_df[bert_pred_df['label_ids']!=bert_pred_df['pred_from_bert-base-uncased']]\n",
        "bert_misclass"
      ]
    },
    {
      "cell_type": "markdown",
      "metadata": {
        "id": "ibbHyQNTfWAc"
      },
      "source": [
        "**Observations**\n",
        "\n",
        "Bert model misclassified 624 out of 2091 total test samples. Percentage of the error is 29.8 %."
      ]
    },
    {
      "cell_type": "code",
      "execution_count": null,
      "metadata": {
        "id": "kRAeJWADenbz"
      },
      "outputs": [],
      "source": [
        "# Identify Incorrect Predictions\n",
        "roberta_misclass = roberta__pred_df[roberta__pred_df['label_ids']!=roberta__pred_df['pred_from_roberta-base']]\n",
        "roberta_misclass"
      ]
    },
    {
      "cell_type": "markdown",
      "metadata": {
        "id": "_Hx4b8lJgOkp"
      },
      "source": [
        "**Observations**\n",
        "\n",
        "Roberta model misclassified 630 out of 2091 total test samples. Percentage of the error is 30.1 %. 6 false predictions than Bert model."
      ]
    },
    {
      "cell_type": "markdown",
      "metadata": {
        "id": "SxnrOstepwjy"
      },
      "source": [
        "##### BERT (error of analysis)"
      ]
    },
    {
      "cell_type": "code",
      "execution_count": null,
      "metadata": {
        "id": "BU2FCZZPodej"
      },
      "outputs": [],
      "source": [
        "predicted_labels = bert_misclass['pred_from_bert-base-uncased']\n",
        "true_labels = bert_misclass['label_ids']\n",
        "\n",
        "cal_fp_fn(predicted_labels, true_labels)"
      ]
    },
    {
      "cell_type": "markdown",
      "metadata": {
        "id": "SXzm-gVQmG-a"
      },
      "source": [
        "- The model is baised to do worng predictions with entailment label. The reason can be that entailment label is the highest frequency for all data so model baised towards majority class which can introduce imbalance data problem."
      ]
    },
    {
      "cell_type": "code",
      "execution_count": null,
      "metadata": {
        "id": "Fwfk7tE-qj1_"
      },
      "outputs": [],
      "source": [
        "visualize_label(bert_misclass,\"testing\")"
      ]
    },
    {
      "cell_type": "markdown",
      "metadata": {
        "id": "Lif5oo0XrT2i"
      },
      "source": [
        "**Observations:**\n",
        "\n",
        "The model is not good at predicting no mentioned. It can be for not mentioned means I want to make sure it's not contradiction or entailment. I thik the model take much time while traing. I can say it like happens for us when you classify and some thing like unkown or not mentioned maybe difficult."
      ]
    },
    {
      "cell_type": "code",
      "execution_count": null,
      "metadata": {
        "id": "xiloYMNbhXmD"
      },
      "outputs": [],
      "source": [
        "get_stats(bert_misclass,\"testing\", \"text\",\"document\")\n",
        "get_stats(bert_misclass,\"testing\", \"hypothesis\",\"hypothesis\")"
      ]
    },
    {
      "cell_type": "markdown",
      "metadata": {
        "id": "lzqXi-cEp7fK"
      },
      "source": [
        "Observations:\n",
        "\n",
        "- The model didn't work well with less characteres in text coloumn (contract).\n",
        "- The model didn't work well with more characteres in hypothis coloumn."
      ]
    },
    {
      "cell_type": "markdown",
      "metadata": {
        "id": "q3jf85f5sVax"
      },
      "source": [
        "##### Roberta (error of analysis)"
      ]
    },
    {
      "cell_type": "code",
      "execution_count": null,
      "metadata": {
        "id": "OzmqIaj4sVa-"
      },
      "outputs": [],
      "source": [
        "predicted_labels = roberta_misclass['pred_from_roberta-base']\n",
        "true_labels = roberta_misclass['label_ids']\n",
        "\n",
        "cal_fp_fn(predicted_labels, true_labels)"
      ]
    },
    {
      "cell_type": "markdown",
      "metadata": {
        "id": "Z7adcSkbsVa-"
      },
      "source": [
        "- The model is baised to do worng predictions with entailment label. The reason can be that entailment label is the highest frequency for all data so model baised towards majority class which can introduce imbalance data problem like previous model."
      ]
    },
    {
      "cell_type": "code",
      "execution_count": null,
      "metadata": {
        "id": "G2mqkS9zsVa-"
      },
      "outputs": [],
      "source": [
        "visualize_label(roberta_misclass,\"testing\")"
      ]
    },
    {
      "cell_type": "markdown",
      "metadata": {
        "id": "INCtjJ4rsVa_"
      },
      "source": [
        "**Observations:**\n",
        "\n",
        "The model is not good at predicting no mentioned. It can be for not mentioned means I want to make sure it's not contradiction or entailment. I thik the model take much time while traing. I can say it like happens for us when you classify and some thing like unkown or not mentioned maybe difficult. Like previous model."
      ]
    },
    {
      "cell_type": "code",
      "execution_count": null,
      "metadata": {
        "id": "dwtmmAl_sVa_"
      },
      "outputs": [],
      "source": [
        "get_stats(roberta_misclass,\"testing\", \"text\",\"document\")\n",
        "get_stats(roberta_misclass,\"testing\", \"hypothesis\",\"hypothesis\")"
      ]
    },
    {
      "cell_type": "markdown",
      "metadata": {
        "id": "e4fUbTbDsVa_"
      },
      "source": [
        "Observations:\n",
        "\n",
        "- The model didn't work well with less characteres in text coloumn (contract).\n",
        "- The model didn't work well with more characteres in hypothis coloumn.\n",
        "\n",
        "like previous model."
      ]
    },
    {
      "cell_type": "markdown",
      "metadata": {
        "id": "VYctKCpltMrm"
      },
      "source": [
        "### Q4  You do not need to write any code in this question. Based on Q3 and external readings, propose two ideas to improve the approaches (i.e., directly fine-tune pre-trained models) used in Q2. Explain your answers in a textual cell.\n",
        "\n"
      ]
    },
    {
      "cell_type": "markdown",
      "metadata": {
        "id": "PYfcTqwAutHq"
      },
      "source": [
        "- Based on the error analysis and understanding of the models' performance, here are two ideas to improve their performance:\n",
        "\n",
        "**Data Preprocessing and Augmentation:**\n",
        "\n",
        "- To address the issue of the model not working well with less characters in the text column, I can consider preprocessing the text by applying techniques such as padding or truncation. Padding can add dummy characters to shorter texts, ensuring they have a minimum length, while truncation can limit the length of longer texts. This can help standardize the input length for the model.\n",
        "For the issue of the model not working well with more characters in the hypothesis column, I can experiment with techniques like truncation or splitting. Truncating the hypothesis to a maximum length can help prevent the model from getting overwhelmed with excessive input. Alternatively, splitting longer hypotheses into smaller segments and processing them separately can provide better context understanding.\n",
        "To improve the model's performance with the \"no mentioned\" category, you can consider augmenting the data by creating synthetic examples that explicitly mention \"no mentioned\" or \"unknown\" scenarios. This can help the model learn to recognize and distinguish such cases more effectively.\n",
        "\n",
        "**Model Training and Balancing:**\n",
        "\n",
        "- To address the bias towards the entailment label, I can experiment with different strategies to balance the data. One approach is to use techniques like oversampling or undersampling to ensure a more equal representation of each label during training. This can help mitigate the impact of class imbalance and reduce the bias towards the majority class.\n",
        "If the model is taking a long time to train, you can explore techniques to optimize the training process. This can include using more powerful hardware or distributed training methods, adjusting the batch size or learning rate, or employing techniques like early stopping to stop training when the model's performance plateaus. These optimizations can help improve training efficiency and potentially enhance model performance.\n",
        "\n",
        "**Ensemble Learning:**\n",
        "\n",
        "- Ensemble learning involves combining multiple models to make predictions. I can train multiple instances of the BERT and RoBERTa models with different initializations or hyperparameters and then aggregate their predictions to make the final decision. Ensemble methods often result in improved performance by leveraging the diversity of predictions from different models. This can help mitigate the biases or shortcomings of individual models and enhance the overall predictive capability.\n",
        "\n",
        "**Regularization Techniques:**\n",
        "\n",
        "Regularization techniques can help prevent overfitting and improve the models' generalization ability. Consider incorporating techniques such as dropout, which randomly drops out a portion of the model's units during training, or L1/L2 regularization, which adds penalties to the model's loss function to encourage simpler and more generalizable representations. Regularization can help reduce model complexity and improve its ability to generalize to unseen data.\n",
        "\n",
        "**Hyperparameter Optimization:**\n",
        "\n",
        "Hyperparameters play a crucial role in model performance. Explore techniques such as grid search, random search, or Bayesian optimization to find the optimal combination of hyperparameters for your models. By systematically searching the hyperparameter space, you can identify the best configuration that maximizes performance on your task. Hyperparameters to consider include learning rate, batch size, number of layers, hidden units, and attention mechanisms, among others."
      ]
    },
    {
      "cell_type": "markdown",
      "metadata": {
        "id": "o8VVPyqtwPph"
      },
      "source": [
        "### **I have finished. Yeah!! I enjoyed this assignment a lot.**\n",
        "\n",
        "**Thanks for your time and effort!**"
      ]
    },
    {
      "cell_type": "code",
      "source": [
        "name = int(input())\n",
        "n,l = [int(x) for input().split()]\n"
      ],
      "metadata": {
        "colab": {
          "base_uri": "https://localhost:8080/"
        },
        "id": "io2O3m6HrPzX",
        "outputId": "da005eeb-ba83-416f-a517-c546874fcbca"
      },
      "execution_count": null,
      "outputs": [
        {
          "name": "stdout",
          "output_type": "stream",
          "text": [
            "3\n",
            "5 6\n"
          ]
        }
      ]
    },
    {
      "cell_type": "code",
      "source": [
        "l"
      ],
      "metadata": {
        "colab": {
          "base_uri": "https://localhost:8080/",
          "height": 35
        },
        "id": "AO4OjMZMsB0c",
        "outputId": "5be1db2b-5a87-423b-b964-07e6e273ed6f"
      },
      "execution_count": null,
      "outputs": [
        {
          "output_type": "execute_result",
          "data": {
            "text/plain": [
              "'6'"
            ],
            "application/vnd.google.colaboratory.intrinsic+json": {
              "type": "string"
            }
          },
          "metadata": {},
          "execution_count": 5
        }
      ]
    },
    {
      "cell_type": "code",
      "source": [],
      "metadata": {
        "id": "2GGnTRWjsjfZ"
      },
      "execution_count": null,
      "outputs": []
    }
  ],
  "metadata": {
    "accelerator": "GPU",
    "colab": {
      "provenance": [],
      "gpuType": "T4"
    },
    "kernelspec": {
      "display_name": "Python 3",
      "name": "python3"
    },
    "language_info": {
      "codemirror_mode": {
        "name": "ipython",
        "version": 3
      },
      "file_extension": ".py",
      "mimetype": "text/x-python",
      "name": "python",
      "nbconvert_exporter": "python",
      "pygments_lexer": "ipython3",
      "version": "3.10.11"
    },
    "widgets": {
      "application/vnd.jupyter.widget-state+json": {
        "18d3e00afc7f4b57aa53dd457da8c205": {
          "model_module": "@jupyter-widgets/controls",
          "model_name": "HBoxModel",
          "model_module_version": "1.5.0",
          "state": {
            "_dom_classes": [],
            "_model_module": "@jupyter-widgets/controls",
            "_model_module_version": "1.5.0",
            "_model_name": "HBoxModel",
            "_view_count": null,
            "_view_module": "@jupyter-widgets/controls",
            "_view_module_version": "1.5.0",
            "_view_name": "HBoxView",
            "box_style": "",
            "children": [
              "IPY_MODEL_c99a362a5dd14b26bb2f0817ac58814c",
              "IPY_MODEL_7306ee3fd4a948f2a705313a47f622a5",
              "IPY_MODEL_02ddc9c36953469c9399de74cb7fd2f3"
            ],
            "layout": "IPY_MODEL_a6e9ee51fb064231b71b4f431fc5e10b"
          }
        },
        "c99a362a5dd14b26bb2f0817ac58814c": {
          "model_module": "@jupyter-widgets/controls",
          "model_name": "HTMLModel",
          "model_module_version": "1.5.0",
          "state": {
            "_dom_classes": [],
            "_model_module": "@jupyter-widgets/controls",
            "_model_module_version": "1.5.0",
            "_model_name": "HTMLModel",
            "_view_count": null,
            "_view_module": "@jupyter-widgets/controls",
            "_view_module_version": "1.5.0",
            "_view_name": "HTMLView",
            "description": "",
            "description_tooltip": null,
            "layout": "IPY_MODEL_e357c02a66224c748371c265363d65a3",
            "placeholder": "​",
            "style": "IPY_MODEL_e8c9c664abf84b8197534752fb734d42",
            "value": "tokenizer_config.json: 100%"
          }
        },
        "7306ee3fd4a948f2a705313a47f622a5": {
          "model_module": "@jupyter-widgets/controls",
          "model_name": "FloatProgressModel",
          "model_module_version": "1.5.0",
          "state": {
            "_dom_classes": [],
            "_model_module": "@jupyter-widgets/controls",
            "_model_module_version": "1.5.0",
            "_model_name": "FloatProgressModel",
            "_view_count": null,
            "_view_module": "@jupyter-widgets/controls",
            "_view_module_version": "1.5.0",
            "_view_name": "ProgressView",
            "bar_style": "success",
            "description": "",
            "description_tooltip": null,
            "layout": "IPY_MODEL_6ae5a82ec29344d0add7fe9dce90a079",
            "max": 28,
            "min": 0,
            "orientation": "horizontal",
            "style": "IPY_MODEL_10da2f4acde149c3a6403bfa29bcafc3",
            "value": 28
          }
        },
        "02ddc9c36953469c9399de74cb7fd2f3": {
          "model_module": "@jupyter-widgets/controls",
          "model_name": "HTMLModel",
          "model_module_version": "1.5.0",
          "state": {
            "_dom_classes": [],
            "_model_module": "@jupyter-widgets/controls",
            "_model_module_version": "1.5.0",
            "_model_name": "HTMLModel",
            "_view_count": null,
            "_view_module": "@jupyter-widgets/controls",
            "_view_module_version": "1.5.0",
            "_view_name": "HTMLView",
            "description": "",
            "description_tooltip": null,
            "layout": "IPY_MODEL_a86e9d348cfe4d9395da105930c3f2c1",
            "placeholder": "​",
            "style": "IPY_MODEL_c1014505b4444c59a0e7b6a06678f230",
            "value": " 28.0/28.0 [00:00&lt;00:00, 517B/s]"
          }
        },
        "a6e9ee51fb064231b71b4f431fc5e10b": {
          "model_module": "@jupyter-widgets/base",
          "model_name": "LayoutModel",
          "model_module_version": "1.2.0",
          "state": {
            "_model_module": "@jupyter-widgets/base",
            "_model_module_version": "1.2.0",
            "_model_name": "LayoutModel",
            "_view_count": null,
            "_view_module": "@jupyter-widgets/base",
            "_view_module_version": "1.2.0",
            "_view_name": "LayoutView",
            "align_content": null,
            "align_items": null,
            "align_self": null,
            "border": null,
            "bottom": null,
            "display": null,
            "flex": null,
            "flex_flow": null,
            "grid_area": null,
            "grid_auto_columns": null,
            "grid_auto_flow": null,
            "grid_auto_rows": null,
            "grid_column": null,
            "grid_gap": null,
            "grid_row": null,
            "grid_template_areas": null,
            "grid_template_columns": null,
            "grid_template_rows": null,
            "height": null,
            "justify_content": null,
            "justify_items": null,
            "left": null,
            "margin": null,
            "max_height": null,
            "max_width": null,
            "min_height": null,
            "min_width": null,
            "object_fit": null,
            "object_position": null,
            "order": null,
            "overflow": null,
            "overflow_x": null,
            "overflow_y": null,
            "padding": null,
            "right": null,
            "top": null,
            "visibility": null,
            "width": null
          }
        },
        "e357c02a66224c748371c265363d65a3": {
          "model_module": "@jupyter-widgets/base",
          "model_name": "LayoutModel",
          "model_module_version": "1.2.0",
          "state": {
            "_model_module": "@jupyter-widgets/base",
            "_model_module_version": "1.2.0",
            "_model_name": "LayoutModel",
            "_view_count": null,
            "_view_module": "@jupyter-widgets/base",
            "_view_module_version": "1.2.0",
            "_view_name": "LayoutView",
            "align_content": null,
            "align_items": null,
            "align_self": null,
            "border": null,
            "bottom": null,
            "display": null,
            "flex": null,
            "flex_flow": null,
            "grid_area": null,
            "grid_auto_columns": null,
            "grid_auto_flow": null,
            "grid_auto_rows": null,
            "grid_column": null,
            "grid_gap": null,
            "grid_row": null,
            "grid_template_areas": null,
            "grid_template_columns": null,
            "grid_template_rows": null,
            "height": null,
            "justify_content": null,
            "justify_items": null,
            "left": null,
            "margin": null,
            "max_height": null,
            "max_width": null,
            "min_height": null,
            "min_width": null,
            "object_fit": null,
            "object_position": null,
            "order": null,
            "overflow": null,
            "overflow_x": null,
            "overflow_y": null,
            "padding": null,
            "right": null,
            "top": null,
            "visibility": null,
            "width": null
          }
        },
        "e8c9c664abf84b8197534752fb734d42": {
          "model_module": "@jupyter-widgets/controls",
          "model_name": "DescriptionStyleModel",
          "model_module_version": "1.5.0",
          "state": {
            "_model_module": "@jupyter-widgets/controls",
            "_model_module_version": "1.5.0",
            "_model_name": "DescriptionStyleModel",
            "_view_count": null,
            "_view_module": "@jupyter-widgets/base",
            "_view_module_version": "1.2.0",
            "_view_name": "StyleView",
            "description_width": ""
          }
        },
        "6ae5a82ec29344d0add7fe9dce90a079": {
          "model_module": "@jupyter-widgets/base",
          "model_name": "LayoutModel",
          "model_module_version": "1.2.0",
          "state": {
            "_model_module": "@jupyter-widgets/base",
            "_model_module_version": "1.2.0",
            "_model_name": "LayoutModel",
            "_view_count": null,
            "_view_module": "@jupyter-widgets/base",
            "_view_module_version": "1.2.0",
            "_view_name": "LayoutView",
            "align_content": null,
            "align_items": null,
            "align_self": null,
            "border": null,
            "bottom": null,
            "display": null,
            "flex": null,
            "flex_flow": null,
            "grid_area": null,
            "grid_auto_columns": null,
            "grid_auto_flow": null,
            "grid_auto_rows": null,
            "grid_column": null,
            "grid_gap": null,
            "grid_row": null,
            "grid_template_areas": null,
            "grid_template_columns": null,
            "grid_template_rows": null,
            "height": null,
            "justify_content": null,
            "justify_items": null,
            "left": null,
            "margin": null,
            "max_height": null,
            "max_width": null,
            "min_height": null,
            "min_width": null,
            "object_fit": null,
            "object_position": null,
            "order": null,
            "overflow": null,
            "overflow_x": null,
            "overflow_y": null,
            "padding": null,
            "right": null,
            "top": null,
            "visibility": null,
            "width": null
          }
        },
        "10da2f4acde149c3a6403bfa29bcafc3": {
          "model_module": "@jupyter-widgets/controls",
          "model_name": "ProgressStyleModel",
          "model_module_version": "1.5.0",
          "state": {
            "_model_module": "@jupyter-widgets/controls",
            "_model_module_version": "1.5.0",
            "_model_name": "ProgressStyleModel",
            "_view_count": null,
            "_view_module": "@jupyter-widgets/base",
            "_view_module_version": "1.2.0",
            "_view_name": "StyleView",
            "bar_color": null,
            "description_width": ""
          }
        },
        "a86e9d348cfe4d9395da105930c3f2c1": {
          "model_module": "@jupyter-widgets/base",
          "model_name": "LayoutModel",
          "model_module_version": "1.2.0",
          "state": {
            "_model_module": "@jupyter-widgets/base",
            "_model_module_version": "1.2.0",
            "_model_name": "LayoutModel",
            "_view_count": null,
            "_view_module": "@jupyter-widgets/base",
            "_view_module_version": "1.2.0",
            "_view_name": "LayoutView",
            "align_content": null,
            "align_items": null,
            "align_self": null,
            "border": null,
            "bottom": null,
            "display": null,
            "flex": null,
            "flex_flow": null,
            "grid_area": null,
            "grid_auto_columns": null,
            "grid_auto_flow": null,
            "grid_auto_rows": null,
            "grid_column": null,
            "grid_gap": null,
            "grid_row": null,
            "grid_template_areas": null,
            "grid_template_columns": null,
            "grid_template_rows": null,
            "height": null,
            "justify_content": null,
            "justify_items": null,
            "left": null,
            "margin": null,
            "max_height": null,
            "max_width": null,
            "min_height": null,
            "min_width": null,
            "object_fit": null,
            "object_position": null,
            "order": null,
            "overflow": null,
            "overflow_x": null,
            "overflow_y": null,
            "padding": null,
            "right": null,
            "top": null,
            "visibility": null,
            "width": null
          }
        },
        "c1014505b4444c59a0e7b6a06678f230": {
          "model_module": "@jupyter-widgets/controls",
          "model_name": "DescriptionStyleModel",
          "model_module_version": "1.5.0",
          "state": {
            "_model_module": "@jupyter-widgets/controls",
            "_model_module_version": "1.5.0",
            "_model_name": "DescriptionStyleModel",
            "_view_count": null,
            "_view_module": "@jupyter-widgets/base",
            "_view_module_version": "1.2.0",
            "_view_name": "StyleView",
            "description_width": ""
          }
        },
        "773fe7fb065347dcbae245f0dfee4cc7": {
          "model_module": "@jupyter-widgets/controls",
          "model_name": "HBoxModel",
          "model_module_version": "1.5.0",
          "state": {
            "_dom_classes": [],
            "_model_module": "@jupyter-widgets/controls",
            "_model_module_version": "1.5.0",
            "_model_name": "HBoxModel",
            "_view_count": null,
            "_view_module": "@jupyter-widgets/controls",
            "_view_module_version": "1.5.0",
            "_view_name": "HBoxView",
            "box_style": "",
            "children": [
              "IPY_MODEL_6b434287acea452a91ceed3740af649d",
              "IPY_MODEL_323af1853e9345b594ddb2f6d8448548",
              "IPY_MODEL_c061d9418ef54927b34ce6efdda8a103"
            ],
            "layout": "IPY_MODEL_8733ea1029294657a71a9a767e2c77b2"
          }
        },
        "6b434287acea452a91ceed3740af649d": {
          "model_module": "@jupyter-widgets/controls",
          "model_name": "HTMLModel",
          "model_module_version": "1.5.0",
          "state": {
            "_dom_classes": [],
            "_model_module": "@jupyter-widgets/controls",
            "_model_module_version": "1.5.0",
            "_model_name": "HTMLModel",
            "_view_count": null,
            "_view_module": "@jupyter-widgets/controls",
            "_view_module_version": "1.5.0",
            "_view_name": "HTMLView",
            "description": "",
            "description_tooltip": null,
            "layout": "IPY_MODEL_d52edaff2f76407985acfc72bea02001",
            "placeholder": "​",
            "style": "IPY_MODEL_210e1ea22ddc433696318b3ed1d07444",
            "value": "config.json: 100%"
          }
        },
        "323af1853e9345b594ddb2f6d8448548": {
          "model_module": "@jupyter-widgets/controls",
          "model_name": "FloatProgressModel",
          "model_module_version": "1.5.0",
          "state": {
            "_dom_classes": [],
            "_model_module": "@jupyter-widgets/controls",
            "_model_module_version": "1.5.0",
            "_model_name": "FloatProgressModel",
            "_view_count": null,
            "_view_module": "@jupyter-widgets/controls",
            "_view_module_version": "1.5.0",
            "_view_name": "ProgressView",
            "bar_style": "success",
            "description": "",
            "description_tooltip": null,
            "layout": "IPY_MODEL_bb807ff89753473991d8dd11a54829bc",
            "max": 483,
            "min": 0,
            "orientation": "horizontal",
            "style": "IPY_MODEL_66f3ce44256944e1ab46ff655378ac8e",
            "value": 483
          }
        },
        "c061d9418ef54927b34ce6efdda8a103": {
          "model_module": "@jupyter-widgets/controls",
          "model_name": "HTMLModel",
          "model_module_version": "1.5.0",
          "state": {
            "_dom_classes": [],
            "_model_module": "@jupyter-widgets/controls",
            "_model_module_version": "1.5.0",
            "_model_name": "HTMLModel",
            "_view_count": null,
            "_view_module": "@jupyter-widgets/controls",
            "_view_module_version": "1.5.0",
            "_view_name": "HTMLView",
            "description": "",
            "description_tooltip": null,
            "layout": "IPY_MODEL_bb1c325531364aa58b70b83dbf95cb07",
            "placeholder": "​",
            "style": "IPY_MODEL_aa785a96170944898482ca7b7223f354",
            "value": " 483/483 [00:00&lt;00:00, 9.90kB/s]"
          }
        },
        "8733ea1029294657a71a9a767e2c77b2": {
          "model_module": "@jupyter-widgets/base",
          "model_name": "LayoutModel",
          "model_module_version": "1.2.0",
          "state": {
            "_model_module": "@jupyter-widgets/base",
            "_model_module_version": "1.2.0",
            "_model_name": "LayoutModel",
            "_view_count": null,
            "_view_module": "@jupyter-widgets/base",
            "_view_module_version": "1.2.0",
            "_view_name": "LayoutView",
            "align_content": null,
            "align_items": null,
            "align_self": null,
            "border": null,
            "bottom": null,
            "display": null,
            "flex": null,
            "flex_flow": null,
            "grid_area": null,
            "grid_auto_columns": null,
            "grid_auto_flow": null,
            "grid_auto_rows": null,
            "grid_column": null,
            "grid_gap": null,
            "grid_row": null,
            "grid_template_areas": null,
            "grid_template_columns": null,
            "grid_template_rows": null,
            "height": null,
            "justify_content": null,
            "justify_items": null,
            "left": null,
            "margin": null,
            "max_height": null,
            "max_width": null,
            "min_height": null,
            "min_width": null,
            "object_fit": null,
            "object_position": null,
            "order": null,
            "overflow": null,
            "overflow_x": null,
            "overflow_y": null,
            "padding": null,
            "right": null,
            "top": null,
            "visibility": null,
            "width": null
          }
        },
        "d52edaff2f76407985acfc72bea02001": {
          "model_module": "@jupyter-widgets/base",
          "model_name": "LayoutModel",
          "model_module_version": "1.2.0",
          "state": {
            "_model_module": "@jupyter-widgets/base",
            "_model_module_version": "1.2.0",
            "_model_name": "LayoutModel",
            "_view_count": null,
            "_view_module": "@jupyter-widgets/base",
            "_view_module_version": "1.2.0",
            "_view_name": "LayoutView",
            "align_content": null,
            "align_items": null,
            "align_self": null,
            "border": null,
            "bottom": null,
            "display": null,
            "flex": null,
            "flex_flow": null,
            "grid_area": null,
            "grid_auto_columns": null,
            "grid_auto_flow": null,
            "grid_auto_rows": null,
            "grid_column": null,
            "grid_gap": null,
            "grid_row": null,
            "grid_template_areas": null,
            "grid_template_columns": null,
            "grid_template_rows": null,
            "height": null,
            "justify_content": null,
            "justify_items": null,
            "left": null,
            "margin": null,
            "max_height": null,
            "max_width": null,
            "min_height": null,
            "min_width": null,
            "object_fit": null,
            "object_position": null,
            "order": null,
            "overflow": null,
            "overflow_x": null,
            "overflow_y": null,
            "padding": null,
            "right": null,
            "top": null,
            "visibility": null,
            "width": null
          }
        },
        "210e1ea22ddc433696318b3ed1d07444": {
          "model_module": "@jupyter-widgets/controls",
          "model_name": "DescriptionStyleModel",
          "model_module_version": "1.5.0",
          "state": {
            "_model_module": "@jupyter-widgets/controls",
            "_model_module_version": "1.5.0",
            "_model_name": "DescriptionStyleModel",
            "_view_count": null,
            "_view_module": "@jupyter-widgets/base",
            "_view_module_version": "1.2.0",
            "_view_name": "StyleView",
            "description_width": ""
          }
        },
        "bb807ff89753473991d8dd11a54829bc": {
          "model_module": "@jupyter-widgets/base",
          "model_name": "LayoutModel",
          "model_module_version": "1.2.0",
          "state": {
            "_model_module": "@jupyter-widgets/base",
            "_model_module_version": "1.2.0",
            "_model_name": "LayoutModel",
            "_view_count": null,
            "_view_module": "@jupyter-widgets/base",
            "_view_module_version": "1.2.0",
            "_view_name": "LayoutView",
            "align_content": null,
            "align_items": null,
            "align_self": null,
            "border": null,
            "bottom": null,
            "display": null,
            "flex": null,
            "flex_flow": null,
            "grid_area": null,
            "grid_auto_columns": null,
            "grid_auto_flow": null,
            "grid_auto_rows": null,
            "grid_column": null,
            "grid_gap": null,
            "grid_row": null,
            "grid_template_areas": null,
            "grid_template_columns": null,
            "grid_template_rows": null,
            "height": null,
            "justify_content": null,
            "justify_items": null,
            "left": null,
            "margin": null,
            "max_height": null,
            "max_width": null,
            "min_height": null,
            "min_width": null,
            "object_fit": null,
            "object_position": null,
            "order": null,
            "overflow": null,
            "overflow_x": null,
            "overflow_y": null,
            "padding": null,
            "right": null,
            "top": null,
            "visibility": null,
            "width": null
          }
        },
        "66f3ce44256944e1ab46ff655378ac8e": {
          "model_module": "@jupyter-widgets/controls",
          "model_name": "ProgressStyleModel",
          "model_module_version": "1.5.0",
          "state": {
            "_model_module": "@jupyter-widgets/controls",
            "_model_module_version": "1.5.0",
            "_model_name": "ProgressStyleModel",
            "_view_count": null,
            "_view_module": "@jupyter-widgets/base",
            "_view_module_version": "1.2.0",
            "_view_name": "StyleView",
            "bar_color": null,
            "description_width": ""
          }
        },
        "bb1c325531364aa58b70b83dbf95cb07": {
          "model_module": "@jupyter-widgets/base",
          "model_name": "LayoutModel",
          "model_module_version": "1.2.0",
          "state": {
            "_model_module": "@jupyter-widgets/base",
            "_model_module_version": "1.2.0",
            "_model_name": "LayoutModel",
            "_view_count": null,
            "_view_module": "@jupyter-widgets/base",
            "_view_module_version": "1.2.0",
            "_view_name": "LayoutView",
            "align_content": null,
            "align_items": null,
            "align_self": null,
            "border": null,
            "bottom": null,
            "display": null,
            "flex": null,
            "flex_flow": null,
            "grid_area": null,
            "grid_auto_columns": null,
            "grid_auto_flow": null,
            "grid_auto_rows": null,
            "grid_column": null,
            "grid_gap": null,
            "grid_row": null,
            "grid_template_areas": null,
            "grid_template_columns": null,
            "grid_template_rows": null,
            "height": null,
            "justify_content": null,
            "justify_items": null,
            "left": null,
            "margin": null,
            "max_height": null,
            "max_width": null,
            "min_height": null,
            "min_width": null,
            "object_fit": null,
            "object_position": null,
            "order": null,
            "overflow": null,
            "overflow_x": null,
            "overflow_y": null,
            "padding": null,
            "right": null,
            "top": null,
            "visibility": null,
            "width": null
          }
        },
        "aa785a96170944898482ca7b7223f354": {
          "model_module": "@jupyter-widgets/controls",
          "model_name": "DescriptionStyleModel",
          "model_module_version": "1.5.0",
          "state": {
            "_model_module": "@jupyter-widgets/controls",
            "_model_module_version": "1.5.0",
            "_model_name": "DescriptionStyleModel",
            "_view_count": null,
            "_view_module": "@jupyter-widgets/base",
            "_view_module_version": "1.2.0",
            "_view_name": "StyleView",
            "description_width": ""
          }
        },
        "acc01bce596d40d3bc21f2449704683a": {
          "model_module": "@jupyter-widgets/controls",
          "model_name": "HBoxModel",
          "model_module_version": "1.5.0",
          "state": {
            "_dom_classes": [],
            "_model_module": "@jupyter-widgets/controls",
            "_model_module_version": "1.5.0",
            "_model_name": "HBoxModel",
            "_view_count": null,
            "_view_module": "@jupyter-widgets/controls",
            "_view_module_version": "1.5.0",
            "_view_name": "HBoxView",
            "box_style": "",
            "children": [
              "IPY_MODEL_97c97249454946a5a89644fe6afab6bc",
              "IPY_MODEL_ad3c21206a694f83a91b6d1dd07b4387",
              "IPY_MODEL_8c5843dbc9a545e79fc35318bcd284bc"
            ],
            "layout": "IPY_MODEL_8264fa66d2f2421e8245bb87bcdbbc32"
          }
        },
        "97c97249454946a5a89644fe6afab6bc": {
          "model_module": "@jupyter-widgets/controls",
          "model_name": "HTMLModel",
          "model_module_version": "1.5.0",
          "state": {
            "_dom_classes": [],
            "_model_module": "@jupyter-widgets/controls",
            "_model_module_version": "1.5.0",
            "_model_name": "HTMLModel",
            "_view_count": null,
            "_view_module": "@jupyter-widgets/controls",
            "_view_module_version": "1.5.0",
            "_view_name": "HTMLView",
            "description": "",
            "description_tooltip": null,
            "layout": "IPY_MODEL_bfbcd74165894daab1bd8e0461ba4bf9",
            "placeholder": "​",
            "style": "IPY_MODEL_6642f2abf3924cc2ae24eec5e6429b77",
            "value": "vocab.txt: 100%"
          }
        },
        "ad3c21206a694f83a91b6d1dd07b4387": {
          "model_module": "@jupyter-widgets/controls",
          "model_name": "FloatProgressModel",
          "model_module_version": "1.5.0",
          "state": {
            "_dom_classes": [],
            "_model_module": "@jupyter-widgets/controls",
            "_model_module_version": "1.5.0",
            "_model_name": "FloatProgressModel",
            "_view_count": null,
            "_view_module": "@jupyter-widgets/controls",
            "_view_module_version": "1.5.0",
            "_view_name": "ProgressView",
            "bar_style": "success",
            "description": "",
            "description_tooltip": null,
            "layout": "IPY_MODEL_d2c57cbf548547049d05b59288795788",
            "max": 231508,
            "min": 0,
            "orientation": "horizontal",
            "style": "IPY_MODEL_452bff931cce4d059ff48738fe44337f",
            "value": 231508
          }
        },
        "8c5843dbc9a545e79fc35318bcd284bc": {
          "model_module": "@jupyter-widgets/controls",
          "model_name": "HTMLModel",
          "model_module_version": "1.5.0",
          "state": {
            "_dom_classes": [],
            "_model_module": "@jupyter-widgets/controls",
            "_model_module_version": "1.5.0",
            "_model_name": "HTMLModel",
            "_view_count": null,
            "_view_module": "@jupyter-widgets/controls",
            "_view_module_version": "1.5.0",
            "_view_name": "HTMLView",
            "description": "",
            "description_tooltip": null,
            "layout": "IPY_MODEL_20c1f78885434f5f8b91a9b9a175fd1a",
            "placeholder": "​",
            "style": "IPY_MODEL_3b393f1e11864af2830e0f2bedeaba90",
            "value": " 232k/232k [00:00&lt;00:00, 6.32MB/s]"
          }
        },
        "8264fa66d2f2421e8245bb87bcdbbc32": {
          "model_module": "@jupyter-widgets/base",
          "model_name": "LayoutModel",
          "model_module_version": "1.2.0",
          "state": {
            "_model_module": "@jupyter-widgets/base",
            "_model_module_version": "1.2.0",
            "_model_name": "LayoutModel",
            "_view_count": null,
            "_view_module": "@jupyter-widgets/base",
            "_view_module_version": "1.2.0",
            "_view_name": "LayoutView",
            "align_content": null,
            "align_items": null,
            "align_self": null,
            "border": null,
            "bottom": null,
            "display": null,
            "flex": null,
            "flex_flow": null,
            "grid_area": null,
            "grid_auto_columns": null,
            "grid_auto_flow": null,
            "grid_auto_rows": null,
            "grid_column": null,
            "grid_gap": null,
            "grid_row": null,
            "grid_template_areas": null,
            "grid_template_columns": null,
            "grid_template_rows": null,
            "height": null,
            "justify_content": null,
            "justify_items": null,
            "left": null,
            "margin": null,
            "max_height": null,
            "max_width": null,
            "min_height": null,
            "min_width": null,
            "object_fit": null,
            "object_position": null,
            "order": null,
            "overflow": null,
            "overflow_x": null,
            "overflow_y": null,
            "padding": null,
            "right": null,
            "top": null,
            "visibility": null,
            "width": null
          }
        },
        "bfbcd74165894daab1bd8e0461ba4bf9": {
          "model_module": "@jupyter-widgets/base",
          "model_name": "LayoutModel",
          "model_module_version": "1.2.0",
          "state": {
            "_model_module": "@jupyter-widgets/base",
            "_model_module_version": "1.2.0",
            "_model_name": "LayoutModel",
            "_view_count": null,
            "_view_module": "@jupyter-widgets/base",
            "_view_module_version": "1.2.0",
            "_view_name": "LayoutView",
            "align_content": null,
            "align_items": null,
            "align_self": null,
            "border": null,
            "bottom": null,
            "display": null,
            "flex": null,
            "flex_flow": null,
            "grid_area": null,
            "grid_auto_columns": null,
            "grid_auto_flow": null,
            "grid_auto_rows": null,
            "grid_column": null,
            "grid_gap": null,
            "grid_row": null,
            "grid_template_areas": null,
            "grid_template_columns": null,
            "grid_template_rows": null,
            "height": null,
            "justify_content": null,
            "justify_items": null,
            "left": null,
            "margin": null,
            "max_height": null,
            "max_width": null,
            "min_height": null,
            "min_width": null,
            "object_fit": null,
            "object_position": null,
            "order": null,
            "overflow": null,
            "overflow_x": null,
            "overflow_y": null,
            "padding": null,
            "right": null,
            "top": null,
            "visibility": null,
            "width": null
          }
        },
        "6642f2abf3924cc2ae24eec5e6429b77": {
          "model_module": "@jupyter-widgets/controls",
          "model_name": "DescriptionStyleModel",
          "model_module_version": "1.5.0",
          "state": {
            "_model_module": "@jupyter-widgets/controls",
            "_model_module_version": "1.5.0",
            "_model_name": "DescriptionStyleModel",
            "_view_count": null,
            "_view_module": "@jupyter-widgets/base",
            "_view_module_version": "1.2.0",
            "_view_name": "StyleView",
            "description_width": ""
          }
        },
        "d2c57cbf548547049d05b59288795788": {
          "model_module": "@jupyter-widgets/base",
          "model_name": "LayoutModel",
          "model_module_version": "1.2.0",
          "state": {
            "_model_module": "@jupyter-widgets/base",
            "_model_module_version": "1.2.0",
            "_model_name": "LayoutModel",
            "_view_count": null,
            "_view_module": "@jupyter-widgets/base",
            "_view_module_version": "1.2.0",
            "_view_name": "LayoutView",
            "align_content": null,
            "align_items": null,
            "align_self": null,
            "border": null,
            "bottom": null,
            "display": null,
            "flex": null,
            "flex_flow": null,
            "grid_area": null,
            "grid_auto_columns": null,
            "grid_auto_flow": null,
            "grid_auto_rows": null,
            "grid_column": null,
            "grid_gap": null,
            "grid_row": null,
            "grid_template_areas": null,
            "grid_template_columns": null,
            "grid_template_rows": null,
            "height": null,
            "justify_content": null,
            "justify_items": null,
            "left": null,
            "margin": null,
            "max_height": null,
            "max_width": null,
            "min_height": null,
            "min_width": null,
            "object_fit": null,
            "object_position": null,
            "order": null,
            "overflow": null,
            "overflow_x": null,
            "overflow_y": null,
            "padding": null,
            "right": null,
            "top": null,
            "visibility": null,
            "width": null
          }
        },
        "452bff931cce4d059ff48738fe44337f": {
          "model_module": "@jupyter-widgets/controls",
          "model_name": "ProgressStyleModel",
          "model_module_version": "1.5.0",
          "state": {
            "_model_module": "@jupyter-widgets/controls",
            "_model_module_version": "1.5.0",
            "_model_name": "ProgressStyleModel",
            "_view_count": null,
            "_view_module": "@jupyter-widgets/base",
            "_view_module_version": "1.2.0",
            "_view_name": "StyleView",
            "bar_color": null,
            "description_width": ""
          }
        },
        "20c1f78885434f5f8b91a9b9a175fd1a": {
          "model_module": "@jupyter-widgets/base",
          "model_name": "LayoutModel",
          "model_module_version": "1.2.0",
          "state": {
            "_model_module": "@jupyter-widgets/base",
            "_model_module_version": "1.2.0",
            "_model_name": "LayoutModel",
            "_view_count": null,
            "_view_module": "@jupyter-widgets/base",
            "_view_module_version": "1.2.0",
            "_view_name": "LayoutView",
            "align_content": null,
            "align_items": null,
            "align_self": null,
            "border": null,
            "bottom": null,
            "display": null,
            "flex": null,
            "flex_flow": null,
            "grid_area": null,
            "grid_auto_columns": null,
            "grid_auto_flow": null,
            "grid_auto_rows": null,
            "grid_column": null,
            "grid_gap": null,
            "grid_row": null,
            "grid_template_areas": null,
            "grid_template_columns": null,
            "grid_template_rows": null,
            "height": null,
            "justify_content": null,
            "justify_items": null,
            "left": null,
            "margin": null,
            "max_height": null,
            "max_width": null,
            "min_height": null,
            "min_width": null,
            "object_fit": null,
            "object_position": null,
            "order": null,
            "overflow": null,
            "overflow_x": null,
            "overflow_y": null,
            "padding": null,
            "right": null,
            "top": null,
            "visibility": null,
            "width": null
          }
        },
        "3b393f1e11864af2830e0f2bedeaba90": {
          "model_module": "@jupyter-widgets/controls",
          "model_name": "DescriptionStyleModel",
          "model_module_version": "1.5.0",
          "state": {
            "_model_module": "@jupyter-widgets/controls",
            "_model_module_version": "1.5.0",
            "_model_name": "DescriptionStyleModel",
            "_view_count": null,
            "_view_module": "@jupyter-widgets/base",
            "_view_module_version": "1.2.0",
            "_view_name": "StyleView",
            "description_width": ""
          }
        },
        "5829f86a15414ed8b4f6efd241ee61ea": {
          "model_module": "@jupyter-widgets/controls",
          "model_name": "HBoxModel",
          "model_module_version": "1.5.0",
          "state": {
            "_dom_classes": [],
            "_model_module": "@jupyter-widgets/controls",
            "_model_module_version": "1.5.0",
            "_model_name": "HBoxModel",
            "_view_count": null,
            "_view_module": "@jupyter-widgets/controls",
            "_view_module_version": "1.5.0",
            "_view_name": "HBoxView",
            "box_style": "",
            "children": [
              "IPY_MODEL_fb2ad1f6054e48c58e92513dfe23651b",
              "IPY_MODEL_77181dea2de249b094ada5cab9efe846",
              "IPY_MODEL_1320b39d71cc47d6a3276f0a308949f6"
            ],
            "layout": "IPY_MODEL_cf20b3c05370471f9d226698bc4bb9e1"
          }
        },
        "fb2ad1f6054e48c58e92513dfe23651b": {
          "model_module": "@jupyter-widgets/controls",
          "model_name": "HTMLModel",
          "model_module_version": "1.5.0",
          "state": {
            "_dom_classes": [],
            "_model_module": "@jupyter-widgets/controls",
            "_model_module_version": "1.5.0",
            "_model_name": "HTMLModel",
            "_view_count": null,
            "_view_module": "@jupyter-widgets/controls",
            "_view_module_version": "1.5.0",
            "_view_name": "HTMLView",
            "description": "",
            "description_tooltip": null,
            "layout": "IPY_MODEL_56c26a29c75f483fbe83c66a6e9fe2c9",
            "placeholder": "​",
            "style": "IPY_MODEL_e46519c1031a48bea793ba936731c147",
            "value": "tokenizer.json: 100%"
          }
        },
        "77181dea2de249b094ada5cab9efe846": {
          "model_module": "@jupyter-widgets/controls",
          "model_name": "FloatProgressModel",
          "model_module_version": "1.5.0",
          "state": {
            "_dom_classes": [],
            "_model_module": "@jupyter-widgets/controls",
            "_model_module_version": "1.5.0",
            "_model_name": "FloatProgressModel",
            "_view_count": null,
            "_view_module": "@jupyter-widgets/controls",
            "_view_module_version": "1.5.0",
            "_view_name": "ProgressView",
            "bar_style": "success",
            "description": "",
            "description_tooltip": null,
            "layout": "IPY_MODEL_bc573ec37e81447fa6d1f41b6e10cc8a",
            "max": 466062,
            "min": 0,
            "orientation": "horizontal",
            "style": "IPY_MODEL_ffea4a1f861c42da8f6764483d49153f",
            "value": 466062
          }
        },
        "1320b39d71cc47d6a3276f0a308949f6": {
          "model_module": "@jupyter-widgets/controls",
          "model_name": "HTMLModel",
          "model_module_version": "1.5.0",
          "state": {
            "_dom_classes": [],
            "_model_module": "@jupyter-widgets/controls",
            "_model_module_version": "1.5.0",
            "_model_name": "HTMLModel",
            "_view_count": null,
            "_view_module": "@jupyter-widgets/controls",
            "_view_module_version": "1.5.0",
            "_view_name": "HTMLView",
            "description": "",
            "description_tooltip": null,
            "layout": "IPY_MODEL_3030c23b48f1472ab55666014bad9f1c",
            "placeholder": "​",
            "style": "IPY_MODEL_a8646f7008f343ac9d382987cbf2c291",
            "value": " 466k/466k [00:00&lt;00:00, 11.7MB/s]"
          }
        },
        "cf20b3c05370471f9d226698bc4bb9e1": {
          "model_module": "@jupyter-widgets/base",
          "model_name": "LayoutModel",
          "model_module_version": "1.2.0",
          "state": {
            "_model_module": "@jupyter-widgets/base",
            "_model_module_version": "1.2.0",
            "_model_name": "LayoutModel",
            "_view_count": null,
            "_view_module": "@jupyter-widgets/base",
            "_view_module_version": "1.2.0",
            "_view_name": "LayoutView",
            "align_content": null,
            "align_items": null,
            "align_self": null,
            "border": null,
            "bottom": null,
            "display": null,
            "flex": null,
            "flex_flow": null,
            "grid_area": null,
            "grid_auto_columns": null,
            "grid_auto_flow": null,
            "grid_auto_rows": null,
            "grid_column": null,
            "grid_gap": null,
            "grid_row": null,
            "grid_template_areas": null,
            "grid_template_columns": null,
            "grid_template_rows": null,
            "height": null,
            "justify_content": null,
            "justify_items": null,
            "left": null,
            "margin": null,
            "max_height": null,
            "max_width": null,
            "min_height": null,
            "min_width": null,
            "object_fit": null,
            "object_position": null,
            "order": null,
            "overflow": null,
            "overflow_x": null,
            "overflow_y": null,
            "padding": null,
            "right": null,
            "top": null,
            "visibility": null,
            "width": null
          }
        },
        "56c26a29c75f483fbe83c66a6e9fe2c9": {
          "model_module": "@jupyter-widgets/base",
          "model_name": "LayoutModel",
          "model_module_version": "1.2.0",
          "state": {
            "_model_module": "@jupyter-widgets/base",
            "_model_module_version": "1.2.0",
            "_model_name": "LayoutModel",
            "_view_count": null,
            "_view_module": "@jupyter-widgets/base",
            "_view_module_version": "1.2.0",
            "_view_name": "LayoutView",
            "align_content": null,
            "align_items": null,
            "align_self": null,
            "border": null,
            "bottom": null,
            "display": null,
            "flex": null,
            "flex_flow": null,
            "grid_area": null,
            "grid_auto_columns": null,
            "grid_auto_flow": null,
            "grid_auto_rows": null,
            "grid_column": null,
            "grid_gap": null,
            "grid_row": null,
            "grid_template_areas": null,
            "grid_template_columns": null,
            "grid_template_rows": null,
            "height": null,
            "justify_content": null,
            "justify_items": null,
            "left": null,
            "margin": null,
            "max_height": null,
            "max_width": null,
            "min_height": null,
            "min_width": null,
            "object_fit": null,
            "object_position": null,
            "order": null,
            "overflow": null,
            "overflow_x": null,
            "overflow_y": null,
            "padding": null,
            "right": null,
            "top": null,
            "visibility": null,
            "width": null
          }
        },
        "e46519c1031a48bea793ba936731c147": {
          "model_module": "@jupyter-widgets/controls",
          "model_name": "DescriptionStyleModel",
          "model_module_version": "1.5.0",
          "state": {
            "_model_module": "@jupyter-widgets/controls",
            "_model_module_version": "1.5.0",
            "_model_name": "DescriptionStyleModel",
            "_view_count": null,
            "_view_module": "@jupyter-widgets/base",
            "_view_module_version": "1.2.0",
            "_view_name": "StyleView",
            "description_width": ""
          }
        },
        "bc573ec37e81447fa6d1f41b6e10cc8a": {
          "model_module": "@jupyter-widgets/base",
          "model_name": "LayoutModel",
          "model_module_version": "1.2.0",
          "state": {
            "_model_module": "@jupyter-widgets/base",
            "_model_module_version": "1.2.0",
            "_model_name": "LayoutModel",
            "_view_count": null,
            "_view_module": "@jupyter-widgets/base",
            "_view_module_version": "1.2.0",
            "_view_name": "LayoutView",
            "align_content": null,
            "align_items": null,
            "align_self": null,
            "border": null,
            "bottom": null,
            "display": null,
            "flex": null,
            "flex_flow": null,
            "grid_area": null,
            "grid_auto_columns": null,
            "grid_auto_flow": null,
            "grid_auto_rows": null,
            "grid_column": null,
            "grid_gap": null,
            "grid_row": null,
            "grid_template_areas": null,
            "grid_template_columns": null,
            "grid_template_rows": null,
            "height": null,
            "justify_content": null,
            "justify_items": null,
            "left": null,
            "margin": null,
            "max_height": null,
            "max_width": null,
            "min_height": null,
            "min_width": null,
            "object_fit": null,
            "object_position": null,
            "order": null,
            "overflow": null,
            "overflow_x": null,
            "overflow_y": null,
            "padding": null,
            "right": null,
            "top": null,
            "visibility": null,
            "width": null
          }
        },
        "ffea4a1f861c42da8f6764483d49153f": {
          "model_module": "@jupyter-widgets/controls",
          "model_name": "ProgressStyleModel",
          "model_module_version": "1.5.0",
          "state": {
            "_model_module": "@jupyter-widgets/controls",
            "_model_module_version": "1.5.0",
            "_model_name": "ProgressStyleModel",
            "_view_count": null,
            "_view_module": "@jupyter-widgets/base",
            "_view_module_version": "1.2.0",
            "_view_name": "StyleView",
            "bar_color": null,
            "description_width": ""
          }
        },
        "3030c23b48f1472ab55666014bad9f1c": {
          "model_module": "@jupyter-widgets/base",
          "model_name": "LayoutModel",
          "model_module_version": "1.2.0",
          "state": {
            "_model_module": "@jupyter-widgets/base",
            "_model_module_version": "1.2.0",
            "_model_name": "LayoutModel",
            "_view_count": null,
            "_view_module": "@jupyter-widgets/base",
            "_view_module_version": "1.2.0",
            "_view_name": "LayoutView",
            "align_content": null,
            "align_items": null,
            "align_self": null,
            "border": null,
            "bottom": null,
            "display": null,
            "flex": null,
            "flex_flow": null,
            "grid_area": null,
            "grid_auto_columns": null,
            "grid_auto_flow": null,
            "grid_auto_rows": null,
            "grid_column": null,
            "grid_gap": null,
            "grid_row": null,
            "grid_template_areas": null,
            "grid_template_columns": null,
            "grid_template_rows": null,
            "height": null,
            "justify_content": null,
            "justify_items": null,
            "left": null,
            "margin": null,
            "max_height": null,
            "max_width": null,
            "min_height": null,
            "min_width": null,
            "object_fit": null,
            "object_position": null,
            "order": null,
            "overflow": null,
            "overflow_x": null,
            "overflow_y": null,
            "padding": null,
            "right": null,
            "top": null,
            "visibility": null,
            "width": null
          }
        },
        "a8646f7008f343ac9d382987cbf2c291": {
          "model_module": "@jupyter-widgets/controls",
          "model_name": "DescriptionStyleModel",
          "model_module_version": "1.5.0",
          "state": {
            "_model_module": "@jupyter-widgets/controls",
            "_model_module_version": "1.5.0",
            "_model_name": "DescriptionStyleModel",
            "_view_count": null,
            "_view_module": "@jupyter-widgets/base",
            "_view_module_version": "1.2.0",
            "_view_name": "StyleView",
            "description_width": ""
          }
        },
        "b960086a2470489c8fe519b1248ec2fb": {
          "model_module": "@jupyter-widgets/controls",
          "model_name": "HBoxModel",
          "model_module_version": "1.5.0",
          "state": {
            "_dom_classes": [],
            "_model_module": "@jupyter-widgets/controls",
            "_model_module_version": "1.5.0",
            "_model_name": "HBoxModel",
            "_view_count": null,
            "_view_module": "@jupyter-widgets/controls",
            "_view_module_version": "1.5.0",
            "_view_name": "HBoxView",
            "box_style": "",
            "children": [
              "IPY_MODEL_399bc6a6d2d248a4a500c78598f76186",
              "IPY_MODEL_3fd5666041c74b889ce7dc7f887e8293",
              "IPY_MODEL_f2e2dafc22cb45c38ef8dd51392cd8c3"
            ],
            "layout": "IPY_MODEL_7a379e899d814dd0a8da342ada71a0f9"
          }
        },
        "399bc6a6d2d248a4a500c78598f76186": {
          "model_module": "@jupyter-widgets/controls",
          "model_name": "HTMLModel",
          "model_module_version": "1.5.0",
          "state": {
            "_dom_classes": [],
            "_model_module": "@jupyter-widgets/controls",
            "_model_module_version": "1.5.0",
            "_model_name": "HTMLModel",
            "_view_count": null,
            "_view_module": "@jupyter-widgets/controls",
            "_view_module_version": "1.5.0",
            "_view_name": "HTMLView",
            "description": "",
            "description_tooltip": null,
            "layout": "IPY_MODEL_7b9769af325c46589d4bf004aabc63f3",
            "placeholder": "​",
            "style": "IPY_MODEL_5c2e6ba8efd84782aa7e8c6556aaa5fd",
            "value": "model.safetensors: 100%"
          }
        },
        "3fd5666041c74b889ce7dc7f887e8293": {
          "model_module": "@jupyter-widgets/controls",
          "model_name": "FloatProgressModel",
          "model_module_version": "1.5.0",
          "state": {
            "_dom_classes": [],
            "_model_module": "@jupyter-widgets/controls",
            "_model_module_version": "1.5.0",
            "_model_name": "FloatProgressModel",
            "_view_count": null,
            "_view_module": "@jupyter-widgets/controls",
            "_view_module_version": "1.5.0",
            "_view_name": "ProgressView",
            "bar_style": "success",
            "description": "",
            "description_tooltip": null,
            "layout": "IPY_MODEL_5d41bf92724b40dfa9ca10218b4cd86a",
            "max": 267954768,
            "min": 0,
            "orientation": "horizontal",
            "style": "IPY_MODEL_d0faf413e7474c8e9744bbfd996d437f",
            "value": 267954768
          }
        },
        "f2e2dafc22cb45c38ef8dd51392cd8c3": {
          "model_module": "@jupyter-widgets/controls",
          "model_name": "HTMLModel",
          "model_module_version": "1.5.0",
          "state": {
            "_dom_classes": [],
            "_model_module": "@jupyter-widgets/controls",
            "_model_module_version": "1.5.0",
            "_model_name": "HTMLModel",
            "_view_count": null,
            "_view_module": "@jupyter-widgets/controls",
            "_view_module_version": "1.5.0",
            "_view_name": "HTMLView",
            "description": "",
            "description_tooltip": null,
            "layout": "IPY_MODEL_96959c969ef44154908e5012d672a08f",
            "placeholder": "​",
            "style": "IPY_MODEL_6d417cf29f5c40d6bcd2b9fe6682471a",
            "value": " 268M/268M [00:01&lt;00:00, 150MB/s]"
          }
        },
        "7a379e899d814dd0a8da342ada71a0f9": {
          "model_module": "@jupyter-widgets/base",
          "model_name": "LayoutModel",
          "model_module_version": "1.2.0",
          "state": {
            "_model_module": "@jupyter-widgets/base",
            "_model_module_version": "1.2.0",
            "_model_name": "LayoutModel",
            "_view_count": null,
            "_view_module": "@jupyter-widgets/base",
            "_view_module_version": "1.2.0",
            "_view_name": "LayoutView",
            "align_content": null,
            "align_items": null,
            "align_self": null,
            "border": null,
            "bottom": null,
            "display": null,
            "flex": null,
            "flex_flow": null,
            "grid_area": null,
            "grid_auto_columns": null,
            "grid_auto_flow": null,
            "grid_auto_rows": null,
            "grid_column": null,
            "grid_gap": null,
            "grid_row": null,
            "grid_template_areas": null,
            "grid_template_columns": null,
            "grid_template_rows": null,
            "height": null,
            "justify_content": null,
            "justify_items": null,
            "left": null,
            "margin": null,
            "max_height": null,
            "max_width": null,
            "min_height": null,
            "min_width": null,
            "object_fit": null,
            "object_position": null,
            "order": null,
            "overflow": null,
            "overflow_x": null,
            "overflow_y": null,
            "padding": null,
            "right": null,
            "top": null,
            "visibility": null,
            "width": null
          }
        },
        "7b9769af325c46589d4bf004aabc63f3": {
          "model_module": "@jupyter-widgets/base",
          "model_name": "LayoutModel",
          "model_module_version": "1.2.0",
          "state": {
            "_model_module": "@jupyter-widgets/base",
            "_model_module_version": "1.2.0",
            "_model_name": "LayoutModel",
            "_view_count": null,
            "_view_module": "@jupyter-widgets/base",
            "_view_module_version": "1.2.0",
            "_view_name": "LayoutView",
            "align_content": null,
            "align_items": null,
            "align_self": null,
            "border": null,
            "bottom": null,
            "display": null,
            "flex": null,
            "flex_flow": null,
            "grid_area": null,
            "grid_auto_columns": null,
            "grid_auto_flow": null,
            "grid_auto_rows": null,
            "grid_column": null,
            "grid_gap": null,
            "grid_row": null,
            "grid_template_areas": null,
            "grid_template_columns": null,
            "grid_template_rows": null,
            "height": null,
            "justify_content": null,
            "justify_items": null,
            "left": null,
            "margin": null,
            "max_height": null,
            "max_width": null,
            "min_height": null,
            "min_width": null,
            "object_fit": null,
            "object_position": null,
            "order": null,
            "overflow": null,
            "overflow_x": null,
            "overflow_y": null,
            "padding": null,
            "right": null,
            "top": null,
            "visibility": null,
            "width": null
          }
        },
        "5c2e6ba8efd84782aa7e8c6556aaa5fd": {
          "model_module": "@jupyter-widgets/controls",
          "model_name": "DescriptionStyleModel",
          "model_module_version": "1.5.0",
          "state": {
            "_model_module": "@jupyter-widgets/controls",
            "_model_module_version": "1.5.0",
            "_model_name": "DescriptionStyleModel",
            "_view_count": null,
            "_view_module": "@jupyter-widgets/base",
            "_view_module_version": "1.2.0",
            "_view_name": "StyleView",
            "description_width": ""
          }
        },
        "5d41bf92724b40dfa9ca10218b4cd86a": {
          "model_module": "@jupyter-widgets/base",
          "model_name": "LayoutModel",
          "model_module_version": "1.2.0",
          "state": {
            "_model_module": "@jupyter-widgets/base",
            "_model_module_version": "1.2.0",
            "_model_name": "LayoutModel",
            "_view_count": null,
            "_view_module": "@jupyter-widgets/base",
            "_view_module_version": "1.2.0",
            "_view_name": "LayoutView",
            "align_content": null,
            "align_items": null,
            "align_self": null,
            "border": null,
            "bottom": null,
            "display": null,
            "flex": null,
            "flex_flow": null,
            "grid_area": null,
            "grid_auto_columns": null,
            "grid_auto_flow": null,
            "grid_auto_rows": null,
            "grid_column": null,
            "grid_gap": null,
            "grid_row": null,
            "grid_template_areas": null,
            "grid_template_columns": null,
            "grid_template_rows": null,
            "height": null,
            "justify_content": null,
            "justify_items": null,
            "left": null,
            "margin": null,
            "max_height": null,
            "max_width": null,
            "min_height": null,
            "min_width": null,
            "object_fit": null,
            "object_position": null,
            "order": null,
            "overflow": null,
            "overflow_x": null,
            "overflow_y": null,
            "padding": null,
            "right": null,
            "top": null,
            "visibility": null,
            "width": null
          }
        },
        "d0faf413e7474c8e9744bbfd996d437f": {
          "model_module": "@jupyter-widgets/controls",
          "model_name": "ProgressStyleModel",
          "model_module_version": "1.5.0",
          "state": {
            "_model_module": "@jupyter-widgets/controls",
            "_model_module_version": "1.5.0",
            "_model_name": "ProgressStyleModel",
            "_view_count": null,
            "_view_module": "@jupyter-widgets/base",
            "_view_module_version": "1.2.0",
            "_view_name": "StyleView",
            "bar_color": null,
            "description_width": ""
          }
        },
        "96959c969ef44154908e5012d672a08f": {
          "model_module": "@jupyter-widgets/base",
          "model_name": "LayoutModel",
          "model_module_version": "1.2.0",
          "state": {
            "_model_module": "@jupyter-widgets/base",
            "_model_module_version": "1.2.0",
            "_model_name": "LayoutModel",
            "_view_count": null,
            "_view_module": "@jupyter-widgets/base",
            "_view_module_version": "1.2.0",
            "_view_name": "LayoutView",
            "align_content": null,
            "align_items": null,
            "align_self": null,
            "border": null,
            "bottom": null,
            "display": null,
            "flex": null,
            "flex_flow": null,
            "grid_area": null,
            "grid_auto_columns": null,
            "grid_auto_flow": null,
            "grid_auto_rows": null,
            "grid_column": null,
            "grid_gap": null,
            "grid_row": null,
            "grid_template_areas": null,
            "grid_template_columns": null,
            "grid_template_rows": null,
            "height": null,
            "justify_content": null,
            "justify_items": null,
            "left": null,
            "margin": null,
            "max_height": null,
            "max_width": null,
            "min_height": null,
            "min_width": null,
            "object_fit": null,
            "object_position": null,
            "order": null,
            "overflow": null,
            "overflow_x": null,
            "overflow_y": null,
            "padding": null,
            "right": null,
            "top": null,
            "visibility": null,
            "width": null
          }
        },
        "6d417cf29f5c40d6bcd2b9fe6682471a": {
          "model_module": "@jupyter-widgets/controls",
          "model_name": "DescriptionStyleModel",
          "model_module_version": "1.5.0",
          "state": {
            "_model_module": "@jupyter-widgets/controls",
            "_model_module_version": "1.5.0",
            "_model_name": "DescriptionStyleModel",
            "_view_count": null,
            "_view_module": "@jupyter-widgets/base",
            "_view_module_version": "1.2.0",
            "_view_name": "StyleView",
            "description_width": ""
          }
        }
      }
    }
  },
  "nbformat": 4,
  "nbformat_minor": 0
}